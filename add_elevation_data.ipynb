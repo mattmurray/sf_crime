{
 "cells": [
  {
   "cell_type": "markdown",
   "metadata": {},
   "source": [
    "# Adding Elevation Data to the Data Set"
   ]
  },
  {
   "cell_type": "markdown",
   "metadata": {},
   "source": [
    "## Imports"
   ]
  },
  {
   "cell_type": "code",
   "execution_count": 1,
   "metadata": {},
   "outputs": [],
   "source": [
    "import pandas as pd\n",
    "import numpy as np\n",
    "import pickle\n",
    "import sys\n",
    "import pandas.core.indexes\n",
    "sys.modules['pandas.indexes'] = pandas.core.indexes\n",
    "import pandas.core.base, pandas.core.indexes.frozen\n",
    "setattr(sys.modules['pandas.core.base'],'FrozenNDArray', pandas.core.indexes.frozen.FrozenNDArray)"
   ]
  },
  {
   "cell_type": "markdown",
   "metadata": {},
   "source": [
    "## Load Data"
   ]
  },
  {
   "cell_type": "code",
   "execution_count": 2,
   "metadata": {},
   "outputs": [],
   "source": [
    "df = pd.read_pickle('complete_data_set.pkl')"
   ]
  },
  {
   "cell_type": "code",
   "execution_count": 3,
   "metadata": {},
   "outputs": [
    {
     "data": {
      "text/html": [
       "<div>\n",
       "<style>\n",
       "    .dataframe thead tr:only-child th {\n",
       "        text-align: right;\n",
       "    }\n",
       "\n",
       "    .dataframe thead th {\n",
       "        text-align: left;\n",
       "    }\n",
       "\n",
       "    .dataframe tbody tr th {\n",
       "        vertical-align: top;\n",
       "    }\n",
       "</style>\n",
       "<table border=\"1\" class=\"dataframe\">\n",
       "  <thead>\n",
       "    <tr style=\"text-align: right;\">\n",
       "      <th></th>\n",
       "      <th>category</th>\n",
       "      <th>description</th>\n",
       "      <th>day_of_week</th>\n",
       "      <th>pd_district</th>\n",
       "      <th>resolution</th>\n",
       "      <th>address</th>\n",
       "      <th>longitude</th>\n",
       "      <th>latitude</th>\n",
       "      <th>date_time</th>\n",
       "      <th>hour_of_day</th>\n",
       "      <th>...</th>\n",
       "      <th>num_close_train_stations</th>\n",
       "      <th>dist_to_police_station</th>\n",
       "      <th>num_close_police_stations</th>\n",
       "      <th>dist_to_dispensary</th>\n",
       "      <th>num_close_dispensaries</th>\n",
       "      <th>dist_to_health_facility</th>\n",
       "      <th>num_close_health_facilities</th>\n",
       "      <th>dist_to_shelter</th>\n",
       "      <th>num_close_shelters</th>\n",
       "      <th>dist_to_union_sq</th>\n",
       "    </tr>\n",
       "  </thead>\n",
       "  <tbody>\n",
       "    <tr>\n",
       "      <th>0</th>\n",
       "      <td>ASSAULT</td>\n",
       "      <td>BATTERY</td>\n",
       "      <td>Tuesday</td>\n",
       "      <td>TARAVAL</td>\n",
       "      <td>ARREST, BOOKED</td>\n",
       "      <td>3200 Block of 20TH AV</td>\n",
       "      <td>-122.475647</td>\n",
       "      <td>37.728528</td>\n",
       "      <td>2017-01-03 17:43:00</td>\n",
       "      <td>17</td>\n",
       "      <td>...</td>\n",
       "      <td>0</td>\n",
       "      <td>0.016293</td>\n",
       "      <td>0</td>\n",
       "      <td>0.012360</td>\n",
       "      <td>0</td>\n",
       "      <td>0.020727</td>\n",
       "      <td>0</td>\n",
       "      <td>0.025694</td>\n",
       "      <td>0</td>\n",
       "      <td>0.090486</td>\n",
       "    </tr>\n",
       "    <tr>\n",
       "      <th>1</th>\n",
       "      <td>LARCENY/THEFT</td>\n",
       "      <td>PETTY THEFT SHOPLIFTING</td>\n",
       "      <td>Tuesday</td>\n",
       "      <td>TARAVAL</td>\n",
       "      <td>ARREST, BOOKED</td>\n",
       "      <td>3200 Block of 20TH AV</td>\n",
       "      <td>-122.475647</td>\n",
       "      <td>37.728528</td>\n",
       "      <td>2017-01-03 17:43:00</td>\n",
       "      <td>17</td>\n",
       "      <td>...</td>\n",
       "      <td>0</td>\n",
       "      <td>0.016293</td>\n",
       "      <td>0</td>\n",
       "      <td>0.012360</td>\n",
       "      <td>0</td>\n",
       "      <td>0.020727</td>\n",
       "      <td>0</td>\n",
       "      <td>0.025694</td>\n",
       "      <td>0</td>\n",
       "      <td>0.090486</td>\n",
       "    </tr>\n",
       "    <tr>\n",
       "      <th>2</th>\n",
       "      <td>ASSAULT</td>\n",
       "      <td>AGGRAVATED ASSAULT WITH A KNIFE</td>\n",
       "      <td>Tuesday</td>\n",
       "      <td>NORTHERN</td>\n",
       "      <td>NONE</td>\n",
       "      <td>0 Block of GROVE ST</td>\n",
       "      <td>-122.417430</td>\n",
       "      <td>37.778535</td>\n",
       "      <td>2017-01-03 18:10:00</td>\n",
       "      <td>18</td>\n",
       "      <td>...</td>\n",
       "      <td>1</td>\n",
       "      <td>0.006849</td>\n",
       "      <td>1</td>\n",
       "      <td>0.003571</td>\n",
       "      <td>6</td>\n",
       "      <td>0.001241</td>\n",
       "      <td>19</td>\n",
       "      <td>0.002551</td>\n",
       "      <td>38</td>\n",
       "      <td>0.013757</td>\n",
       "    </tr>\n",
       "    <tr>\n",
       "      <th>3</th>\n",
       "      <td>LARCENY/THEFT</td>\n",
       "      <td>PETTY THEFT FROM LOCKED AUTO</td>\n",
       "      <td>Monday</td>\n",
       "      <td>MISSION</td>\n",
       "      <td>NONE</td>\n",
       "      <td>ELIZABETH ST / GUERRERO ST</td>\n",
       "      <td>-122.422953</td>\n",
       "      <td>37.752776</td>\n",
       "      <td>2017-01-02 15:00:00</td>\n",
       "      <td>15</td>\n",
       "      <td>...</td>\n",
       "      <td>1</td>\n",
       "      <td>0.010118</td>\n",
       "      <td>0</td>\n",
       "      <td>0.005320</td>\n",
       "      <td>4</td>\n",
       "      <td>0.005030</td>\n",
       "      <td>7</td>\n",
       "      <td>0.004227</td>\n",
       "      <td>6</td>\n",
       "      <td>0.038516</td>\n",
       "    </tr>\n",
       "    <tr>\n",
       "      <th>4</th>\n",
       "      <td>LARCENY/THEFT</td>\n",
       "      <td>PETTY THEFT FROM LOCKED AUTO</td>\n",
       "      <td>Tuesday</td>\n",
       "      <td>TARAVAL</td>\n",
       "      <td>NONE</td>\n",
       "      <td>3200 Block of 20TH AV</td>\n",
       "      <td>-122.475647</td>\n",
       "      <td>37.728528</td>\n",
       "      <td>2017-01-03 13:44:00</td>\n",
       "      <td>13</td>\n",
       "      <td>...</td>\n",
       "      <td>0</td>\n",
       "      <td>0.016293</td>\n",
       "      <td>0</td>\n",
       "      <td>0.012360</td>\n",
       "      <td>0</td>\n",
       "      <td>0.020727</td>\n",
       "      <td>0</td>\n",
       "      <td>0.025694</td>\n",
       "      <td>0</td>\n",
       "      <td>0.090486</td>\n",
       "    </tr>\n",
       "  </tbody>\n",
       "</table>\n",
       "<p>5 rows × 31 columns</p>\n",
       "</div>"
      ],
      "text/plain": [
       "        category                      description day_of_week pd_district  \\\n",
       "0        ASSAULT                          BATTERY     Tuesday     TARAVAL   \n",
       "1  LARCENY/THEFT          PETTY THEFT SHOPLIFTING     Tuesday     TARAVAL   \n",
       "2        ASSAULT  AGGRAVATED ASSAULT WITH A KNIFE     Tuesday    NORTHERN   \n",
       "3  LARCENY/THEFT     PETTY THEFT FROM LOCKED AUTO      Monday     MISSION   \n",
       "4  LARCENY/THEFT     PETTY THEFT FROM LOCKED AUTO     Tuesday     TARAVAL   \n",
       "\n",
       "       resolution                     address   longitude   latitude  \\\n",
       "0  ARREST, BOOKED       3200 Block of 20TH AV -122.475647  37.728528   \n",
       "1  ARREST, BOOKED       3200 Block of 20TH AV -122.475647  37.728528   \n",
       "2            NONE         0 Block of GROVE ST -122.417430  37.778535   \n",
       "3            NONE  ELIZABETH ST / GUERRERO ST -122.422953  37.752776   \n",
       "4            NONE       3200 Block of 20TH AV -122.475647  37.728528   \n",
       "\n",
       "            date_time  hour_of_day        ...        num_close_train_stations  \\\n",
       "0 2017-01-03 17:43:00           17        ...                               0   \n",
       "1 2017-01-03 17:43:00           17        ...                               0   \n",
       "2 2017-01-03 18:10:00           18        ...                               1   \n",
       "3 2017-01-02 15:00:00           15        ...                               1   \n",
       "4 2017-01-03 13:44:00           13        ...                               0   \n",
       "\n",
       "  dist_to_police_station num_close_police_stations  dist_to_dispensary  \\\n",
       "0               0.016293                         0            0.012360   \n",
       "1               0.016293                         0            0.012360   \n",
       "2               0.006849                         1            0.003571   \n",
       "3               0.010118                         0            0.005320   \n",
       "4               0.016293                         0            0.012360   \n",
       "\n",
       "  num_close_dispensaries dist_to_health_facility num_close_health_facilities  \\\n",
       "0                      0                0.020727                           0   \n",
       "1                      0                0.020727                           0   \n",
       "2                      6                0.001241                          19   \n",
       "3                      4                0.005030                           7   \n",
       "4                      0                0.020727                           0   \n",
       "\n",
       "  dist_to_shelter  num_close_shelters  dist_to_union_sq  \n",
       "0        0.025694                   0          0.090486  \n",
       "1        0.025694                   0          0.090486  \n",
       "2        0.002551                  38          0.013757  \n",
       "3        0.004227                   6          0.038516  \n",
       "4        0.025694                   0          0.090486  \n",
       "\n",
       "[5 rows x 31 columns]"
      ]
     },
     "execution_count": 3,
     "metadata": {},
     "output_type": "execute_result"
    }
   ],
   "source": [
    "df.head()"
   ]
  },
  {
   "cell_type": "code",
   "execution_count": 4,
   "metadata": {},
   "outputs": [
    {
     "data": {
      "text/plain": [
       "(125201, 31)"
      ]
     },
     "execution_count": 4,
     "metadata": {},
     "output_type": "execute_result"
    }
   ],
   "source": [
    "df.shape"
   ]
  },
  {
   "cell_type": "markdown",
   "metadata": {},
   "source": [
    "### Add Elevation Data"
   ]
  },
  {
   "cell_type": "code",
   "execution_count": 5,
   "metadata": {},
   "outputs": [],
   "source": [
    "elevation_data = pd.read_csv('elevation_data.txt', delimiter='\\t')"
   ]
  },
  {
   "cell_type": "code",
   "execution_count": 6,
   "metadata": {},
   "outputs": [
    {
     "data": {
      "text/plain": [
       "(125201, 5)"
      ]
     },
     "execution_count": 6,
     "metadata": {},
     "output_type": "execute_result"
    }
   ],
   "source": [
    "elevation_data.shape"
   ]
  },
  {
   "cell_type": "code",
   "execution_count": 7,
   "metadata": {},
   "outputs": [],
   "source": [
    "elevation_data = elevation_data[['latitude','longitude','altitude (m)']]"
   ]
  },
  {
   "cell_type": "code",
   "execution_count": 8,
   "metadata": {},
   "outputs": [
    {
     "data": {
      "text/html": [
       "<div>\n",
       "<style>\n",
       "    .dataframe thead tr:only-child th {\n",
       "        text-align: right;\n",
       "    }\n",
       "\n",
       "    .dataframe thead th {\n",
       "        text-align: left;\n",
       "    }\n",
       "\n",
       "    .dataframe tbody tr th {\n",
       "        vertical-align: top;\n",
       "    }\n",
       "</style>\n",
       "<table border=\"1\" class=\"dataframe\">\n",
       "  <thead>\n",
       "    <tr style=\"text-align: right;\">\n",
       "      <th></th>\n",
       "      <th>latitude</th>\n",
       "      <th>longitude</th>\n",
       "      <th>altitude (m)</th>\n",
       "    </tr>\n",
       "  </thead>\n",
       "  <tbody>\n",
       "    <tr>\n",
       "      <th>0</th>\n",
       "      <td>37.728528</td>\n",
       "      <td>-122.475647</td>\n",
       "      <td>53.5</td>\n",
       "    </tr>\n",
       "    <tr>\n",
       "      <th>1</th>\n",
       "      <td>37.728528</td>\n",
       "      <td>-122.475647</td>\n",
       "      <td>53.5</td>\n",
       "    </tr>\n",
       "    <tr>\n",
       "      <th>2</th>\n",
       "      <td>37.778535</td>\n",
       "      <td>-122.417430</td>\n",
       "      <td>18.7</td>\n",
       "    </tr>\n",
       "    <tr>\n",
       "      <th>3</th>\n",
       "      <td>37.752776</td>\n",
       "      <td>-122.422953</td>\n",
       "      <td>34.4</td>\n",
       "    </tr>\n",
       "    <tr>\n",
       "      <th>4</th>\n",
       "      <td>37.728528</td>\n",
       "      <td>-122.475647</td>\n",
       "      <td>53.5</td>\n",
       "    </tr>\n",
       "  </tbody>\n",
       "</table>\n",
       "</div>"
      ],
      "text/plain": [
       "    latitude   longitude  altitude (m)\n",
       "0  37.728528 -122.475647          53.5\n",
       "1  37.728528 -122.475647          53.5\n",
       "2  37.778535 -122.417430          18.7\n",
       "3  37.752776 -122.422953          34.4\n",
       "4  37.728528 -122.475647          53.5"
      ]
     },
     "execution_count": 8,
     "metadata": {},
     "output_type": "execute_result"
    }
   ],
   "source": [
    "elevation_data.head()"
   ]
  },
  {
   "cell_type": "code",
   "execution_count": 9,
   "metadata": {},
   "outputs": [],
   "source": [
    "elevation_data = elevation_data['altitude (m)']"
   ]
  },
  {
   "cell_type": "code",
   "execution_count": 10,
   "metadata": {
    "collapsed": true
   },
   "outputs": [],
   "source": [
    "new_df = pd.concat([df, elevation_data], axis=1)"
   ]
  },
  {
   "cell_type": "code",
   "execution_count": 11,
   "metadata": {},
   "outputs": [
    {
     "data": {
      "text/plain": [
       "(125201, 32)"
      ]
     },
     "execution_count": 11,
     "metadata": {},
     "output_type": "execute_result"
    }
   ],
   "source": [
    "new_df.shape"
   ]
  },
  {
   "cell_type": "code",
   "execution_count": 12,
   "metadata": {},
   "outputs": [
    {
     "data": {
      "text/html": [
       "<div>\n",
       "<style>\n",
       "    .dataframe thead tr:only-child th {\n",
       "        text-align: right;\n",
       "    }\n",
       "\n",
       "    .dataframe thead th {\n",
       "        text-align: left;\n",
       "    }\n",
       "\n",
       "    .dataframe tbody tr th {\n",
       "        vertical-align: top;\n",
       "    }\n",
       "</style>\n",
       "<table border=\"1\" class=\"dataframe\">\n",
       "  <thead>\n",
       "    <tr style=\"text-align: right;\">\n",
       "      <th></th>\n",
       "      <th>category</th>\n",
       "      <th>description</th>\n",
       "      <th>day_of_week</th>\n",
       "      <th>pd_district</th>\n",
       "      <th>resolution</th>\n",
       "      <th>address</th>\n",
       "      <th>longitude</th>\n",
       "      <th>latitude</th>\n",
       "      <th>date_time</th>\n",
       "      <th>hour_of_day</th>\n",
       "      <th>...</th>\n",
       "      <th>dist_to_police_station</th>\n",
       "      <th>num_close_police_stations</th>\n",
       "      <th>dist_to_dispensary</th>\n",
       "      <th>num_close_dispensaries</th>\n",
       "      <th>dist_to_health_facility</th>\n",
       "      <th>num_close_health_facilities</th>\n",
       "      <th>dist_to_shelter</th>\n",
       "      <th>num_close_shelters</th>\n",
       "      <th>dist_to_union_sq</th>\n",
       "      <th>altitude (m)</th>\n",
       "    </tr>\n",
       "  </thead>\n",
       "  <tbody>\n",
       "    <tr>\n",
       "      <th>804</th>\n",
       "      <td>ASSAULT</td>\n",
       "      <td>AGGRAVATED ASSAULT WITH A KNIFE</td>\n",
       "      <td>Sunday</td>\n",
       "      <td>PARK</td>\n",
       "      <td>ARREST, BOOKED</td>\n",
       "      <td>1500 Block of FELL ST</td>\n",
       "      <td>-122.443417</td>\n",
       "      <td>37.773370</td>\n",
       "      <td>2017-01-08 09:00:00</td>\n",
       "      <td>9</td>\n",
       "      <td>...</td>\n",
       "      <td>0.012899</td>\n",
       "      <td>0</td>\n",
       "      <td>0.005588</td>\n",
       "      <td>1</td>\n",
       "      <td>0.006063</td>\n",
       "      <td>5</td>\n",
       "      <td>0.000702</td>\n",
       "      <td>9</td>\n",
       "      <td>0.038804</td>\n",
       "      <td>67.6</td>\n",
       "    </tr>\n",
       "    <tr>\n",
       "      <th>26771</th>\n",
       "      <td>LARCENY/THEFT</td>\n",
       "      <td>GRAND THEFT FROM UNLOCKED AUTO</td>\n",
       "      <td>Monday</td>\n",
       "      <td>MISSION</td>\n",
       "      <td>NONE</td>\n",
       "      <td>DOLORES ST / DORLAND ST</td>\n",
       "      <td>-122.426147</td>\n",
       "      <td>37.762159</td>\n",
       "      <td>2017-04-03 22:00:00</td>\n",
       "      <td>22</td>\n",
       "      <td>...</td>\n",
       "      <td>0.004199</td>\n",
       "      <td>1</td>\n",
       "      <td>0.005725</td>\n",
       "      <td>6</td>\n",
       "      <td>0.005721</td>\n",
       "      <td>4</td>\n",
       "      <td>0.002701</td>\n",
       "      <td>13</td>\n",
       "      <td>0.031912</td>\n",
       "      <td>18.8</td>\n",
       "    </tr>\n",
       "    <tr>\n",
       "      <th>86095</th>\n",
       "      <td>LARCENY/THEFT</td>\n",
       "      <td>GRAND THEFT FROM PERSON</td>\n",
       "      <td>Saturday</td>\n",
       "      <td>BAYVIEW</td>\n",
       "      <td>NONE</td>\n",
       "      <td>1200 Block of SHAFTER AV</td>\n",
       "      <td>-122.384242</td>\n",
       "      <td>37.727295</td>\n",
       "      <td>2016-12-10 14:56:00</td>\n",
       "      <td>14</td>\n",
       "      <td>...</td>\n",
       "      <td>0.013953</td>\n",
       "      <td>0</td>\n",
       "      <td>0.039653</td>\n",
       "      <td>0</td>\n",
       "      <td>0.008341</td>\n",
       "      <td>2</td>\n",
       "      <td>0.004412</td>\n",
       "      <td>1</td>\n",
       "      <td>0.065061</td>\n",
       "      <td>7.8</td>\n",
       "    </tr>\n",
       "    <tr>\n",
       "      <th>106738</th>\n",
       "      <td>VANDALISM</td>\n",
       "      <td>MALICIOUS MISCHIEF, VANDALISM</td>\n",
       "      <td>Wednesday</td>\n",
       "      <td>CENTRAL</td>\n",
       "      <td>NONE</td>\n",
       "      <td>SANSOME ST / BUSH ST</td>\n",
       "      <td>-122.400749</td>\n",
       "      <td>37.791178</td>\n",
       "      <td>2016-10-19 07:00:00</td>\n",
       "      <td>7</td>\n",
       "      <td>...</td>\n",
       "      <td>0.011881</td>\n",
       "      <td>0</td>\n",
       "      <td>0.002967</td>\n",
       "      <td>3</td>\n",
       "      <td>0.007269</td>\n",
       "      <td>3</td>\n",
       "      <td>0.001393</td>\n",
       "      <td>16</td>\n",
       "      <td>0.007438</td>\n",
       "      <td>7.0</td>\n",
       "    </tr>\n",
       "    <tr>\n",
       "      <th>58110</th>\n",
       "      <td>LARCENY/THEFT</td>\n",
       "      <td>GRAND THEFT FROM LOCKED AUTO</td>\n",
       "      <td>Saturday</td>\n",
       "      <td>CENTRAL</td>\n",
       "      <td>NONE</td>\n",
       "      <td>BAY ST / LEAVENWORTH ST</td>\n",
       "      <td>-122.418534</td>\n",
       "      <td>37.804998</td>\n",
       "      <td>2016-07-23 14:00:00</td>\n",
       "      <td>14</td>\n",
       "      <td>...</td>\n",
       "      <td>0.010653</td>\n",
       "      <td>0</td>\n",
       "      <td>0.018389</td>\n",
       "      <td>0</td>\n",
       "      <td>0.010526</td>\n",
       "      <td>0</td>\n",
       "      <td>0.013919</td>\n",
       "      <td>0</td>\n",
       "      <td>0.020218</td>\n",
       "      <td>21.7</td>\n",
       "    </tr>\n",
       "  </tbody>\n",
       "</table>\n",
       "<p>5 rows × 32 columns</p>\n",
       "</div>"
      ],
      "text/plain": [
       "             category                      description day_of_week  \\\n",
       "804           ASSAULT  AGGRAVATED ASSAULT WITH A KNIFE      Sunday   \n",
       "26771   LARCENY/THEFT   GRAND THEFT FROM UNLOCKED AUTO      Monday   \n",
       "86095   LARCENY/THEFT          GRAND THEFT FROM PERSON    Saturday   \n",
       "106738      VANDALISM    MALICIOUS MISCHIEF, VANDALISM   Wednesday   \n",
       "58110   LARCENY/THEFT     GRAND THEFT FROM LOCKED AUTO    Saturday   \n",
       "\n",
       "       pd_district      resolution                   address   longitude  \\\n",
       "804           PARK  ARREST, BOOKED     1500 Block of FELL ST -122.443417   \n",
       "26771      MISSION            NONE   DOLORES ST / DORLAND ST -122.426147   \n",
       "86095      BAYVIEW            NONE  1200 Block of SHAFTER AV -122.384242   \n",
       "106738     CENTRAL            NONE      SANSOME ST / BUSH ST -122.400749   \n",
       "58110      CENTRAL            NONE   BAY ST / LEAVENWORTH ST -122.418534   \n",
       "\n",
       "         latitude           date_time  hour_of_day      ...       \\\n",
       "804     37.773370 2017-01-08 09:00:00            9      ...        \n",
       "26771   37.762159 2017-04-03 22:00:00           22      ...        \n",
       "86095   37.727295 2016-12-10 14:56:00           14      ...        \n",
       "106738  37.791178 2016-10-19 07:00:00            7      ...        \n",
       "58110   37.804998 2016-07-23 14:00:00           14      ...        \n",
       "\n",
       "       dist_to_police_station num_close_police_stations dist_to_dispensary  \\\n",
       "804                  0.012899                         0           0.005588   \n",
       "26771                0.004199                         1           0.005725   \n",
       "86095                0.013953                         0           0.039653   \n",
       "106738               0.011881                         0           0.002967   \n",
       "58110                0.010653                         0           0.018389   \n",
       "\n",
       "        num_close_dispensaries dist_to_health_facility  \\\n",
       "804                          1                0.006063   \n",
       "26771                        6                0.005721   \n",
       "86095                        0                0.008341   \n",
       "106738                       3                0.007269   \n",
       "58110                        0                0.010526   \n",
       "\n",
       "       num_close_health_facilities dist_to_shelter num_close_shelters  \\\n",
       "804                              5        0.000702                  9   \n",
       "26771                            4        0.002701                 13   \n",
       "86095                            2        0.004412                  1   \n",
       "106738                           3        0.001393                 16   \n",
       "58110                            0        0.013919                  0   \n",
       "\n",
       "        dist_to_union_sq  altitude (m)  \n",
       "804             0.038804          67.6  \n",
       "26771           0.031912          18.8  \n",
       "86095           0.065061           7.8  \n",
       "106738          0.007438           7.0  \n",
       "58110           0.020218          21.7  \n",
       "\n",
       "[5 rows x 32 columns]"
      ]
     },
     "execution_count": 12,
     "metadata": {},
     "output_type": "execute_result"
    }
   ],
   "source": [
    "new_df.sample(5)"
   ]
  },
  {
   "cell_type": "code",
   "execution_count": 13,
   "metadata": {},
   "outputs": [],
   "source": [
    "new_df = new_df.rename(columns={'altitude (m)':'altitude'})"
   ]
  },
  {
   "cell_type": "code",
   "execution_count": 14,
   "metadata": {},
   "outputs": [
    {
     "data": {
      "text/plain": [
       "Index(['category', 'description', 'day_of_week', 'pd_district', 'resolution',\n",
       "       'address', 'longitude', 'latitude', 'date_time', 'hour_of_day', 'month',\n",
       "       'broad_category', 'geometry', 'id', 'pop10_sqmi', 'pop2010', 'sqmi',\n",
       "       'zip_code', 'median_income', 'z_index', 'dist_to_train_station',\n",
       "       'num_close_train_stations', 'dist_to_police_station',\n",
       "       'num_close_police_stations', 'dist_to_dispensary',\n",
       "       'num_close_dispensaries', 'dist_to_health_facility',\n",
       "       'num_close_health_facilities', 'dist_to_shelter', 'num_close_shelters',\n",
       "       'dist_to_union_sq', 'altitude'],\n",
       "      dtype='object')"
      ]
     },
     "execution_count": 14,
     "metadata": {},
     "output_type": "execute_result"
    }
   ],
   "source": [
    "new_df.columns"
   ]
  },
  {
   "cell_type": "markdown",
   "metadata": {},
   "source": [
    "### Save a copy of the new data set"
   ]
  },
  {
   "cell_type": "code",
   "execution_count": 15,
   "metadata": {
    "collapsed": true
   },
   "outputs": [],
   "source": [
    "new_df.to_csv('complete_data_set_inc_elevation.csv', index=None)"
   ]
  }
 ],
 "metadata": {
  "kernelspec": {
   "display_name": "Python 3",
   "language": "python",
   "name": "python3"
  },
  "language_info": {
   "codemirror_mode": {
    "name": "ipython",
    "version": 3
   },
   "file_extension": ".py",
   "mimetype": "text/x-python",
   "name": "python",
   "nbconvert_exporter": "python",
   "pygments_lexer": "ipython3",
   "version": "3.6.1"
  }
 },
 "nbformat": 4,
 "nbformat_minor": 2
}
