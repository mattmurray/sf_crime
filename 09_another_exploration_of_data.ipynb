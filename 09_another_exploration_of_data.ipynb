{
 "cells": [
  {
   "cell_type": "markdown",
   "metadata": {},
   "source": [
    "## Data Exploration"
   ]
  },
  {
   "cell_type": "markdown",
   "metadata": {},
   "source": [
    "### Imports"
   ]
  },
  {
   "cell_type": "code",
   "execution_count": 2,
   "metadata": {
    "collapsed": true,
    "deletable": true,
    "editable": true
   },
   "outputs": [],
   "source": [
    "import pandas as pd\n",
    "import numpy as np\n",
    "import seaborn as sns\n",
    "import datetime as dt\n",
    "import matplotlib.pyplot as plt\n",
    "%matplotlib inline\n",
    "\n",
    "import geopandas\n",
    "import geopandas.tools\n",
    "from shapely.geometry import Point"
   ]
  },
  {
   "cell_type": "markdown",
   "metadata": {},
   "source": [
    "### Load Data"
   ]
  },
  {
   "cell_type": "code",
   "execution_count": 3,
   "metadata": {
    "collapsed": false,
    "deletable": true,
    "editable": true
   },
   "outputs": [],
   "source": [
    "df = pd.read_csv('~/Desktop/all_data.csv')"
   ]
  },
  {
   "cell_type": "code",
   "execution_count": 4,
   "metadata": {
    "collapsed": false,
    "deletable": true,
    "editable": true
   },
   "outputs": [
    {
     "data": {
      "text/html": [
       "<div>\n",
       "<table border=\"1\" class=\"dataframe\">\n",
       "  <thead>\n",
       "    <tr style=\"text-align: right;\">\n",
       "      <th></th>\n",
       "      <th>incident_num</th>\n",
       "      <th>category</th>\n",
       "      <th>description</th>\n",
       "      <th>day_of_week</th>\n",
       "      <th>indicent_date</th>\n",
       "      <th>incident_time</th>\n",
       "      <th>pd_district</th>\n",
       "      <th>resolution</th>\n",
       "      <th>address</th>\n",
       "      <th>x</th>\n",
       "      <th>y</th>\n",
       "      <th>location</th>\n",
       "      <th>pd_id</th>\n",
       "      <th>geometry</th>\n",
       "      <th>index_right</th>\n",
       "      <th>neighborhood_name</th>\n",
       "    </tr>\n",
       "  </thead>\n",
       "  <tbody>\n",
       "    <tr>\n",
       "      <th>0</th>\n",
       "      <td>151101177.0</td>\n",
       "      <td>WARRANTS</td>\n",
       "      <td>WARRANT ARREST</td>\n",
       "      <td>Friday</td>\n",
       "      <td>2017-04-21</td>\n",
       "      <td>00:45:00</td>\n",
       "      <td>SOUTHERN</td>\n",
       "      <td>ARREST, BOOKED</td>\n",
       "      <td>800 Block of BRYANT ST</td>\n",
       "      <td>-122.403405</td>\n",
       "      <td>37.775421</td>\n",
       "      <td>(37.775420706711,-122.403404791479)</td>\n",
       "      <td>1.510000e+13</td>\n",
       "      <td>POINT (-122.4034048 37.77542071)</td>\n",
       "      <td>33.0</td>\n",
       "      <td>South of Market</td>\n",
       "    </tr>\n",
       "    <tr>\n",
       "      <th>1</th>\n",
       "      <td>141091334.0</td>\n",
       "      <td>BURGLARY</td>\n",
       "      <td>BURGLARY OF STORE, FORCIBLE ENTRY</td>\n",
       "      <td>Wednesday</td>\n",
       "      <td>2017-03-08</td>\n",
       "      <td>14:28:00</td>\n",
       "      <td>SOUTHERN</td>\n",
       "      <td>NONE</td>\n",
       "      <td>800 Block of BRYANT ST</td>\n",
       "      <td>-122.403405</td>\n",
       "      <td>37.775421</td>\n",
       "      <td>(37.775420706711,-122.403404791479)</td>\n",
       "      <td>1.410000e+13</td>\n",
       "      <td>POINT (-122.4034048 37.77542071)</td>\n",
       "      <td>33.0</td>\n",
       "      <td>South of Market</td>\n",
       "    </tr>\n",
       "  </tbody>\n",
       "</table>\n",
       "</div>"
      ],
      "text/plain": [
       "   incident_num  category                        description day_of_week  \\\n",
       "0   151101177.0  WARRANTS                     WARRANT ARREST      Friday   \n",
       "1   141091334.0  BURGLARY  BURGLARY OF STORE, FORCIBLE ENTRY   Wednesday   \n",
       "\n",
       "  indicent_date incident_time pd_district      resolution  \\\n",
       "0    2017-04-21      00:45:00    SOUTHERN  ARREST, BOOKED   \n",
       "1    2017-03-08      14:28:00    SOUTHERN            NONE   \n",
       "\n",
       "                  address           x          y  \\\n",
       "0  800 Block of BRYANT ST -122.403405  37.775421   \n",
       "1  800 Block of BRYANT ST -122.403405  37.775421   \n",
       "\n",
       "                              location         pd_id  \\\n",
       "0  (37.775420706711,-122.403404791479)  1.510000e+13   \n",
       "1  (37.775420706711,-122.403404791479)  1.410000e+13   \n",
       "\n",
       "                           geometry  index_right neighborhood_name  \n",
       "0  POINT (-122.4034048 37.77542071)         33.0   South of Market  \n",
       "1  POINT (-122.4034048 37.77542071)         33.0   South of Market  "
      ]
     },
     "execution_count": 4,
     "metadata": {},
     "output_type": "execute_result"
    }
   ],
   "source": [
    "df.head(2)"
   ]
  },
  {
   "cell_type": "code",
   "execution_count": 5,
   "metadata": {
    "collapsed": false,
    "deletable": true,
    "editable": true
   },
   "outputs": [
    {
     "data": {
      "text/html": [
       "<div>\n",
       "<table border=\"1\" class=\"dataframe\">\n",
       "  <thead>\n",
       "    <tr style=\"text-align: right;\">\n",
       "      <th></th>\n",
       "      <th>incident_num</th>\n",
       "      <th>category</th>\n",
       "      <th>description</th>\n",
       "      <th>day_of_week</th>\n",
       "      <th>indicent_date</th>\n",
       "      <th>incident_time</th>\n",
       "      <th>pd_district</th>\n",
       "      <th>resolution</th>\n",
       "      <th>address</th>\n",
       "      <th>x</th>\n",
       "      <th>y</th>\n",
       "      <th>location</th>\n",
       "      <th>pd_id</th>\n",
       "      <th>geometry</th>\n",
       "      <th>index_right</th>\n",
       "      <th>neighborhood_name</th>\n",
       "      <th>date_time</th>\n",
       "    </tr>\n",
       "  </thead>\n",
       "  <tbody>\n",
       "    <tr>\n",
       "      <th>0</th>\n",
       "      <td>151101177.0</td>\n",
       "      <td>WARRANTS</td>\n",
       "      <td>WARRANT ARREST</td>\n",
       "      <td>Friday</td>\n",
       "      <td>2017-04-21</td>\n",
       "      <td>00:45:00</td>\n",
       "      <td>SOUTHERN</td>\n",
       "      <td>ARREST, BOOKED</td>\n",
       "      <td>800 Block of BRYANT ST</td>\n",
       "      <td>-122.403405</td>\n",
       "      <td>37.775421</td>\n",
       "      <td>(37.775420706711,-122.403404791479)</td>\n",
       "      <td>1.510000e+13</td>\n",
       "      <td>POINT (-122.4034048 37.77542071)</td>\n",
       "      <td>33.0</td>\n",
       "      <td>South of Market</td>\n",
       "      <td>2017-04-21 00:45:00</td>\n",
       "    </tr>\n",
       "    <tr>\n",
       "      <th>1</th>\n",
       "      <td>141091334.0</td>\n",
       "      <td>BURGLARY</td>\n",
       "      <td>BURGLARY OF STORE, FORCIBLE ENTRY</td>\n",
       "      <td>Wednesday</td>\n",
       "      <td>2017-03-08</td>\n",
       "      <td>14:28:00</td>\n",
       "      <td>SOUTHERN</td>\n",
       "      <td>NONE</td>\n",
       "      <td>800 Block of BRYANT ST</td>\n",
       "      <td>-122.403405</td>\n",
       "      <td>37.775421</td>\n",
       "      <td>(37.775420706711,-122.403404791479)</td>\n",
       "      <td>1.410000e+13</td>\n",
       "      <td>POINT (-122.4034048 37.77542071)</td>\n",
       "      <td>33.0</td>\n",
       "      <td>South of Market</td>\n",
       "      <td>2017-03-08 14:28:00</td>\n",
       "    </tr>\n",
       "  </tbody>\n",
       "</table>\n",
       "</div>"
      ],
      "text/plain": [
       "   incident_num  category                        description day_of_week  \\\n",
       "0   151101177.0  WARRANTS                     WARRANT ARREST      Friday   \n",
       "1   141091334.0  BURGLARY  BURGLARY OF STORE, FORCIBLE ENTRY   Wednesday   \n",
       "\n",
       "  indicent_date incident_time pd_district      resolution  \\\n",
       "0    2017-04-21      00:45:00    SOUTHERN  ARREST, BOOKED   \n",
       "1    2017-03-08      14:28:00    SOUTHERN            NONE   \n",
       "\n",
       "                  address           x          y  \\\n",
       "0  800 Block of BRYANT ST -122.403405  37.775421   \n",
       "1  800 Block of BRYANT ST -122.403405  37.775421   \n",
       "\n",
       "                              location         pd_id  \\\n",
       "0  (37.775420706711,-122.403404791479)  1.510000e+13   \n",
       "1  (37.775420706711,-122.403404791479)  1.410000e+13   \n",
       "\n",
       "                           geometry  index_right neighborhood_name  \\\n",
       "0  POINT (-122.4034048 37.77542071)         33.0   South of Market   \n",
       "1  POINT (-122.4034048 37.77542071)         33.0   South of Market   \n",
       "\n",
       "             date_time  \n",
       "0  2017-04-21 00:45:00  \n",
       "1  2017-03-08 14:28:00  "
      ]
     },
     "execution_count": 5,
     "metadata": {},
     "output_type": "execute_result"
    }
   ],
   "source": [
    "df['date_time'] = df['indicent_date'] + ' ' + df['incident_time']\n",
    "df.head(2)"
   ]
  },
  {
   "cell_type": "code",
   "execution_count": 3,
   "metadata": {
    "collapsed": false,
    "deletable": true,
    "editable": true
   },
   "outputs": [],
   "source": [
    "df['date_time'] = df['date_time'].apply(lambda x: dt.datetime.strptime(x,'%Y-%m-%d %H:%M:%S'))\n",
    "df['hour_of_day'] = [r.hour for r in df['date_time']]\n",
    "df['month'] = df['date_time'].apply(lambda x: dt.datetime.strftime(x,'%b'))\n",
    "df.drop(['indicent_date','incident_time'], axis=1, inplace=True)"
   ]
  },
  {
   "cell_type": "code",
   "execution_count": 4,
   "metadata": {
    "collapsed": false,
    "deletable": true,
    "editable": true
   },
   "outputs": [],
   "source": [
    "def rename_categories(input_val):\n",
    "    if input_val in ['SEX OFFENSES, FORCIBLE','SEX OFFENSES, NON FORCIBLE','ROBBERY','ASSAULT','KIDNAPPING','SUICIDE','EXTORTION','BRIBERY','MISSING PERSON']:\n",
    "        return 'OFFENSES AGAINST THE PERSON'\n",
    "    elif input_val in ['BAD CHECKS','EMBEZZLEMENT','FORGERY/COUNTERFEITING','FRAUD']:\n",
    "        return 'WHITE COLLAR CRIME'\n",
    "    elif input_val in ['LARCENY/THEFT','VEHICLE THEFT']:\n",
    "        return 'THEFT'\n",
    "    elif input_val in ['BURGLARY','ARSON','VANDALISM','STOLEN PROPERTY','TRESPASS']:\n",
    "        return 'PROPERTY CRIME'\n",
    "    elif input_val in ['DRUG/NARCOTIC','PROSTITUTION','GAMBLING','PORNOGRAPHY/OBSCENE MAT','DISORDERLY CONDUCT','DRUNKENNESS','DRIVING UNDER THE INFLUENCE','LIQUOR LAWS']:\n",
    "        return 'SOCIAL ORDER OFFENSES'\n",
    "    elif input_val == 'SECONDARY CODES':\n",
    "        return 'DOMESTIC VIOLENCE AND JUVENILE CRIME'\n",
    "    elif input_val in ['SUSPICIOUS OCC','LOITERING','TREA']:\n",
    "        return 'SUSPICIOUS BEHAVIOR'\n",
    "    elif input_val in ['RUNAWAY','FAMILY OFFENSES','RECOVERED VEHICLE','WEAPON LAWS','WARRANTS']:\n",
    "        return 'OTHER OFFENSES'\n",
    "    else:\n",
    "        return input_val\n",
    "\n",
    "df['broad_category'] = df['category'].apply(rename_categories)"
   ]
  },
  {
   "cell_type": "code",
   "execution_count": 5,
   "metadata": {
    "collapsed": false,
    "deletable": true,
    "editable": true
   },
   "outputs": [
    {
     "data": {
      "text/html": [
       "<div>\n",
       "<table border=\"1\" class=\"dataframe\">\n",
       "  <thead>\n",
       "    <tr style=\"text-align: right;\">\n",
       "      <th></th>\n",
       "      <th>incident_num</th>\n",
       "      <th>category</th>\n",
       "      <th>description</th>\n",
       "      <th>day_of_week</th>\n",
       "      <th>pd_district</th>\n",
       "      <th>resolution</th>\n",
       "      <th>address</th>\n",
       "      <th>x</th>\n",
       "      <th>y</th>\n",
       "      <th>location</th>\n",
       "      <th>pd_id</th>\n",
       "      <th>geometry</th>\n",
       "      <th>index_right</th>\n",
       "      <th>neighborhood_name</th>\n",
       "      <th>date_time</th>\n",
       "      <th>hour_of_day</th>\n",
       "      <th>month</th>\n",
       "      <th>broad_category</th>\n",
       "    </tr>\n",
       "  </thead>\n",
       "  <tbody>\n",
       "    <tr>\n",
       "      <th>0</th>\n",
       "      <td>151101177.0</td>\n",
       "      <td>WARRANTS</td>\n",
       "      <td>WARRANT ARREST</td>\n",
       "      <td>Friday</td>\n",
       "      <td>SOUTHERN</td>\n",
       "      <td>ARREST, BOOKED</td>\n",
       "      <td>800 Block of BRYANT ST</td>\n",
       "      <td>-122.403405</td>\n",
       "      <td>37.775421</td>\n",
       "      <td>(37.775420706711,-122.403404791479)</td>\n",
       "      <td>1.510000e+13</td>\n",
       "      <td>POINT (-122.4034048 37.77542071)</td>\n",
       "      <td>33.0</td>\n",
       "      <td>South of Market</td>\n",
       "      <td>2017-04-21 00:45:00</td>\n",
       "      <td>0</td>\n",
       "      <td>Apr</td>\n",
       "      <td>OTHER OFFENSES</td>\n",
       "    </tr>\n",
       "    <tr>\n",
       "      <th>1</th>\n",
       "      <td>141091334.0</td>\n",
       "      <td>BURGLARY</td>\n",
       "      <td>BURGLARY OF STORE, FORCIBLE ENTRY</td>\n",
       "      <td>Wednesday</td>\n",
       "      <td>SOUTHERN</td>\n",
       "      <td>NONE</td>\n",
       "      <td>800 Block of BRYANT ST</td>\n",
       "      <td>-122.403405</td>\n",
       "      <td>37.775421</td>\n",
       "      <td>(37.775420706711,-122.403404791479)</td>\n",
       "      <td>1.410000e+13</td>\n",
       "      <td>POINT (-122.4034048 37.77542071)</td>\n",
       "      <td>33.0</td>\n",
       "      <td>South of Market</td>\n",
       "      <td>2017-03-08 14:28:00</td>\n",
       "      <td>14</td>\n",
       "      <td>Mar</td>\n",
       "      <td>PROPERTY CRIME</td>\n",
       "    </tr>\n",
       "  </tbody>\n",
       "</table>\n",
       "</div>"
      ],
      "text/plain": [
       "   incident_num  category                        description day_of_week  \\\n",
       "0   151101177.0  WARRANTS                     WARRANT ARREST      Friday   \n",
       "1   141091334.0  BURGLARY  BURGLARY OF STORE, FORCIBLE ENTRY   Wednesday   \n",
       "\n",
       "  pd_district      resolution                 address           x          y  \\\n",
       "0    SOUTHERN  ARREST, BOOKED  800 Block of BRYANT ST -122.403405  37.775421   \n",
       "1    SOUTHERN            NONE  800 Block of BRYANT ST -122.403405  37.775421   \n",
       "\n",
       "                              location         pd_id  \\\n",
       "0  (37.775420706711,-122.403404791479)  1.510000e+13   \n",
       "1  (37.775420706711,-122.403404791479)  1.410000e+13   \n",
       "\n",
       "                           geometry  index_right neighborhood_name  \\\n",
       "0  POINT (-122.4034048 37.77542071)         33.0   South of Market   \n",
       "1  POINT (-122.4034048 37.77542071)         33.0   South of Market   \n",
       "\n",
       "            date_time  hour_of_day month  broad_category  \n",
       "0 2017-04-21 00:45:00            0   Apr  OTHER OFFENSES  \n",
       "1 2017-03-08 14:28:00           14   Mar  PROPERTY CRIME  "
      ]
     },
     "execution_count": 5,
     "metadata": {},
     "output_type": "execute_result"
    }
   ],
   "source": [
    "df.head(2)"
   ]
  },
  {
   "cell_type": "code",
   "execution_count": 6,
   "metadata": {
    "collapsed": false,
    "deletable": true,
    "editable": true
   },
   "outputs": [
    {
     "data": {
      "image/png": "[encoded data removed]",
      "text/plain": [
       "<matplotlib.figure.Figure at 0x11ab27940>"
      ]
     },
     "metadata": {},
     "output_type": "display_data"
    }
   ],
   "source": [
    "def plot_data(data, category):\n",
    "    l = data.groupby(category).size().sort_values()\n",
    "    fig = plt.figure(figsize=(10,10))\n",
    "    plt.style.use('ggplot')\n",
    "    plt.yticks(fontsize=8)\n",
    "    l.plot(kind='barh',fontsize=12,color='k')\n",
    "    plt.xlabel('')\n",
    "    plt.ylabel('Number of reports',fontsize=10)\n",
    "\n",
    "plot_data(df,'category')"
   ]
  },
  {
   "cell_type": "code",
   "execution_count": 7,
   "metadata": {
    "collapsed": false,
    "deletable": true,
    "editable": true
   },
   "outputs": [
    {
     "data": {
      "image/png": "[encoded data removed]",
      "text/plain": [
       "<matplotlib.figure.Figure at 0x10e58a2e8>"
      ]
     },
     "metadata": {},
     "output_type": "display_data"
    }
   ],
   "source": [
    "plot_data(df,'broad_category')"
   ]
  },
  {
   "cell_type": "code",
   "execution_count": 8,
   "metadata": {
    "collapsed": false,
    "deletable": true,
    "editable": true
   },
   "outputs": [],
   "source": [
    "def types_nhoods(df, per):\n",
    "    \n",
    "    # Group by crime type and district \n",
    "    hoods_per_type = df.groupby('broad_category').neighborhood_name.value_counts(sort=True)\n",
    "    t = hoods_per_type.unstack().fillna(0)\n",
    "    \n",
    "    # Sort by hood sum\n",
    "    hood_sum = t.sum(axis=0)\n",
    "    hood_sum.sort_values(ascending=False)\n",
    "    t = t[hood_sum.index]\n",
    "    \n",
    "    # Filter by crime per district\n",
    "    crime_sum = t.sum(axis=1)\n",
    "    crime_sum.sort_values()\n",
    "    \n",
    "    # Large number, so let's slice the data.\n",
    "    p = np.percentile(crime_sum, per)\n",
    "    ix = crime_sum[crime_sum > p]\n",
    "    t = t.loc[ix.index]\n",
    "    return t\n",
    "    \n",
    "t=types_nhoods(df,96)"
   ]
  },
  {
   "cell_type": "code",
   "execution_count": 9,
   "metadata": {
    "collapsed": false,
    "deletable": true,
    "editable": true
   },
   "outputs": [
    {
     "data": {
      "text/plain": [
       "broad_category\n",
       "THEFT                                   62144.0\n",
       "OTHER OFFENSES                          36203.0\n",
       "OFFENSES AGAINST THE PERSON             29253.0\n",
       "PROPERTY CRIME                          23089.0\n",
       "NON-CRIMINAL                            22921.0\n",
       "SOCIAL ORDER OFFENSES                    8229.0\n",
       "SUSPICIOUS BEHAVIOR                      7807.0\n",
       "WHITE COLLAR CRIME                       4306.0\n",
       "DOMESTIC VIOLENCE AND JUVENILE CRIME     2456.0\n",
       "dtype: float64"
      ]
     },
     "execution_count": 9,
     "metadata": {},
     "output_type": "execute_result"
    }
   ],
   "source": [
    "nhood_crimes = df.groupby('broad_category')['neighborhood_name'].value_counts()\n",
    "nhood_crimes = nhood_crimes.unstack().fillna(0)\n",
    "nhood_totals = nhood_crimes.sum(axis=0).sort_values(ascending=False)\n",
    "nhood_crimes = nhood_crimes[nhood_totals.index]\n",
    "crime_totals = nhood_crimes.sum(axis=1).sort_values(ascending=False)\n",
    "crime_totals"
   ]
  },
  {
   "cell_type": "code",
   "execution_count": 10,
   "metadata": {
    "collapsed": false,
    "deletable": true,
    "editable": true
   },
   "outputs": [
    {
     "name": "stderr",
     "output_type": "stream",
     "text": [
      "/Users/matthewmurray/anaconda/lib/python3.6/site-packages/matplotlib/cbook.py:136: MatplotlibDeprecationWarning: The axisbg attribute was deprecated in version 2.0. Use facecolor instead.\n",
      "  warnings.warn(message, mplDeprecation, stacklevel=1)\n"
     ]
    },
    {
     "data": {
      "text/plain": [
       "[None,\n",
       " None,\n",
       " None,\n",
       " None,\n",
       " None,\n",
       " None,\n",
       " None,\n",
       " None,\n",
       " None,\n",
       " None,\n",
       " None,\n",
       " None,\n",
       " None,\n",
       " None,\n",
       " None,\n",
       " None,\n",
       " None,\n",
       " None]"
      ]
     },
     "execution_count": 10,
     "metadata": {},
     "output_type": "execute_result"
    },
    {
     "data": {
      "image/png": "[encoded data removed]",
      "text/plain": [
       "<matplotlib.figure.Figure at 0x11c2d1780>"
      ]
     },
     "metadata": {},
     "output_type": "display_data"
    }
   ],
   "source": [
    "cg = sns.clustermap(nhood_crimes)\n",
    "plt.setp(cg.ax_heatmap.yaxis.get_majorticklabels(), rotation=0)"
   ]
  },
  {
   "cell_type": "code",
   "execution_count": 11,
   "metadata": {
    "collapsed": false,
    "deletable": true,
    "editable": true
   },
   "outputs": [
    {
     "data": {
      "text/html": [
       "<div>\n",
       "<table border=\"1\" class=\"dataframe\">\n",
       "  <thead>\n",
       "    <tr style=\"text-align: right;\">\n",
       "      <th></th>\n",
       "      <th>geometry</th>\n",
       "      <th>nhood</th>\n",
       "    </tr>\n",
       "  </thead>\n",
       "  <tbody>\n",
       "    <tr>\n",
       "      <th>0</th>\n",
       "      <td>(POLYGON ((-122.3815777424142 37.7530704309124...</td>\n",
       "      <td>Bayview Hunters Point</td>\n",
       "    </tr>\n",
       "    <tr>\n",
       "      <th>1</th>\n",
       "      <td>(POLYGON ((-122.403612999828 37.74933700015653...</td>\n",
       "      <td>Bernal Heights</td>\n",
       "    </tr>\n",
       "    <tr>\n",
       "      <th>2</th>\n",
       "      <td>(POLYGON ((-122.4265550005568 37.7694849998470...</td>\n",
       "      <td>Castro/Upper Market</td>\n",
       "    </tr>\n",
       "    <tr>\n",
       "      <th>3</th>\n",
       "      <td>(POLYGON ((-122.4062259995664 37.7975590002937...</td>\n",
       "      <td>Chinatown</td>\n",
       "    </tr>\n",
       "    <tr>\n",
       "      <th>4</th>\n",
       "      <td>(POLYGON ((-122.4239820002333 37.7315519997551...</td>\n",
       "      <td>Excelsior</td>\n",
       "    </tr>\n",
       "  </tbody>\n",
       "</table>\n",
       "</div>"
      ],
      "text/plain": [
       "                                            geometry                  nhood\n",
       "0  (POLYGON ((-122.3815777424142 37.7530704309124...  Bayview Hunters Point\n",
       "1  (POLYGON ((-122.403612999828 37.74933700015653...         Bernal Heights\n",
       "2  (POLYGON ((-122.4265550005568 37.7694849998470...    Castro/Upper Market\n",
       "3  (POLYGON ((-122.4062259995664 37.7975590002937...              Chinatown\n",
       "4  (POLYGON ((-122.4239820002333 37.7315519997551...              Excelsior"
      ]
     },
     "execution_count": 11,
     "metadata": {},
     "output_type": "execute_result"
    }
   ],
   "source": [
    "sf = geopandas.read_file('sf.geojson')\n",
    "sf.crs = {'init': 'epsg:4326'}\n",
    "sf.head()"
   ]
  },
  {
   "cell_type": "code",
   "execution_count": 12,
   "metadata": {
    "collapsed": false,
    "deletable": true,
    "editable": true
   },
   "outputs": [
    {
     "data": {
      "text/plain": [
       "['OTHER OFFENSES',\n",
       " 'PROPERTY CRIME',\n",
       " 'THEFT',\n",
       " 'NON-CRIMINAL',\n",
       " 'OFFENSES AGAINST THE PERSON',\n",
       " 'DOMESTIC VIOLENCE AND JUVENILE CRIME',\n",
       " 'SOCIAL ORDER OFFENSES',\n",
       " 'SUSPICIOUS BEHAVIOR',\n",
       " 'WHITE COLLAR CRIME']"
      ]
     },
     "execution_count": 12,
     "metadata": {},
     "output_type": "execute_result"
    }
   ],
   "source": [
    "categories = list(df['broad_category'].unique())\n",
    "categories"
   ]
  },
  {
   "cell_type": "code",
   "execution_count": 13,
   "metadata": {
    "collapsed": false,
    "deletable": true,
    "editable": true
   },
   "outputs": [
    {
     "data": {
      "text/html": [
       "<div>\n",
       "<table border=\"1\" class=\"dataframe\">\n",
       "  <thead>\n",
       "    <tr style=\"text-align: right;\">\n",
       "      <th></th>\n",
       "      <th>incident_num</th>\n",
       "      <th>category</th>\n",
       "      <th>description</th>\n",
       "      <th>day_of_week</th>\n",
       "      <th>pd_district</th>\n",
       "      <th>resolution</th>\n",
       "      <th>address</th>\n",
       "      <th>x</th>\n",
       "      <th>y</th>\n",
       "      <th>location</th>\n",
       "      <th>pd_id</th>\n",
       "      <th>geometry</th>\n",
       "      <th>index_right</th>\n",
       "      <th>neighborhood_name</th>\n",
       "      <th>date_time</th>\n",
       "      <th>hour_of_day</th>\n",
       "      <th>month</th>\n",
       "      <th>broad_category</th>\n",
       "    </tr>\n",
       "  </thead>\n",
       "  <tbody>\n",
       "    <tr>\n",
       "      <th>0</th>\n",
       "      <td>151101177.0</td>\n",
       "      <td>WARRANTS</td>\n",
       "      <td>WARRANT ARREST</td>\n",
       "      <td>Friday</td>\n",
       "      <td>SOUTHERN</td>\n",
       "      <td>ARREST, BOOKED</td>\n",
       "      <td>800 Block of BRYANT ST</td>\n",
       "      <td>-122.403405</td>\n",
       "      <td>37.775421</td>\n",
       "      <td>(37.775420706711,-122.403404791479)</td>\n",
       "      <td>1.510000e+13</td>\n",
       "      <td>POINT (-122.4034048 37.77542071)</td>\n",
       "      <td>33.0</td>\n",
       "      <td>South of Market</td>\n",
       "      <td>2017-04-21 00:45:00</td>\n",
       "      <td>0</td>\n",
       "      <td>Apr</td>\n",
       "      <td>OTHER OFFENSES</td>\n",
       "    </tr>\n",
       "  </tbody>\n",
       "</table>\n",
       "</div>"
      ],
      "text/plain": [
       "   incident_num  category     description day_of_week pd_district  \\\n",
       "0   151101177.0  WARRANTS  WARRANT ARREST      Friday    SOUTHERN   \n",
       "\n",
       "       resolution                 address           x          y  \\\n",
       "0  ARREST, BOOKED  800 Block of BRYANT ST -122.403405  37.775421   \n",
       "\n",
       "                              location         pd_id  \\\n",
       "0  (37.775420706711,-122.403404791479)  1.510000e+13   \n",
       "\n",
       "                           geometry  index_right neighborhood_name  \\\n",
       "0  POINT (-122.4034048 37.77542071)         33.0   South of Market   \n",
       "\n",
       "            date_time  hour_of_day month  broad_category  \n",
       "0 2017-04-21 00:45:00            0   Apr  OTHER OFFENSES  "
      ]
     },
     "execution_count": 13,
     "metadata": {},
     "output_type": "execute_result"
    }
   ],
   "source": [
    "geo_df = geopandas.GeoDataFrame(df)\n",
    "geo_df.head(1)"
   ]
  },
  {
   "cell_type": "code",
   "execution_count": 14,
   "metadata": {
    "collapsed": false,
    "deletable": true,
    "editable": true,
    "scrolled": true
   },
   "outputs": [
    {
     "data": {
      "text/html": [
       "<div>\n",
       "<table border=\"1\" class=\"dataframe\">\n",
       "  <thead>\n",
       "    <tr style=\"text-align: right;\">\n",
       "      <th></th>\n",
       "      <th>neighborhood_name</th>\n",
       "      <th>broad_category</th>\n",
       "      <th>y</th>\n",
       "      <th>x</th>\n",
       "    </tr>\n",
       "  </thead>\n",
       "  <tbody>\n",
       "    <tr>\n",
       "      <th>0</th>\n",
       "      <td>South of Market</td>\n",
       "      <td>OTHER OFFENSES</td>\n",
       "      <td>37.775421</td>\n",
       "      <td>-122.403405</td>\n",
       "    </tr>\n",
       "    <tr>\n",
       "      <th>1</th>\n",
       "      <td>South of Market</td>\n",
       "      <td>PROPERTY CRIME</td>\n",
       "      <td>37.775421</td>\n",
       "      <td>-122.403405</td>\n",
       "    </tr>\n",
       "  </tbody>\n",
       "</table>\n",
       "</div>"
      ],
      "text/plain": [
       "  neighborhood_name  broad_category          y           x\n",
       "0   South of Market  OTHER OFFENSES  37.775421 -122.403405\n",
       "1   South of Market  PROPERTY CRIME  37.775421 -122.403405"
      ]
     },
     "execution_count": 14,
     "metadata": {},
     "output_type": "execute_result"
    }
   ],
   "source": [
    "geo_df = geo_df[['neighborhood_name','broad_category','y','x']]\n",
    "geo_df.head(2)"
   ]
  },
  {
   "cell_type": "code",
   "execution_count": 15,
   "metadata": {
    "collapsed": false,
    "deletable": true,
    "editable": true
   },
   "outputs": [],
   "source": [
    "# for cat in categories:\n",
    "#     geo_df = geopandas.GeoDataFrame(geo_df[geo_df['broad_category'] == cat])\n",
    "#     geo_df['geometry'] = geo_df.apply(lambda row: Point(row['x'], row['y']), axis=1)\n",
    "#     geo_df.drop(['x','y'], axis=1, inplace=True)\n",
    "#     geo_df.crs = {'init': 'epsg:4326'}\n",
    "    \n",
    "#     fig, ax = plt.subplots(1, figsize=(13,10))\n",
    "#     sf_map = sf.plot(ax=ax, color='gray')\n",
    "#     geo_df.plot(ax=sf_map, marker=\"o\", mfc=\"red\", markersize=8, markeredgecolor=\"black\", alpha=0.3)\n",
    "#     ax.set_title(cat)\n",
    "#     plt.show()"
   ]
  },
  {
   "cell_type": "code",
   "execution_count": null,
   "metadata": {
    "collapsed": false,
    "deletable": true,
    "editable": true
   },
   "outputs": [],
   "source": [
    "geo_df = geopandas.GeoDataFrame(df[df['broad_category'] == 'THEFT'].sample(5000))\n",
    "geo_df['geometry'] = geo_df.apply(lambda row: Point(row['x'], row['y']), axis=1)\n",
    "geo_df.drop(['x','y'], axis=1, inplace=True)\n",
    "geo_df.crs = {'init': 'epsg:4326'}\n",
    "    \n",
    "fig, ax = plt.subplots(1, figsize=(13,10))\n",
    "sf_map = sf.plot(ax=ax, color='gray')\n",
    "geo_df.plot(ax=sf_map, marker=\"o\", mfc=\"red\", markersize=5, markeredgecolor=\"black\", alpha=0.2)\n",
    "ax.set_title('THEFT')\n",
    "plt.show()"
   ]
  },
  {
   "cell_type": "code",
   "execution_count": null,
   "metadata": {
    "collapsed": false,
    "deletable": true,
    "editable": true
   },
   "outputs": [],
   "source": [
    "geo_df = geopandas.GeoDataFrame(df[df['broad_category'] == 'PROPERTY CRIME'])\n",
    "geo_df['geometry'] = geo_df.apply(lambda row: Point(row['x'], row['y']), axis=1)\n",
    "geo_df.drop(['x','y'], axis=1, inplace=True)\n",
    "geo_df.crs = {'init': 'epsg:4326'}\n",
    "    \n",
    "fig, ax = plt.subplots(1, figsize=(13,10))\n",
    "sf_map = sf.plot(ax=ax, color='gray')\n",
    "geo_df.plot(ax=sf_map, marker=\"o\", mfc=\"red\", markersize=5, markeredgecolor=\"black\", alpha=0.2)\n",
    "ax.set_title('PROPERTY CRIME')\n",
    "plt.show()"
   ]
  },
  {
   "cell_type": "code",
   "execution_count": null,
   "metadata": {
    "collapsed": false,
    "deletable": true,
    "editable": true
   },
   "outputs": [],
   "source": [
    "geo_df = geopandas.GeoDataFrame(df[df['broad_category'] == 'OFFENSES AGAINST THE PERSON'])\n",
    "geo_df['geometry'] = geo_df.apply(lambda row: Point(row['x'], row['y']), axis=1)\n",
    "geo_df.drop(['x','y'], axis=1, inplace=True)\n",
    "geo_df.crs = {'init': 'epsg:4326'}\n",
    "    \n",
    "fig, ax = plt.subplots(1, figsize=(13,10))\n",
    "sf_map = sf.plot(ax=ax, color='gray')\n",
    "geo_df.plot(ax=sf_map, marker=\"o\", mfc=\"red\", markersize=5, markeredgecolor=\"black\", alpha=0.2)\n",
    "ax.set_title('OFFENSES AGAINST THE PERSON')\n",
    "plt.show()"
   ]
  },
  {
   "cell_type": "code",
   "execution_count": null,
   "metadata": {
    "collapsed": false,
    "deletable": true,
    "editable": true
   },
   "outputs": [],
   "source": [
    "geo_df = geopandas.GeoDataFrame(df[df['broad_category'] == 'SOCIAL ORDER OFFENSES'])\n",
    "geo_df['geometry'] = geo_df.apply(lambda row: Point(row['x'], row['y']), axis=1)\n",
    "geo_df.drop(['x','y'], axis=1, inplace=True)\n",
    "geo_df.crs = {'init': 'epsg:4326'}\n",
    "    \n",
    "fig, ax = plt.subplots(1, figsize=(13,10))\n",
    "sf_map = sf.plot(ax=ax, color='gray')\n",
    "geo_df.plot(ax=sf_map, marker=\"o\", mfc=\"red\", markersize=5, markeredgecolor=\"black\", alpha=0.2)\n",
    "ax.set_title('SOCIAL ORDER OFFENSES')\n",
    "plt.show()"
   ]
  },
  {
   "cell_type": "code",
   "execution_count": null,
   "metadata": {
    "collapsed": false,
    "deletable": true,
    "editable": true
   },
   "outputs": [],
   "source": [
    "geo_df = geopandas.GeoDataFrame(df[df['category'] == 'BURGLARY'])\n",
    "geo_df['geometry'] = geo_df.apply(lambda row: Point(row['x'], row['y']), axis=1)\n",
    "geo_df.drop(['x','y'], axis=1, inplace=True)\n",
    "geo_df.crs = {'init': 'epsg:4326'}\n",
    "    \n",
    "fig, ax = plt.subplots(1, figsize=(13,10))\n",
    "sf_map = sf.plot(ax=ax, color='gray')\n",
    "geo_df.plot(ax=sf_map, marker=\"o\", mfc=\"red\", markersize=5, markeredgecolor=\"black\", alpha=0.2)\n",
    "ax.set_title('BURGLARY')\n",
    "plt.show()"
   ]
  },
  {
   "cell_type": "code",
   "execution_count": null,
   "metadata": {
    "collapsed": false,
    "deletable": true,
    "editable": true
   },
   "outputs": [],
   "source": [
    "geo_df = geopandas.GeoDataFrame(df[df['broad_category'] == 'DOMESTIC VIOLENCE AND JUVENILE CRIME'])\n",
    "geo_df['geometry'] = geo_df.apply(lambda row: Point(row['x'], row['y']), axis=1)\n",
    "geo_df.drop(['x','y'], axis=1, inplace=True)\n",
    "geo_df.crs = {'init': 'epsg:4326'}\n",
    "    \n",
    "fig, ax = plt.subplots(1, figsize=(13,10))\n",
    "sf_map = sf.plot(ax=ax, color='gray')\n",
    "geo_df.plot(ax=sf_map, marker=\"o\", mfc=\"red\", markersize=5, markeredgecolor=\"black\", alpha=0.2)\n",
    "ax.set_title('DOMESTIC VIOLENCE AND JUVENILE CRIME')\n",
    "plt.show()"
   ]
  },
  {
   "cell_type": "code",
   "execution_count": null,
   "metadata": {
    "collapsed": false,
    "deletable": true,
    "editable": true
   },
   "outputs": [],
   "source": [
    "df['address'].sample(40)"
   ]
  },
  {
   "cell_type": "code",
   "execution_count": null,
   "metadata": {
    "collapsed": true,
    "deletable": true,
    "editable": true
   },
   "outputs": [],
   "source": []
  }
 ],
 "metadata": {
  "kernelspec": {
   "display_name": "Python 3",
   "language": "python",
   "name": "python3"
  },
  "language_info": {
   "codemirror_mode": {
    "name": "ipython",
    "version": 3
   },
   "file_extension": ".py",
   "mimetype": "text/x-python",
   "name": "python",
   "nbconvert_exporter": "python",
   "pygments_lexer": "ipython3",
   "version": "3.6.0"
  }
 },
 "nbformat": 4,
 "nbformat_minor": 2
}
