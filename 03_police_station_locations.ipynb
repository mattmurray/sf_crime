{
 "cells": [
  {
   "cell_type": "markdown",
   "metadata": {
    "deletable": true,
    "editable": true
   },
   "source": [
    "## Police station location data"
   ]
  },
  {
   "cell_type": "markdown",
   "metadata": {},
   "source": [
    "### Imports"
   ]
  },
  {
   "cell_type": "code",
   "execution_count": 1,
   "metadata": {
    "collapsed": true,
    "deletable": true,
    "editable": true
   },
   "outputs": [],
   "source": [
    "import pandas as pd\n",
    "import numpy as np\n",
    "import geopandas\n",
    "import geopandas.tools\n",
    "from shapely.geometry import Point\n",
    "import pickle\n",
    "import requests"
   ]
  },
  {
   "cell_type": "markdown",
   "metadata": {},
   "source": [
    "### Collect & Process Data"
   ]
  },
  {
   "cell_type": "markdown",
   "metadata": {
    "deletable": true,
    "editable": true
   },
   "source": [
    "Data copied and pasted from the police website."
   ]
  },
  {
   "cell_type": "code",
   "execution_count": 2,
   "metadata": {
    "collapsed": false,
    "deletable": true,
    "editable": true
   },
   "outputs": [],
   "source": [
    "police_stations = [['Central',415-315-2400,'766 Vallejo Street','SFPDCentralStation@sfgov.org'],\n",
    "['Southern',415-575-6000,'1251 3rd Street','SFPDSouthernStation@sfgov.org'],\n",
    "['Bayview',415-671-2300,'201 Williams Avenue','SFPDBayviewStation@sfgov.org'],\n",
    "['Mission',415-558-5400 ,'630 Valencia Street','SFPDMissionStation@sfgov.org'],\n",
    "['Northern',415-614-3400,'1125 Fillmore Street','SFPDNorthernStation@sfgov.org'],\n",
    "['Park',415-242-3000,'1899 Waller Street','SFPDParkStation@sfgov.org'],\n",
    "['Richmond',415-666-8000,'461 6th Avenue','SFPDRichmondStation@sfgov.org'],\n",
    "['Ingleside',415-404-4000,'1 Sgt. John V. Young Lane','SFPDInglesideStation@sfgov.org'],\n",
    "['Taraval',415-759-3100,'2345 24th Avenue','SFPDTaravalStation@sfgov.org'],\n",
    "['Tenderloin',415-345-7300,'301 Eddy Street','SFPDTenderloinStation@sfgov.org']]"
   ]
  },
  {
   "cell_type": "code",
   "execution_count": 3,
   "metadata": {
    "collapsed": false,
    "deletable": true,
    "editable": true
   },
   "outputs": [
    {
     "data": {
      "text/html": [
       "<div>\n",
       "<table border=\"1\" class=\"dataframe\">\n",
       "  <thead>\n",
       "    <tr style=\"text-align: right;\">\n",
       "      <th></th>\n",
       "      <th>district</th>\n",
       "      <th>address</th>\n",
       "      <th>address_formatted</th>\n",
       "    </tr>\n",
       "  </thead>\n",
       "  <tbody>\n",
       "    <tr>\n",
       "      <th>0</th>\n",
       "      <td>Central</td>\n",
       "      <td>766 Vallejo Street</td>\n",
       "      <td>766+Vallejo+Street,San+Francisco,+CA</td>\n",
       "    </tr>\n",
       "    <tr>\n",
       "      <th>1</th>\n",
       "      <td>Southern</td>\n",
       "      <td>1251 3rd Street</td>\n",
       "      <td>1251+3rd+Street,San+Francisco,+CA</td>\n",
       "    </tr>\n",
       "    <tr>\n",
       "      <th>2</th>\n",
       "      <td>Bayview</td>\n",
       "      <td>201 Williams Avenue</td>\n",
       "      <td>201+Williams+Avenue,San+Francisco,+CA</td>\n",
       "    </tr>\n",
       "    <tr>\n",
       "      <th>3</th>\n",
       "      <td>Mission</td>\n",
       "      <td>630 Valencia Street</td>\n",
       "      <td>630+Valencia+Street,San+Francisco,+CA</td>\n",
       "    </tr>\n",
       "    <tr>\n",
       "      <th>4</th>\n",
       "      <td>Northern</td>\n",
       "      <td>1125 Fillmore Street</td>\n",
       "      <td>1125+Fillmore+Street,San+Francisco,+CA</td>\n",
       "    </tr>\n",
       "    <tr>\n",
       "      <th>5</th>\n",
       "      <td>Park</td>\n",
       "      <td>1899 Waller Street</td>\n",
       "      <td>1899+Waller+Street,San+Francisco,+CA</td>\n",
       "    </tr>\n",
       "    <tr>\n",
       "      <th>6</th>\n",
       "      <td>Richmond</td>\n",
       "      <td>461 6th Avenue</td>\n",
       "      <td>461+6th+Avenue,San+Francisco,+CA</td>\n",
       "    </tr>\n",
       "    <tr>\n",
       "      <th>7</th>\n",
       "      <td>Ingleside</td>\n",
       "      <td>1 Sgt. John V. Young Lane</td>\n",
       "      <td>1+Sgt.+John+V.+Young+Lane,San+Francisco,+CA</td>\n",
       "    </tr>\n",
       "    <tr>\n",
       "      <th>8</th>\n",
       "      <td>Taraval</td>\n",
       "      <td>2345 24th Avenue</td>\n",
       "      <td>2345+24th+Avenue,San+Francisco,+CA</td>\n",
       "    </tr>\n",
       "    <tr>\n",
       "      <th>9</th>\n",
       "      <td>Tenderloin</td>\n",
       "      <td>301 Eddy Street</td>\n",
       "      <td>301+Eddy+Street,San+Francisco,+CA</td>\n",
       "    </tr>\n",
       "  </tbody>\n",
       "</table>\n",
       "</div>"
      ],
      "text/plain": [
       "     district                    address  \\\n",
       "0     Central         766 Vallejo Street   \n",
       "1    Southern            1251 3rd Street   \n",
       "2     Bayview        201 Williams Avenue   \n",
       "3     Mission        630 Valencia Street   \n",
       "4    Northern       1125 Fillmore Street   \n",
       "5        Park         1899 Waller Street   \n",
       "6    Richmond             461 6th Avenue   \n",
       "7   Ingleside  1 Sgt. John V. Young Lane   \n",
       "8     Taraval           2345 24th Avenue   \n",
       "9  Tenderloin            301 Eddy Street   \n",
       "\n",
       "                             address_formatted  \n",
       "0         766+Vallejo+Street,San+Francisco,+CA  \n",
       "1            1251+3rd+Street,San+Francisco,+CA  \n",
       "2        201+Williams+Avenue,San+Francisco,+CA  \n",
       "3        630+Valencia+Street,San+Francisco,+CA  \n",
       "4       1125+Fillmore+Street,San+Francisco,+CA  \n",
       "5         1899+Waller+Street,San+Francisco,+CA  \n",
       "6             461+6th+Avenue,San+Francisco,+CA  \n",
       "7  1+Sgt.+John+V.+Young+Lane,San+Francisco,+CA  \n",
       "8           2345+24th+Avenue,San+Francisco,+CA  \n",
       "9            301+Eddy+Street,San+Francisco,+CA  "
      ]
     },
     "execution_count": 3,
     "metadata": {},
     "output_type": "execute_result"
    }
   ],
   "source": [
    "police_locations = pd.DataFrame(police_stations)\n",
    "police_locations.columns = ['district','phone','address','email']\n",
    "police_locations.drop(['phone','email'], axis=1, inplace=True)\n",
    "police_locations['address_formatted'] = police_locations['address'].apply(lambda x: x.replace(' ', '+') + ',San+Francisco,+CA')\n",
    "police_locations"
   ]
  },
  {
   "cell_type": "markdown",
   "metadata": {
    "deletable": true,
    "editable": true
   },
   "source": [
    "All I need to do now is run the formatted address strings through the Google Maps API to retrieve the latitude and longitude..."
   ]
  },
  {
   "cell_type": "code",
   "execution_count": 4,
   "metadata": {
    "collapsed": false,
    "deletable": true,
    "editable": true
   },
   "outputs": [],
   "source": [
    "def get_lat_lng(input_addr):\n",
    "    url = 'https://maps.googleapis.com/maps/api/geocode/json?address={}'.format(input_addr)\n",
    "    r = requests.get(url)\n",
    "    r_json = r.json()\n",
    "    lat = r_json['results'][0]['geometry']['location']['lat']\n",
    "    lng = r_json['results'][0]['geometry']['location']['lng']\n",
    "    return Point(lng, lat)\n",
    "\n",
    "police_locations['geometry'] = police_locations['address_formatted'].apply(get_lat_lng)"
   ]
  },
  {
   "cell_type": "code",
   "execution_count": 5,
   "metadata": {
    "collapsed": false,
    "deletable": true,
    "editable": true
   },
   "outputs": [],
   "source": [
    "police_locations.drop(['address','address_formatted'], axis=1, \n",
    "                      inplace=True)"
   ]
  },
  {
   "cell_type": "code",
   "execution_count": 6,
   "metadata": {
    "collapsed": false,
    "deletable": true,
    "editable": true
   },
   "outputs": [
    {
     "data": {
      "text/html": [
       "<div>\n",
       "<table border=\"1\" class=\"dataframe\">\n",
       "  <thead>\n",
       "    <tr style=\"text-align: right;\">\n",
       "      <th></th>\n",
       "      <th>district</th>\n",
       "      <th>geometry</th>\n",
       "    </tr>\n",
       "  </thead>\n",
       "  <tbody>\n",
       "    <tr>\n",
       "      <th>0</th>\n",
       "      <td>Central</td>\n",
       "      <td>POINT (-122.4099186 37.7987322)</td>\n",
       "    </tr>\n",
       "    <tr>\n",
       "      <th>1</th>\n",
       "      <td>Southern</td>\n",
       "      <td>POINT (-122.3894121 37.7723802)</td>\n",
       "    </tr>\n",
       "    <tr>\n",
       "      <th>2</th>\n",
       "      <td>Bayview</td>\n",
       "      <td>POINT (-122.3979806 37.7297322)</td>\n",
       "    </tr>\n",
       "    <tr>\n",
       "      <th>3</th>\n",
       "      <td>Mission</td>\n",
       "      <td>POINT (-122.422005 37.762849)</td>\n",
       "    </tr>\n",
       "    <tr>\n",
       "      <th>4</th>\n",
       "      <td>Northern</td>\n",
       "      <td>POINT (-122.4324665 37.7801858)</td>\n",
       "    </tr>\n",
       "    <tr>\n",
       "      <th>5</th>\n",
       "      <td>Park</td>\n",
       "      <td>POINT (-122.455287 37.767797)</td>\n",
       "    </tr>\n",
       "    <tr>\n",
       "      <th>6</th>\n",
       "      <td>Richmond</td>\n",
       "      <td>POINT (-122.4644668 37.7799276)</td>\n",
       "    </tr>\n",
       "    <tr>\n",
       "      <th>7</th>\n",
       "      <td>Ingleside</td>\n",
       "      <td>POINT (-122.4462154 37.7246756)</td>\n",
       "    </tr>\n",
       "    <tr>\n",
       "      <th>8</th>\n",
       "      <td>Taraval</td>\n",
       "      <td>POINT (-122.4815003 37.7437335)</td>\n",
       "    </tr>\n",
       "    <tr>\n",
       "      <th>9</th>\n",
       "      <td>Tenderloin</td>\n",
       "      <td>POINT (-122.4128962 37.783669)</td>\n",
       "    </tr>\n",
       "  </tbody>\n",
       "</table>\n",
       "</div>"
      ],
      "text/plain": [
       "     district                         geometry\n",
       "0     Central  POINT (-122.4099186 37.7987322)\n",
       "1    Southern  POINT (-122.3894121 37.7723802)\n",
       "2     Bayview  POINT (-122.3979806 37.7297322)\n",
       "3     Mission    POINT (-122.422005 37.762849)\n",
       "4    Northern  POINT (-122.4324665 37.7801858)\n",
       "5        Park    POINT (-122.455287 37.767797)\n",
       "6    Richmond  POINT (-122.4644668 37.7799276)\n",
       "7   Ingleside  POINT (-122.4462154 37.7246756)\n",
       "8     Taraval  POINT (-122.4815003 37.7437335)\n",
       "9  Tenderloin   POINT (-122.4128962 37.783669)"
      ]
     },
     "execution_count": 6,
     "metadata": {},
     "output_type": "execute_result"
    }
   ],
   "source": [
    "police_locations"
   ]
  },
  {
   "cell_type": "code",
   "execution_count": 7,
   "metadata": {
    "collapsed": true,
    "deletable": true,
    "editable": true
   },
   "outputs": [],
   "source": [
    "police_locations = geopandas.GeoDataFrame(police_locations['geometry'], \n",
    "                                          geometry='geometry')"
   ]
  },
  {
   "cell_type": "markdown",
   "metadata": {},
   "source": [
    "### Save Data"
   ]
  },
  {
   "cell_type": "code",
   "execution_count": 8,
   "metadata": {
    "collapsed": false,
    "deletable": true,
    "editable": true
   },
   "outputs": [],
   "source": [
    "pickle.dump(police_locations, open('police_locations.pkl', 'wb'))"
   ]
  }
 ],
 "metadata": {
  "kernelspec": {
   "display_name": "Python 3",
   "language": "python",
   "name": "python3"
  },
  "language_info": {
   "codemirror_mode": {
    "name": "ipython",
    "version": 3
   },
   "file_extension": ".py",
   "mimetype": "text/x-python",
   "name": "python",
   "nbconvert_exporter": "python",
   "pygments_lexer": "ipython3",
   "version": "3.6.0"
  }
 },
 "nbformat": 4,
 "nbformat_minor": 2
}
