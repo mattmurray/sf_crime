{
 "cells": [
  {
   "cell_type": "markdown",
   "metadata": {},
   "source": [
    "# Modelling the data"
   ]
  },
  {
   "cell_type": "markdown",
   "metadata": {},
   "source": [
    "## Imports"
   ]
  },
  {
   "cell_type": "code",
   "execution_count": 173,
   "metadata": {
    "collapsed": true
   },
   "outputs": [],
   "source": [
    "import pandas as pd\n",
    "import numpy as np\n",
    "from sklearn.ensemble import RandomForestClassifier, AdaBoostClassifier, BaggingClassifier, ExtraTreesClassifier, GradientBoostingClassifier\n",
    "from sklearn.svm import LinearSVC\n",
    "from sklearn.linear_model import LogisticRegression\n",
    "from sklearn.neighbors import KNeighborsClassifier\n",
    "from sklearn import preprocessing\n",
    "from sklearn.model_selection import validation_curve, cross_val_score, train_test_split, KFold, GridSearchCV, RandomizedSearchCV\n",
    "from sklearn.pipeline import Pipeline\n",
    "from sklearn.feature_selection import SelectFromModel\n",
    "from sklearn.metrics import accuracy_score, classification_report, auc, confusion_matrix, f1_score, roc_curve, recall_score, precision_score\n",
    "import os"
   ]
  },
  {
   "cell_type": "markdown",
   "metadata": {},
   "source": [
    "## Load Data"
   ]
  },
  {
   "cell_type": "code",
   "execution_count": 67,
   "metadata": {
    "collapsed": true
   },
   "outputs": [],
   "source": [
    "df = pd.read_csv('complete_data_set_inc_elevation.csv')"
   ]
  },
  {
   "cell_type": "markdown",
   "metadata": {},
   "source": [
    "## Filter data"
   ]
  },
  {
   "cell_type": "code",
   "execution_count": 68,
   "metadata": {
    "collapsed": true
   },
   "outputs": [],
   "source": [
    "subset_categories = ['LARCENY/THEFT','ASSAULT','VANDALISM','VEHICLE THEFT','BURGLARY','DRUG/NARCOTIC','ROBBERY']\n",
    "df = df[df['category'].isin(subset_categories)]"
   ]
  },
  {
   "cell_type": "code",
   "execution_count": 69,
   "metadata": {},
   "outputs": [
    {
     "data": {
      "text/plain": [
       "108583"
      ]
     },
     "execution_count": 69,
     "metadata": {},
     "output_type": "execute_result"
    }
   ],
   "source": [
    "len(df)"
   ]
  },
  {
   "cell_type": "code",
   "execution_count": 70,
   "metadata": {},
   "outputs": [
    {
     "data": {
      "text/plain": [
       "LARCENY/THEFT    53809\n",
       "ASSAULT          17563\n",
       "VANDALISM        11533\n",
       "VEHICLE THEFT     8346\n",
       "BURGLARY          7641\n",
       "DRUG/NARCOTIC     5402\n",
       "ROBBERY           4289\n",
       "Name: category, dtype: int64"
      ]
     },
     "execution_count": 70,
     "metadata": {},
     "output_type": "execute_result"
    }
   ],
   "source": [
    "df['category'].value_counts()"
   ]
  },
  {
   "cell_type": "code",
   "execution_count": 71,
   "metadata": {},
   "outputs": [],
   "source": [
    "df.loc[df['description'] == 'PETTY THEFT OF PROPERTY', 'category'] = 'THEFT OF PROPERTY'\n",
    "df.loc[df['description'] == 'GRAND THEFT OF PROPERTY', 'category'] = 'THEFT OF PROPERTY'\n",
    "df.loc[df['description'] == 'GRAND THEFT FROM LOCKED AUTO', 'category'] = 'THEFT FROM AUTO'\n",
    "df.loc[df['description'] == 'PETTY THEFT FROM LOCKED AUTO', 'category'] = 'THEFT FROM AUTO'\n",
    "df.loc[df['description'] == 'GRAND THEFT FROM UNLOCKED AUTO', 'category'] = 'THEFT FROM AUTO'\n",
    "df.loc[df['description'] == 'PETTY THEFT FROM UNLOCKED AUTO', 'category'] = 'THEFT FROM AUTO'\n",
    "df.loc[df['description'] == 'ATTEMPTED THEFT FROM LOCKED VEHICLE', 'category'] = 'THEFT FROM AUTO'\n",
    "df.loc[df['description'] == 'PETTY THEFT SHOPLIFTING', 'category'] = 'SHOPLIFTING/PICKPOCKET'\n",
    "df.loc[df['description'] == 'GRAND THEFT SHOPLIFTING', 'category'] = 'SHOPLIFTING/PICKPOCKET'\n",
    "df.loc[df['description'] == 'GRAND THEFT PICKPOCKET', 'category'] = 'SHOPLIFTING/PICKPOCKET'\n",
    "df.loc[df['category'] == 'LARCENY/THEFT', 'category'] = 'OTHER THEFT'"
   ]
  },
  {
   "cell_type": "code",
   "execution_count": 72,
   "metadata": {},
   "outputs": [
    {
     "data": {
      "text/plain": [
       "THEFT FROM AUTO           33501\n",
       "ASSAULT                   17563\n",
       "VANDALISM                 11533\n",
       "THEFT OF PROPERTY          8414\n",
       "VEHICLE THEFT              8346\n",
       "OTHER THEFT                8114\n",
       "BURGLARY                   7641\n",
       "DRUG/NARCOTIC              5402\n",
       "ROBBERY                    4289\n",
       "SHOPLIFTING/PICKPOCKET     3780\n",
       "Name: category, dtype: int64"
      ]
     },
     "execution_count": 72,
     "metadata": {},
     "output_type": "execute_result"
    }
   ],
   "source": [
    "df['category'].value_counts()"
   ]
  },
  {
   "cell_type": "code",
   "execution_count": 73,
   "metadata": {
    "collapsed": true
   },
   "outputs": [],
   "source": [
    "df = df[df['category'] != 'BURGLARY']\n",
    "df = df[df['category'] != 'OTHER THEFT']"
   ]
  },
  {
   "cell_type": "code",
   "execution_count": 74,
   "metadata": {},
   "outputs": [
    {
     "data": {
      "text/plain": [
       "THEFT FROM AUTO           33501\n",
       "ASSAULT                   17563\n",
       "VANDALISM                 11533\n",
       "THEFT OF PROPERTY          8414\n",
       "VEHICLE THEFT              8346\n",
       "DRUG/NARCOTIC              5402\n",
       "ROBBERY                    4289\n",
       "SHOPLIFTING/PICKPOCKET     3780\n",
       "Name: category, dtype: int64"
      ]
     },
     "execution_count": 74,
     "metadata": {},
     "output_type": "execute_result"
    }
   ],
   "source": [
    "df['category'].value_counts()"
   ]
  },
  {
   "cell_type": "markdown",
   "metadata": {},
   "source": [
    "## Fill N/A values and Scale"
   ]
  },
  {
   "cell_type": "code",
   "execution_count": 75,
   "metadata": {
    "collapsed": true
   },
   "outputs": [],
   "source": [
    "df['z_index'].fillna(df['z_index'].mean(), inplace=True)\n",
    "df['pop10_sqmi'] = df['pop10_sqmi'].apply(lambda x: float(x))\n",
    "df['pop10_sqmi'].fillna(df['pop10_sqmi'].mean(), inplace=True)\n",
    "df['median_income'].fillna(df['median_income'].median(), inplace=True)\n",
    "\n",
    "df['z_index'] = preprocessing.scale(df['z_index'])\n",
    "df['pop10_sqmi'] = preprocessing.scale(df['pop10_sqmi'])\n",
    "df['median_income'] = preprocessing.scale(df['median_income'])\n",
    "df['altitude'] = preprocessing.scale(df['altitude'])"
   ]
  },
  {
   "cell_type": "code",
   "execution_count": 76,
   "metadata": {},
   "outputs": [
    {
     "data": {
      "text/plain": [
       "92828"
      ]
     },
     "execution_count": 76,
     "metadata": {},
     "output_type": "execute_result"
    }
   ],
   "source": [
    "len(df)"
   ]
  },
  {
   "cell_type": "code",
   "execution_count": 77,
   "metadata": {},
   "outputs": [
    {
     "data": {
      "text/html": [
       "<div>\n",
       "<style>\n",
       "    .dataframe thead tr:only-child th {\n",
       "        text-align: right;\n",
       "    }\n",
       "\n",
       "    .dataframe thead th {\n",
       "        text-align: left;\n",
       "    }\n",
       "\n",
       "    .dataframe tbody tr th {\n",
       "        vertical-align: top;\n",
       "    }\n",
       "</style>\n",
       "<table border=\"1\" class=\"dataframe\">\n",
       "  <thead>\n",
       "    <tr style=\"text-align: right;\">\n",
       "      <th></th>\n",
       "      <th>category</th>\n",
       "      <th>description</th>\n",
       "      <th>day_of_week</th>\n",
       "      <th>pd_district</th>\n",
       "      <th>resolution</th>\n",
       "      <th>address</th>\n",
       "      <th>longitude</th>\n",
       "      <th>latitude</th>\n",
       "      <th>date_time</th>\n",
       "      <th>hour_of_day</th>\n",
       "      <th>...</th>\n",
       "      <th>dist_to_police_station</th>\n",
       "      <th>num_close_police_stations</th>\n",
       "      <th>dist_to_dispensary</th>\n",
       "      <th>num_close_dispensaries</th>\n",
       "      <th>dist_to_health_facility</th>\n",
       "      <th>num_close_health_facilities</th>\n",
       "      <th>dist_to_shelter</th>\n",
       "      <th>num_close_shelters</th>\n",
       "      <th>dist_to_union_sq</th>\n",
       "      <th>altitude</th>\n",
       "    </tr>\n",
       "  </thead>\n",
       "  <tbody>\n",
       "    <tr>\n",
       "      <th>103418</th>\n",
       "      <td>THEFT OF PROPERTY</td>\n",
       "      <td>GRAND THEFT OF PROPERTY</td>\n",
       "      <td>Thursday</td>\n",
       "      <td>TENDERLOIN</td>\n",
       "      <td>NONE</td>\n",
       "      <td>POWELL ST / OFARRELL ST</td>\n",
       "      <td>-122.408040</td>\n",
       "      <td>37.786409</td>\n",
       "      <td>2016-08-18 18:00:00</td>\n",
       "      <td>18</td>\n",
       "      <td>...</td>\n",
       "      <td>0.005576</td>\n",
       "      <td>1</td>\n",
       "      <td>0.004357</td>\n",
       "      <td>4</td>\n",
       "      <td>0.002950</td>\n",
       "      <td>11</td>\n",
       "      <td>0.001201</td>\n",
       "      <td>37</td>\n",
       "      <td>0.001733</td>\n",
       "      <td>-0.542875</td>\n",
       "    </tr>\n",
       "    <tr>\n",
       "      <th>123637</th>\n",
       "      <td>ASSAULT</td>\n",
       "      <td>BATTERY</td>\n",
       "      <td>Tuesday</td>\n",
       "      <td>INGLESIDE</td>\n",
       "      <td>NONE</td>\n",
       "      <td>2700 Block of DIAMOND ST</td>\n",
       "      <td>-122.433850</td>\n",
       "      <td>37.734786</td>\n",
       "      <td>2016-11-15 15:06:00</td>\n",
       "      <td>15</td>\n",
       "      <td>...</td>\n",
       "      <td>0.015972</td>\n",
       "      <td>0</td>\n",
       "      <td>0.005949</td>\n",
       "      <td>1</td>\n",
       "      <td>0.008065</td>\n",
       "      <td>2</td>\n",
       "      <td>0.010814</td>\n",
       "      <td>0</td>\n",
       "      <td>0.059431</td>\n",
       "      <td>0.635757</td>\n",
       "    </tr>\n",
       "    <tr>\n",
       "      <th>74557</th>\n",
       "      <td>ASSAULT</td>\n",
       "      <td>ATTEMPTED SIMPLE ASSAULT</td>\n",
       "      <td>Wednesday</td>\n",
       "      <td>MISSION</td>\n",
       "      <td>NONE</td>\n",
       "      <td>1800 Block of MISSION ST</td>\n",
       "      <td>-122.419971</td>\n",
       "      <td>37.767454</td>\n",
       "      <td>2016-10-12 15:00:00</td>\n",
       "      <td>15</td>\n",
       "      <td>...</td>\n",
       "      <td>0.005034</td>\n",
       "      <td>1</td>\n",
       "      <td>0.001397</td>\n",
       "      <td>8</td>\n",
       "      <td>0.002030</td>\n",
       "      <td>8</td>\n",
       "      <td>0.000712</td>\n",
       "      <td>21</td>\n",
       "      <td>0.024082</td>\n",
       "      <td>-0.792611</td>\n",
       "    </tr>\n",
       "    <tr>\n",
       "      <th>63548</th>\n",
       "      <td>ROBBERY</td>\n",
       "      <td>SHOPLIFTING, FORCE AGAINST AGENT</td>\n",
       "      <td>Sunday</td>\n",
       "      <td>NORTHERN</td>\n",
       "      <td>NONE</td>\n",
       "      <td>1200 Block of SUTTER ST</td>\n",
       "      <td>-122.420942</td>\n",
       "      <td>37.787596</td>\n",
       "      <td>2016-08-21 09:00:00</td>\n",
       "      <td>9</td>\n",
       "      <td>...</td>\n",
       "      <td>0.008953</td>\n",
       "      <td>1</td>\n",
       "      <td>0.001809</td>\n",
       "      <td>1</td>\n",
       "      <td>0.001853</td>\n",
       "      <td>12</td>\n",
       "      <td>0.001710</td>\n",
       "      <td>14</td>\n",
       "      <td>0.013450</td>\n",
       "      <td>0.434750</td>\n",
       "    </tr>\n",
       "    <tr>\n",
       "      <th>18705</th>\n",
       "      <td>ASSAULT</td>\n",
       "      <td>BATTERY</td>\n",
       "      <td>Friday</td>\n",
       "      <td>INGLESIDE</td>\n",
       "      <td>NONE</td>\n",
       "      <td>3300 Block of MISSION ST</td>\n",
       "      <td>-122.421645</td>\n",
       "      <td>37.742997</td>\n",
       "      <td>2017-04-14 13:25:00</td>\n",
       "      <td>13</td>\n",
       "      <td>...</td>\n",
       "      <td>0.019855</td>\n",
       "      <td>0</td>\n",
       "      <td>0.000827</td>\n",
       "      <td>2</td>\n",
       "      <td>0.003473</td>\n",
       "      <td>8</td>\n",
       "      <td>0.002370</td>\n",
       "      <td>3</td>\n",
       "      <td>0.047227</td>\n",
       "      <td>-0.009902</td>\n",
       "    </tr>\n",
       "  </tbody>\n",
       "</table>\n",
       "<p>5 rows × 32 columns</p>\n",
       "</div>"
      ],
      "text/plain": [
       "                 category                       description day_of_week  \\\n",
       "103418  THEFT OF PROPERTY           GRAND THEFT OF PROPERTY    Thursday   \n",
       "123637            ASSAULT                           BATTERY     Tuesday   \n",
       "74557             ASSAULT          ATTEMPTED SIMPLE ASSAULT   Wednesday   \n",
       "63548             ROBBERY  SHOPLIFTING, FORCE AGAINST AGENT      Sunday   \n",
       "18705             ASSAULT                           BATTERY      Friday   \n",
       "\n",
       "       pd_district resolution                   address   longitude  \\\n",
       "103418  TENDERLOIN       NONE   POWELL ST / OFARRELL ST -122.408040   \n",
       "123637   INGLESIDE       NONE  2700 Block of DIAMOND ST -122.433850   \n",
       "74557      MISSION       NONE  1800 Block of MISSION ST -122.419971   \n",
       "63548     NORTHERN       NONE   1200 Block of SUTTER ST -122.420942   \n",
       "18705    INGLESIDE       NONE  3300 Block of MISSION ST -122.421645   \n",
       "\n",
       "         latitude            date_time  hour_of_day    ...     \\\n",
       "103418  37.786409  2016-08-18 18:00:00           18    ...      \n",
       "123637  37.734786  2016-11-15 15:06:00           15    ...      \n",
       "74557   37.767454  2016-10-12 15:00:00           15    ...      \n",
       "63548   37.787596  2016-08-21 09:00:00            9    ...      \n",
       "18705   37.742997  2017-04-14 13:25:00           13    ...      \n",
       "\n",
       "       dist_to_police_station num_close_police_stations dist_to_dispensary  \\\n",
       "103418               0.005576                         1           0.004357   \n",
       "123637               0.015972                         0           0.005949   \n",
       "74557                0.005034                         1           0.001397   \n",
       "63548                0.008953                         1           0.001809   \n",
       "18705                0.019855                         0           0.000827   \n",
       "\n",
       "        num_close_dispensaries  dist_to_health_facility  \\\n",
       "103418                       4                 0.002950   \n",
       "123637                       1                 0.008065   \n",
       "74557                        8                 0.002030   \n",
       "63548                        1                 0.001853   \n",
       "18705                        2                 0.003473   \n",
       "\n",
       "        num_close_health_facilities  dist_to_shelter  num_close_shelters  \\\n",
       "103418                           11         0.001201                  37   \n",
       "123637                            2         0.010814                   0   \n",
       "74557                             8         0.000712                  21   \n",
       "63548                            12         0.001710                  14   \n",
       "18705                             8         0.002370                   3   \n",
       "\n",
       "        dist_to_union_sq  altitude  \n",
       "103418          0.001733 -0.542875  \n",
       "123637          0.059431  0.635757  \n",
       "74557           0.024082 -0.792611  \n",
       "63548           0.013450  0.434750  \n",
       "18705           0.047227 -0.009902  \n",
       "\n",
       "[5 rows x 32 columns]"
      ]
     },
     "execution_count": 77,
     "metadata": {},
     "output_type": "execute_result"
    }
   ],
   "source": [
    "df.sample(5)"
   ]
  },
  {
   "cell_type": "markdown",
   "metadata": {},
   "source": [
    "## Change categories to numeric values"
   ]
  },
  {
   "cell_type": "code",
   "execution_count": 78,
   "metadata": {
    "collapsed": true
   },
   "outputs": [],
   "source": [
    "def category_to_numeric(input_val):\n",
    "    if input_val == 'ASSAULT':\n",
    "        return 1\n",
    "    elif input_val == 'SHOPLIFTING/PICKPOCKET':\n",
    "        return 2\n",
    "    elif input_val == 'THEFT FROM AUTO':\n",
    "        return 3\n",
    "    elif input_val == 'DRUG/NARCOTIC':\n",
    "        return 4\n",
    "    elif input_val == 'VANDALISM':\n",
    "        return 5\n",
    "    elif input_val == 'ROBBERY':\n",
    "        return 6\n",
    "    elif input_val == 'VEHICLE THEFT':\n",
    "        return 7\n",
    "    else:\n",
    "        return 8"
   ]
  },
  {
   "cell_type": "code",
   "execution_count": 79,
   "metadata": {
    "collapsed": true
   },
   "outputs": [],
   "source": [
    "df['category'] = df['category'].apply(category_to_numeric)"
   ]
  },
  {
   "cell_type": "code",
   "execution_count": 80,
   "metadata": {},
   "outputs": [
    {
     "data": {
      "text/html": [
       "<div>\n",
       "<style>\n",
       "    .dataframe thead tr:only-child th {\n",
       "        text-align: right;\n",
       "    }\n",
       "\n",
       "    .dataframe thead th {\n",
       "        text-align: left;\n",
       "    }\n",
       "\n",
       "    .dataframe tbody tr th {\n",
       "        vertical-align: top;\n",
       "    }\n",
       "</style>\n",
       "<table border=\"1\" class=\"dataframe\">\n",
       "  <thead>\n",
       "    <tr style=\"text-align: right;\">\n",
       "      <th></th>\n",
       "      <th>category</th>\n",
       "      <th>description</th>\n",
       "      <th>day_of_week</th>\n",
       "      <th>pd_district</th>\n",
       "      <th>resolution</th>\n",
       "      <th>address</th>\n",
       "      <th>longitude</th>\n",
       "      <th>latitude</th>\n",
       "      <th>date_time</th>\n",
       "      <th>hour_of_day</th>\n",
       "      <th>...</th>\n",
       "      <th>dist_to_police_station</th>\n",
       "      <th>num_close_police_stations</th>\n",
       "      <th>dist_to_dispensary</th>\n",
       "      <th>num_close_dispensaries</th>\n",
       "      <th>dist_to_health_facility</th>\n",
       "      <th>num_close_health_facilities</th>\n",
       "      <th>dist_to_shelter</th>\n",
       "      <th>num_close_shelters</th>\n",
       "      <th>dist_to_union_sq</th>\n",
       "      <th>altitude</th>\n",
       "    </tr>\n",
       "  </thead>\n",
       "  <tbody>\n",
       "    <tr>\n",
       "      <th>27308</th>\n",
       "      <td>3</td>\n",
       "      <td>GRAND THEFT FROM LOCKED AUTO</td>\n",
       "      <td>Tuesday</td>\n",
       "      <td>MISSION</td>\n",
       "      <td>NONE</td>\n",
       "      <td>HARRISON ST / 24TH ST</td>\n",
       "      <td>-122.411902</td>\n",
       "      <td>37.752628</td>\n",
       "      <td>2017-04-11 17:12:00</td>\n",
       "      <td>17</td>\n",
       "      <td>...</td>\n",
       "      <td>0.014371</td>\n",
       "      <td>0</td>\n",
       "      <td>0.008379</td>\n",
       "      <td>3</td>\n",
       "      <td>0.005412</td>\n",
       "      <td>10</td>\n",
       "      <td>0.005157</td>\n",
       "      <td>1</td>\n",
       "      <td>0.035700</td>\n",
       "      <td>-0.558103</td>\n",
       "    </tr>\n",
       "    <tr>\n",
       "      <th>25334</th>\n",
       "      <td>3</td>\n",
       "      <td>GRAND THEFT FROM LOCKED AUTO</td>\n",
       "      <td>Thursday</td>\n",
       "      <td>PARK</td>\n",
       "      <td>NONE</td>\n",
       "      <td>600 Block of PANORAMA DR</td>\n",
       "      <td>-122.451898</td>\n",
       "      <td>37.753848</td>\n",
       "      <td>2017-03-09 19:00:00</td>\n",
       "      <td>19</td>\n",
       "      <td>...</td>\n",
       "      <td>0.014354</td>\n",
       "      <td>0</td>\n",
       "      <td>0.025934</td>\n",
       "      <td>0</td>\n",
       "      <td>0.008140</td>\n",
       "      <td>2</td>\n",
       "      <td>0.013514</td>\n",
       "      <td>0</td>\n",
       "      <td>0.056048</td>\n",
       "      <td>5.009184</td>\n",
       "    </tr>\n",
       "    <tr>\n",
       "      <th>107318</th>\n",
       "      <td>3</td>\n",
       "      <td>GRAND THEFT FROM LOCKED AUTO</td>\n",
       "      <td>Sunday</td>\n",
       "      <td>RICHMOND</td>\n",
       "      <td>NONE</td>\n",
       "      <td>4500 Block of CABRILLO ST</td>\n",
       "      <td>-122.507369</td>\n",
       "      <td>37.773437</td>\n",
       "      <td>2016-10-16 22:00:00</td>\n",
       "      <td>22</td>\n",
       "      <td>...</td>\n",
       "      <td>0.039389</td>\n",
       "      <td>0</td>\n",
       "      <td>0.036900</td>\n",
       "      <td>0</td>\n",
       "      <td>0.010027</td>\n",
       "      <td>0</td>\n",
       "      <td>0.022474</td>\n",
       "      <td>0</td>\n",
       "      <td>0.100933</td>\n",
       "      <td>-0.570285</td>\n",
       "    </tr>\n",
       "    <tr>\n",
       "      <th>30892</th>\n",
       "      <td>2</td>\n",
       "      <td>PETTY THEFT SHOPLIFTING</td>\n",
       "      <td>Friday</td>\n",
       "      <td>BAYVIEW</td>\n",
       "      <td>ARREST, BOOKED</td>\n",
       "      <td>400 Block of RHODEISLAND ST</td>\n",
       "      <td>-122.402571</td>\n",
       "      <td>37.764126</td>\n",
       "      <td>2016-02-12 12:16:00</td>\n",
       "      <td>12</td>\n",
       "      <td>...</td>\n",
       "      <td>0.015534</td>\n",
       "      <td>0</td>\n",
       "      <td>0.015927</td>\n",
       "      <td>0</td>\n",
       "      <td>0.008286</td>\n",
       "      <td>5</td>\n",
       "      <td>0.005373</td>\n",
       "      <td>3</td>\n",
       "      <td>0.024432</td>\n",
       "      <td>-0.667743</td>\n",
       "    </tr>\n",
       "    <tr>\n",
       "      <th>103089</th>\n",
       "      <td>8</td>\n",
       "      <td>PETTY THEFT OF PROPERTY</td>\n",
       "      <td>Friday</td>\n",
       "      <td>SOUTHERN</td>\n",
       "      <td>NONE</td>\n",
       "      <td>MARKET ST / SPEAR ST</td>\n",
       "      <td>-122.395630</td>\n",
       "      <td>37.793790</td>\n",
       "      <td>2016-07-29 17:00:00</td>\n",
       "      <td>17</td>\n",
       "      <td>...</td>\n",
       "      <td>0.015119</td>\n",
       "      <td>0</td>\n",
       "      <td>0.006099</td>\n",
       "      <td>2</td>\n",
       "      <td>0.009463</td>\n",
       "      <td>1</td>\n",
       "      <td>0.003558</td>\n",
       "      <td>6</td>\n",
       "      <td>0.013182</td>\n",
       "      <td>-0.954026</td>\n",
       "    </tr>\n",
       "    <tr>\n",
       "      <th>44351</th>\n",
       "      <td>2</td>\n",
       "      <td>PETTY THEFT SHOPLIFTING</td>\n",
       "      <td>Saturday</td>\n",
       "      <td>SOUTHERN</td>\n",
       "      <td>ARREST, BOOKED</td>\n",
       "      <td>800 Block of MARKET ST</td>\n",
       "      <td>-122.406521</td>\n",
       "      <td>37.785063</td>\n",
       "      <td>2016-05-14 15:11:00</td>\n",
       "      <td>15</td>\n",
       "      <td>...</td>\n",
       "      <td>0.006526</td>\n",
       "      <td>1</td>\n",
       "      <td>0.003291</td>\n",
       "      <td>4</td>\n",
       "      <td>0.004467</td>\n",
       "      <td>9</td>\n",
       "      <td>0.000408</td>\n",
       "      <td>39</td>\n",
       "      <td>0.003149</td>\n",
       "      <td>-0.698199</td>\n",
       "    </tr>\n",
       "  </tbody>\n",
       "</table>\n",
       "<p>6 rows × 32 columns</p>\n",
       "</div>"
      ],
      "text/plain": [
       "        category                   description day_of_week pd_district  \\\n",
       "27308          3  GRAND THEFT FROM LOCKED AUTO     Tuesday     MISSION   \n",
       "25334          3  GRAND THEFT FROM LOCKED AUTO    Thursday        PARK   \n",
       "107318         3  GRAND THEFT FROM LOCKED AUTO      Sunday    RICHMOND   \n",
       "30892          2       PETTY THEFT SHOPLIFTING      Friday     BAYVIEW   \n",
       "103089         8       PETTY THEFT OF PROPERTY      Friday    SOUTHERN   \n",
       "44351          2       PETTY THEFT SHOPLIFTING    Saturday    SOUTHERN   \n",
       "\n",
       "            resolution                      address   longitude   latitude  \\\n",
       "27308             NONE        HARRISON ST / 24TH ST -122.411902  37.752628   \n",
       "25334             NONE     600 Block of PANORAMA DR -122.451898  37.753848   \n",
       "107318            NONE    4500 Block of CABRILLO ST -122.507369  37.773437   \n",
       "30892   ARREST, BOOKED  400 Block of RHODEISLAND ST -122.402571  37.764126   \n",
       "103089            NONE         MARKET ST / SPEAR ST -122.395630  37.793790   \n",
       "44351   ARREST, BOOKED       800 Block of MARKET ST -122.406521  37.785063   \n",
       "\n",
       "                  date_time  hour_of_day    ...    dist_to_police_station  \\\n",
       "27308   2017-04-11 17:12:00           17    ...                  0.014371   \n",
       "25334   2017-03-09 19:00:00           19    ...                  0.014354   \n",
       "107318  2016-10-16 22:00:00           22    ...                  0.039389   \n",
       "30892   2016-02-12 12:16:00           12    ...                  0.015534   \n",
       "103089  2016-07-29 17:00:00           17    ...                  0.015119   \n",
       "44351   2016-05-14 15:11:00           15    ...                  0.006526   \n",
       "\n",
       "       num_close_police_stations dist_to_dispensary  num_close_dispensaries  \\\n",
       "27308                          0           0.008379                       3   \n",
       "25334                          0           0.025934                       0   \n",
       "107318                         0           0.036900                       0   \n",
       "30892                          0           0.015927                       0   \n",
       "103089                         0           0.006099                       2   \n",
       "44351                          1           0.003291                       4   \n",
       "\n",
       "        dist_to_health_facility  num_close_health_facilities  dist_to_shelter  \\\n",
       "27308                  0.005412                           10         0.005157   \n",
       "25334                  0.008140                            2         0.013514   \n",
       "107318                 0.010027                            0         0.022474   \n",
       "30892                  0.008286                            5         0.005373   \n",
       "103089                 0.009463                            1         0.003558   \n",
       "44351                  0.004467                            9         0.000408   \n",
       "\n",
       "        num_close_shelters  dist_to_union_sq  altitude  \n",
       "27308                    1          0.035700 -0.558103  \n",
       "25334                    0          0.056048  5.009184  \n",
       "107318                   0          0.100933 -0.570285  \n",
       "30892                    3          0.024432 -0.667743  \n",
       "103089                   6          0.013182 -0.954026  \n",
       "44351                   39          0.003149 -0.698199  \n",
       "\n",
       "[6 rows x 32 columns]"
      ]
     },
     "execution_count": 80,
     "metadata": {},
     "output_type": "execute_result"
    }
   ],
   "source": [
    "df.sample(6)"
   ]
  },
  {
   "cell_type": "markdown",
   "metadata": {},
   "source": [
    "## Group hour of day into 3 categories"
   ]
  },
  {
   "cell_type": "code",
   "execution_count": 81,
   "metadata": {},
   "outputs": [],
   "source": [
    "def group_times(val):\n",
    "    d = {\n",
    "        0:'night',\n",
    "        1:'night',\n",
    "        2:'night',\n",
    "        3:'night',\n",
    "        4:'night',\n",
    "        5:'night',\n",
    "        6:'night',\n",
    "        7:'night',\n",
    "        8:'day',\n",
    "        9:'day',\n",
    "        10:'day',\n",
    "        11:'day',\n",
    "        12:'day',\n",
    "        13:'day',\n",
    "        14:'day',\n",
    "        15:'day',\n",
    "        16:'evening',\n",
    "        17:'evening',\n",
    "        18:'evening',\n",
    "        19:'evening',\n",
    "        20:'evening',\n",
    "        21:'evening',\n",
    "        22:'evening',\n",
    "        23:'night'\n",
    "    }\n",
    "    \n",
    "    return d[val]"
   ]
  },
  {
   "cell_type": "code",
   "execution_count": 82,
   "metadata": {},
   "outputs": [],
   "source": [
    "df['time_of_day'] = df['hour_of_day'].apply(group_times)\n",
    "df.drop('hour_of_day', axis=1, inplace=True)"
   ]
  },
  {
   "cell_type": "code",
   "execution_count": 83,
   "metadata": {},
   "outputs": [
    {
     "data": {
      "text/html": [
       "<div>\n",
       "<style>\n",
       "    .dataframe thead tr:only-child th {\n",
       "        text-align: right;\n",
       "    }\n",
       "\n",
       "    .dataframe thead th {\n",
       "        text-align: left;\n",
       "    }\n",
       "\n",
       "    .dataframe tbody tr th {\n",
       "        vertical-align: top;\n",
       "    }\n",
       "</style>\n",
       "<table border=\"1\" class=\"dataframe\">\n",
       "  <thead>\n",
       "    <tr style=\"text-align: right;\">\n",
       "      <th></th>\n",
       "      <th>category</th>\n",
       "      <th>description</th>\n",
       "      <th>day_of_week</th>\n",
       "      <th>pd_district</th>\n",
       "      <th>resolution</th>\n",
       "      <th>address</th>\n",
       "      <th>longitude</th>\n",
       "      <th>latitude</th>\n",
       "      <th>date_time</th>\n",
       "      <th>month</th>\n",
       "      <th>...</th>\n",
       "      <th>num_close_police_stations</th>\n",
       "      <th>dist_to_dispensary</th>\n",
       "      <th>num_close_dispensaries</th>\n",
       "      <th>dist_to_health_facility</th>\n",
       "      <th>num_close_health_facilities</th>\n",
       "      <th>dist_to_shelter</th>\n",
       "      <th>num_close_shelters</th>\n",
       "      <th>dist_to_union_sq</th>\n",
       "      <th>altitude</th>\n",
       "      <th>time_of_day</th>\n",
       "    </tr>\n",
       "  </thead>\n",
       "  <tbody>\n",
       "    <tr>\n",
       "      <th>102780</th>\n",
       "      <td>3</td>\n",
       "      <td>GRAND THEFT FROM UNLOCKED AUTO</td>\n",
       "      <td>Sunday</td>\n",
       "      <td>TENDERLOIN</td>\n",
       "      <td>NONE</td>\n",
       "      <td>200 Block of GOLDEN GATE AV</td>\n",
       "      <td>-122.414263</td>\n",
       "      <td>37.781757</td>\n",
       "      <td>2016-08-07 12:30:00</td>\n",
       "      <td>Aug</td>\n",
       "      <td>...</td>\n",
       "      <td>1</td>\n",
       "      <td>0.004796</td>\n",
       "      <td>5</td>\n",
       "      <td>0.000967</td>\n",
       "      <td>20</td>\n",
       "      <td>0.000781</td>\n",
       "      <td>44</td>\n",
       "      <td>0.009242</td>\n",
       "      <td>-0.405825</td>\n",
       "      <td>day</td>\n",
       "    </tr>\n",
       "    <tr>\n",
       "      <th>1795</th>\n",
       "      <td>2</td>\n",
       "      <td>PETTY THEFT SHOPLIFTING</td>\n",
       "      <td>Saturday</td>\n",
       "      <td>SOUTHERN</td>\n",
       "      <td>ARREST, BOOKED</td>\n",
       "      <td>800 Block of MARKET ST</td>\n",
       "      <td>-122.406521</td>\n",
       "      <td>37.785063</td>\n",
       "      <td>2017-01-14 15:56:00</td>\n",
       "      <td>Jan</td>\n",
       "      <td>...</td>\n",
       "      <td>1</td>\n",
       "      <td>0.003291</td>\n",
       "      <td>4</td>\n",
       "      <td>0.004467</td>\n",
       "      <td>9</td>\n",
       "      <td>0.000408</td>\n",
       "      <td>39</td>\n",
       "      <td>0.003149</td>\n",
       "      <td>-0.698199</td>\n",
       "      <td>day</td>\n",
       "    </tr>\n",
       "    <tr>\n",
       "      <th>100203</th>\n",
       "      <td>3</td>\n",
       "      <td>GRAND THEFT FROM LOCKED AUTO</td>\n",
       "      <td>Thursday</td>\n",
       "      <td>RICHMOND</td>\n",
       "      <td>NONE</td>\n",
       "      <td>600 Block of POINTLOBOS AV</td>\n",
       "      <td>-122.510525</td>\n",
       "      <td>37.779840</td>\n",
       "      <td>2016-06-30 18:30:00</td>\n",
       "      <td>Jun</td>\n",
       "      <td>...</td>\n",
       "      <td>0</td>\n",
       "      <td>0.039397</td>\n",
       "      <td>0</td>\n",
       "      <td>0.013541</td>\n",
       "      <td>0</td>\n",
       "      <td>0.024416</td>\n",
       "      <td>0</td>\n",
       "      <td>0.103352</td>\n",
       "      <td>0.638802</td>\n",
       "      <td>evening</td>\n",
       "    </tr>\n",
       "    <tr>\n",
       "      <th>95097</th>\n",
       "      <td>3</td>\n",
       "      <td>GRAND THEFT FROM LOCKED AUTO</td>\n",
       "      <td>Monday</td>\n",
       "      <td>SOUTHERN</td>\n",
       "      <td>NONE</td>\n",
       "      <td>800 Block of BRYANT ST</td>\n",
       "      <td>-122.403405</td>\n",
       "      <td>37.775421</td>\n",
       "      <td>2016-03-28 10:30:00</td>\n",
       "      <td>Mar</td>\n",
       "      <td>...</td>\n",
       "      <td>0</td>\n",
       "      <td>0.006862</td>\n",
       "      <td>3</td>\n",
       "      <td>0.003678</td>\n",
       "      <td>3</td>\n",
       "      <td>0.000950</td>\n",
       "      <td>28</td>\n",
       "      <td>0.013282</td>\n",
       "      <td>-0.920525</td>\n",
       "      <td>day</td>\n",
       "    </tr>\n",
       "    <tr>\n",
       "      <th>123906</th>\n",
       "      <td>3</td>\n",
       "      <td>GRAND THEFT FROM LOCKED AUTO</td>\n",
       "      <td>Monday</td>\n",
       "      <td>SOUTHERN</td>\n",
       "      <td>NONE</td>\n",
       "      <td>6TH ST / MISSION ST</td>\n",
       "      <td>-122.408711</td>\n",
       "      <td>37.780971</td>\n",
       "      <td>2016-03-07 12:10:00</td>\n",
       "      <td>Mar</td>\n",
       "      <td>...</td>\n",
       "      <td>1</td>\n",
       "      <td>0.001059</td>\n",
       "      <td>5</td>\n",
       "      <td>0.002007</td>\n",
       "      <td>11</td>\n",
       "      <td>0.000607</td>\n",
       "      <td>41</td>\n",
       "      <td>0.007188</td>\n",
       "      <td>-0.667743</td>\n",
       "      <td>day</td>\n",
       "    </tr>\n",
       "    <tr>\n",
       "      <th>9091</th>\n",
       "      <td>3</td>\n",
       "      <td>PETTY THEFT FROM LOCKED AUTO</td>\n",
       "      <td>Wednesday</td>\n",
       "      <td>SOUTHERN</td>\n",
       "      <td>NONE</td>\n",
       "      <td>500 Block of 9TH ST</td>\n",
       "      <td>-122.407702</td>\n",
       "      <td>37.770697</td>\n",
       "      <td>2017-02-22 12:30:00</td>\n",
       "      <td>Feb</td>\n",
       "      <td>...</td>\n",
       "      <td>0</td>\n",
       "      <td>0.008911</td>\n",
       "      <td>3</td>\n",
       "      <td>0.005390</td>\n",
       "      <td>4</td>\n",
       "      <td>0.002082</td>\n",
       "      <td>23</td>\n",
       "      <td>0.017360</td>\n",
       "      <td>-0.893115</td>\n",
       "      <td>day</td>\n",
       "    </tr>\n",
       "  </tbody>\n",
       "</table>\n",
       "<p>6 rows × 32 columns</p>\n",
       "</div>"
      ],
      "text/plain": [
       "        category                     description day_of_week pd_district  \\\n",
       "102780         3  GRAND THEFT FROM UNLOCKED AUTO      Sunday  TENDERLOIN   \n",
       "1795           2         PETTY THEFT SHOPLIFTING    Saturday    SOUTHERN   \n",
       "100203         3    GRAND THEFT FROM LOCKED AUTO    Thursday    RICHMOND   \n",
       "95097          3    GRAND THEFT FROM LOCKED AUTO      Monday    SOUTHERN   \n",
       "123906         3    GRAND THEFT FROM LOCKED AUTO      Monday    SOUTHERN   \n",
       "9091           3    PETTY THEFT FROM LOCKED AUTO   Wednesday    SOUTHERN   \n",
       "\n",
       "            resolution                      address   longitude   latitude  \\\n",
       "102780            NONE  200 Block of GOLDEN GATE AV -122.414263  37.781757   \n",
       "1795    ARREST, BOOKED       800 Block of MARKET ST -122.406521  37.785063   \n",
       "100203            NONE   600 Block of POINTLOBOS AV -122.510525  37.779840   \n",
       "95097             NONE       800 Block of BRYANT ST -122.403405  37.775421   \n",
       "123906            NONE          6TH ST / MISSION ST -122.408711  37.780971   \n",
       "9091              NONE          500 Block of 9TH ST -122.407702  37.770697   \n",
       "\n",
       "                  date_time month     ...      num_close_police_stations  \\\n",
       "102780  2016-08-07 12:30:00   Aug     ...                              1   \n",
       "1795    2017-01-14 15:56:00   Jan     ...                              1   \n",
       "100203  2016-06-30 18:30:00   Jun     ...                              0   \n",
       "95097   2016-03-28 10:30:00   Mar     ...                              0   \n",
       "123906  2016-03-07 12:10:00   Mar     ...                              1   \n",
       "9091    2017-02-22 12:30:00   Feb     ...                              0   \n",
       "\n",
       "       dist_to_dispensary  num_close_dispensaries  dist_to_health_facility  \\\n",
       "102780           0.004796                       5                 0.000967   \n",
       "1795             0.003291                       4                 0.004467   \n",
       "100203           0.039397                       0                 0.013541   \n",
       "95097            0.006862                       3                 0.003678   \n",
       "123906           0.001059                       5                 0.002007   \n",
       "9091             0.008911                       3                 0.005390   \n",
       "\n",
       "        num_close_health_facilities  dist_to_shelter  num_close_shelters  \\\n",
       "102780                           20         0.000781                  44   \n",
       "1795                              9         0.000408                  39   \n",
       "100203                            0         0.024416                   0   \n",
       "95097                             3         0.000950                  28   \n",
       "123906                           11         0.000607                  41   \n",
       "9091                              4         0.002082                  23   \n",
       "\n",
       "        dist_to_union_sq  altitude  time_of_day  \n",
       "102780          0.009242 -0.405825          day  \n",
       "1795            0.003149 -0.698199          day  \n",
       "100203          0.103352  0.638802      evening  \n",
       "95097           0.013282 -0.920525          day  \n",
       "123906          0.007188 -0.667743          day  \n",
       "9091            0.017360 -0.893115          day  \n",
       "\n",
       "[6 rows x 32 columns]"
      ]
     },
     "execution_count": 83,
     "metadata": {},
     "output_type": "execute_result"
    }
   ],
   "source": [
    "df.sample(6)"
   ]
  },
  {
   "cell_type": "code",
   "execution_count": 84,
   "metadata": {},
   "outputs": [
    {
     "data": {
      "text/plain": [
       "Index(['category', 'description', 'day_of_week', 'pd_district', 'resolution',\n",
       "       'address', 'longitude', 'latitude', 'date_time', 'month',\n",
       "       'broad_category', 'geometry', 'id', 'pop10_sqmi', 'pop2010', 'sqmi',\n",
       "       'zip_code', 'median_income', 'z_index', 'dist_to_train_station',\n",
       "       'num_close_train_stations', 'dist_to_police_station',\n",
       "       'num_close_police_stations', 'dist_to_dispensary',\n",
       "       'num_close_dispensaries', 'dist_to_health_facility',\n",
       "       'num_close_health_facilities', 'dist_to_shelter', 'num_close_shelters',\n",
       "       'dist_to_union_sq', 'altitude', 'time_of_day'],\n",
       "      dtype='object')"
      ]
     },
     "execution_count": 84,
     "metadata": {},
     "output_type": "execute_result"
    }
   ],
   "source": [
    "df.columns"
   ]
  },
  {
   "cell_type": "markdown",
   "metadata": {},
   "source": [
    "## Convert categorical data into dummies"
   ]
  },
  {
   "cell_type": "code",
   "execution_count": 85,
   "metadata": {
    "collapsed": true
   },
   "outputs": [],
   "source": [
    "model_df = df.drop(['description','resolution','address','longitude','latitude','broad_category',\n",
    "                    'geometry','id','date_time','pop2010','sqmi'], axis=1)"
   ]
  },
  {
   "cell_type": "code",
   "execution_count": 86,
   "metadata": {},
   "outputs": [
    {
     "data": {
      "text/plain": [
       "(92828, 21)"
      ]
     },
     "execution_count": 86,
     "metadata": {},
     "output_type": "execute_result"
    }
   ],
   "source": [
    "model_df.shape"
   ]
  },
  {
   "cell_type": "code",
   "execution_count": 87,
   "metadata": {},
   "outputs": [
    {
     "data": {
      "text/plain": [
       "Index(['category', 'day_of_week', 'pd_district', 'month', 'pop10_sqmi',\n",
       "       'zip_code', 'median_income', 'z_index', 'dist_to_train_station',\n",
       "       'num_close_train_stations', 'dist_to_police_station',\n",
       "       'num_close_police_stations', 'dist_to_dispensary',\n",
       "       'num_close_dispensaries', 'dist_to_health_facility',\n",
       "       'num_close_health_facilities', 'dist_to_shelter', 'num_close_shelters',\n",
       "       'dist_to_union_sq', 'altitude', 'time_of_day'],\n",
       "      dtype='object')"
      ]
     },
     "execution_count": 87,
     "metadata": {},
     "output_type": "execute_result"
    }
   ],
   "source": [
    "model_df.columns"
   ]
  },
  {
   "cell_type": "code",
   "execution_count": 88,
   "metadata": {
    "collapsed": true
   },
   "outputs": [],
   "source": [
    "prepared_df = pd.get_dummies(model_df, columns=['day_of_week','pd_district','month','zip_code','time_of_day'])"
   ]
  },
  {
   "cell_type": "code",
   "execution_count": 89,
   "metadata": {},
   "outputs": [
    {
     "data": {
      "text/plain": [
       "(92828, 74)"
      ]
     },
     "execution_count": 89,
     "metadata": {},
     "output_type": "execute_result"
    }
   ],
   "source": [
    "prepared_df.shape"
   ]
  },
  {
   "cell_type": "code",
   "execution_count": 90,
   "metadata": {},
   "outputs": [
    {
     "data": {
      "text/plain": [
       "Index(['category', 'pop10_sqmi', 'median_income', 'z_index',\n",
       "       'dist_to_train_station', 'num_close_train_stations',\n",
       "       'dist_to_police_station', 'num_close_police_stations',\n",
       "       'dist_to_dispensary', 'num_close_dispensaries',\n",
       "       'dist_to_health_facility', 'num_close_health_facilities',\n",
       "       'dist_to_shelter', 'num_close_shelters', 'dist_to_union_sq', 'altitude',\n",
       "       'day_of_week_Friday', 'day_of_week_Monday', 'day_of_week_Saturday',\n",
       "       'day_of_week_Sunday', 'day_of_week_Thursday', 'day_of_week_Tuesday',\n",
       "       'day_of_week_Wednesday', 'pd_district_BAYVIEW', 'pd_district_CENTRAL',\n",
       "       'pd_district_INGLESIDE', 'pd_district_MISSION', 'pd_district_NORTHERN',\n",
       "       'pd_district_PARK', 'pd_district_RICHMOND', 'pd_district_SOUTHERN',\n",
       "       'pd_district_TARAVAL', 'pd_district_TENDERLOIN', 'month_Apr',\n",
       "       'month_Aug', 'month_Dec', 'month_Feb', 'month_Jan', 'month_Jul',\n",
       "       'month_Jun', 'month_Mar', 'month_May', 'month_Nov', 'month_Oct',\n",
       "       'month_Sep', 'zip_code_94102.0', 'zip_code_94103.0', 'zip_code_94104.0',\n",
       "       'zip_code_94105.0', 'zip_code_94107.0', 'zip_code_94108.0',\n",
       "       'zip_code_94109.0', 'zip_code_94110.0', 'zip_code_94111.0',\n",
       "       'zip_code_94112.0', 'zip_code_94114.0', 'zip_code_94115.0',\n",
       "       'zip_code_94116.0', 'zip_code_94117.0', 'zip_code_94118.0',\n",
       "       'zip_code_94121.0', 'zip_code_94122.0', 'zip_code_94123.0',\n",
       "       'zip_code_94124.0', 'zip_code_94127.0', 'zip_code_94130.0',\n",
       "       'zip_code_94131.0', 'zip_code_94132.0', 'zip_code_94133.0',\n",
       "       'zip_code_94134.0', 'zip_code_94158.0', 'time_of_day_day',\n",
       "       'time_of_day_evening', 'time_of_day_night'],\n",
       "      dtype='object')"
      ]
     },
     "execution_count": 90,
     "metadata": {},
     "output_type": "execute_result"
    }
   ],
   "source": [
    "prepared_df.columns"
   ]
  },
  {
   "cell_type": "code",
   "execution_count": 92,
   "metadata": {},
   "outputs": [
    {
     "data": {
      "text/html": [
       "<div>\n",
       "<style>\n",
       "    .dataframe thead tr:only-child th {\n",
       "        text-align: right;\n",
       "    }\n",
       "\n",
       "    .dataframe thead th {\n",
       "        text-align: left;\n",
       "    }\n",
       "\n",
       "    .dataframe tbody tr th {\n",
       "        vertical-align: top;\n",
       "    }\n",
       "</style>\n",
       "<table border=\"1\" class=\"dataframe\">\n",
       "  <thead>\n",
       "    <tr style=\"text-align: right;\">\n",
       "      <th></th>\n",
       "      <th>category</th>\n",
       "      <th>pop10_sqmi</th>\n",
       "      <th>median_income</th>\n",
       "      <th>z_index</th>\n",
       "      <th>dist_to_train_station</th>\n",
       "      <th>num_close_train_stations</th>\n",
       "      <th>dist_to_police_station</th>\n",
       "      <th>num_close_police_stations</th>\n",
       "      <th>dist_to_dispensary</th>\n",
       "      <th>num_close_dispensaries</th>\n",
       "      <th>...</th>\n",
       "      <th>zip_code_94127.0</th>\n",
       "      <th>zip_code_94130.0</th>\n",
       "      <th>zip_code_94131.0</th>\n",
       "      <th>zip_code_94132.0</th>\n",
       "      <th>zip_code_94133.0</th>\n",
       "      <th>zip_code_94134.0</th>\n",
       "      <th>zip_code_94158.0</th>\n",
       "      <th>time_of_day_day</th>\n",
       "      <th>time_of_day_evening</th>\n",
       "      <th>time_of_day_night</th>\n",
       "    </tr>\n",
       "  </thead>\n",
       "  <tbody>\n",
       "    <tr>\n",
       "      <th>2481</th>\n",
       "      <td>3</td>\n",
       "      <td>2.035170</td>\n",
       "      <td>-1.496600</td>\n",
       "      <td>-1.059951</td>\n",
       "      <td>0.008401</td>\n",
       "      <td>1</td>\n",
       "      <td>0.009574</td>\n",
       "      <td>1</td>\n",
       "      <td>0.005655</td>\n",
       "      <td>4</td>\n",
       "      <td>...</td>\n",
       "      <td>0</td>\n",
       "      <td>0</td>\n",
       "      <td>0</td>\n",
       "      <td>0</td>\n",
       "      <td>0</td>\n",
       "      <td>0</td>\n",
       "      <td>0</td>\n",
       "      <td>0</td>\n",
       "      <td>1</td>\n",
       "      <td>0</td>\n",
       "    </tr>\n",
       "    <tr>\n",
       "      <th>124217</th>\n",
       "      <td>3</td>\n",
       "      <td>-1.361795</td>\n",
       "      <td>0.354000</td>\n",
       "      <td>-0.464602</td>\n",
       "      <td>0.027117</td>\n",
       "      <td>0</td>\n",
       "      <td>0.028051</td>\n",
       "      <td>0</td>\n",
       "      <td>0.014170</td>\n",
       "      <td>0</td>\n",
       "      <td>...</td>\n",
       "      <td>0</td>\n",
       "      <td>0</td>\n",
       "      <td>0</td>\n",
       "      <td>1</td>\n",
       "      <td>0</td>\n",
       "      <td>0</td>\n",
       "      <td>0</td>\n",
       "      <td>0</td>\n",
       "      <td>1</td>\n",
       "      <td>0</td>\n",
       "    </tr>\n",
       "    <tr>\n",
       "      <th>58435</th>\n",
       "      <td>1</td>\n",
       "      <td>2.035170</td>\n",
       "      <td>-1.496600</td>\n",
       "      <td>-1.059951</td>\n",
       "      <td>0.002599</td>\n",
       "      <td>2</td>\n",
       "      <td>0.001755</td>\n",
       "      <td>1</td>\n",
       "      <td>0.005372</td>\n",
       "      <td>5</td>\n",
       "      <td>...</td>\n",
       "      <td>0</td>\n",
       "      <td>0</td>\n",
       "      <td>0</td>\n",
       "      <td>0</td>\n",
       "      <td>0</td>\n",
       "      <td>0</td>\n",
       "      <td>0</td>\n",
       "      <td>1</td>\n",
       "      <td>0</td>\n",
       "      <td>0</td>\n",
       "    </tr>\n",
       "    <tr>\n",
       "      <th>32999</th>\n",
       "      <td>1</td>\n",
       "      <td>-0.389682</td>\n",
       "      <td>1.528841</td>\n",
       "      <td>0.942278</td>\n",
       "      <td>0.019625</td>\n",
       "      <td>0</td>\n",
       "      <td>0.016950</td>\n",
       "      <td>0</td>\n",
       "      <td>0.012212</td>\n",
       "      <td>0</td>\n",
       "      <td>...</td>\n",
       "      <td>0</td>\n",
       "      <td>0</td>\n",
       "      <td>0</td>\n",
       "      <td>0</td>\n",
       "      <td>0</td>\n",
       "      <td>0</td>\n",
       "      <td>0</td>\n",
       "      <td>1</td>\n",
       "      <td>0</td>\n",
       "      <td>0</td>\n",
       "    </tr>\n",
       "    <tr>\n",
       "      <th>3702</th>\n",
       "      <td>1</td>\n",
       "      <td>-0.317831</td>\n",
       "      <td>-0.998935</td>\n",
       "      <td>-0.492623</td>\n",
       "      <td>0.002470</td>\n",
       "      <td>2</td>\n",
       "      <td>0.006218</td>\n",
       "      <td>1</td>\n",
       "      <td>0.001174</td>\n",
       "      <td>5</td>\n",
       "      <td>...</td>\n",
       "      <td>0</td>\n",
       "      <td>0</td>\n",
       "      <td>0</td>\n",
       "      <td>0</td>\n",
       "      <td>0</td>\n",
       "      <td>0</td>\n",
       "      <td>0</td>\n",
       "      <td>1</td>\n",
       "      <td>0</td>\n",
       "      <td>0</td>\n",
       "    </tr>\n",
       "  </tbody>\n",
       "</table>\n",
       "<p>5 rows × 74 columns</p>\n",
       "</div>"
      ],
      "text/plain": [
       "        category  pop10_sqmi  median_income   z_index  dist_to_train_station  \\\n",
       "2481           3    2.035170      -1.496600 -1.059951               0.008401   \n",
       "124217         3   -1.361795       0.354000 -0.464602               0.027117   \n",
       "58435          1    2.035170      -1.496600 -1.059951               0.002599   \n",
       "32999          1   -0.389682       1.528841  0.942278               0.019625   \n",
       "3702           1   -0.317831      -0.998935 -0.492623               0.002470   \n",
       "\n",
       "        num_close_train_stations  dist_to_police_station  \\\n",
       "2481                           1                0.009574   \n",
       "124217                         0                0.028051   \n",
       "58435                          2                0.001755   \n",
       "32999                          0                0.016950   \n",
       "3702                           2                0.006218   \n",
       "\n",
       "        num_close_police_stations  dist_to_dispensary  num_close_dispensaries  \\\n",
       "2481                            1            0.005655                       4   \n",
       "124217                          0            0.014170                       0   \n",
       "58435                           1            0.005372                       5   \n",
       "32999                           0            0.012212                       0   \n",
       "3702                            1            0.001174                       5   \n",
       "\n",
       "              ...          zip_code_94127.0  zip_code_94130.0  \\\n",
       "2481          ...                         0                 0   \n",
       "124217        ...                         0                 0   \n",
       "58435         ...                         0                 0   \n",
       "32999         ...                         0                 0   \n",
       "3702          ...                         0                 0   \n",
       "\n",
       "        zip_code_94131.0  zip_code_94132.0  zip_code_94133.0  \\\n",
       "2481                   0                 0                 0   \n",
       "124217                 0                 1                 0   \n",
       "58435                  0                 0                 0   \n",
       "32999                  0                 0                 0   \n",
       "3702                   0                 0                 0   \n",
       "\n",
       "        zip_code_94134.0  zip_code_94158.0  time_of_day_day  \\\n",
       "2481                   0                 0                0   \n",
       "124217                 0                 0                0   \n",
       "58435                  0                 0                1   \n",
       "32999                  0                 0                1   \n",
       "3702                   0                 0                1   \n",
       "\n",
       "        time_of_day_evening  time_of_day_night  \n",
       "2481                      1                  0  \n",
       "124217                    1                  0  \n",
       "58435                     0                  0  \n",
       "32999                     0                  0  \n",
       "3702                      0                  0  \n",
       "\n",
       "[5 rows x 74 columns]"
      ]
     },
     "execution_count": 92,
     "metadata": {},
     "output_type": "execute_result"
    }
   ],
   "source": [
    "prepared_df.sample(5)"
   ]
  },
  {
   "cell_type": "markdown",
   "metadata": {},
   "source": [
    "## Create X and y"
   ]
  },
  {
   "cell_type": "code",
   "execution_count": 93,
   "metadata": {},
   "outputs": [],
   "source": [
    "X = prepared_df.drop('category', axis=1)"
   ]
  },
  {
   "cell_type": "code",
   "execution_count": 94,
   "metadata": {},
   "outputs": [
    {
     "data": {
      "text/html": [
       "<div>\n",
       "<style>\n",
       "    .dataframe thead tr:only-child th {\n",
       "        text-align: right;\n",
       "    }\n",
       "\n",
       "    .dataframe thead th {\n",
       "        text-align: left;\n",
       "    }\n",
       "\n",
       "    .dataframe tbody tr th {\n",
       "        vertical-align: top;\n",
       "    }\n",
       "</style>\n",
       "<table border=\"1\" class=\"dataframe\">\n",
       "  <thead>\n",
       "    <tr style=\"text-align: right;\">\n",
       "      <th></th>\n",
       "      <th>pop10_sqmi</th>\n",
       "      <th>median_income</th>\n",
       "      <th>z_index</th>\n",
       "      <th>dist_to_train_station</th>\n",
       "      <th>num_close_train_stations</th>\n",
       "      <th>dist_to_police_station</th>\n",
       "      <th>num_close_police_stations</th>\n",
       "      <th>dist_to_dispensary</th>\n",
       "      <th>num_close_dispensaries</th>\n",
       "      <th>dist_to_health_facility</th>\n",
       "      <th>...</th>\n",
       "      <th>zip_code_94127.0</th>\n",
       "      <th>zip_code_94130.0</th>\n",
       "      <th>zip_code_94131.0</th>\n",
       "      <th>zip_code_94132.0</th>\n",
       "      <th>zip_code_94133.0</th>\n",
       "      <th>zip_code_94134.0</th>\n",
       "      <th>zip_code_94158.0</th>\n",
       "      <th>time_of_day_day</th>\n",
       "      <th>time_of_day_evening</th>\n",
       "      <th>time_of_day_night</th>\n",
       "    </tr>\n",
       "  </thead>\n",
       "  <tbody>\n",
       "    <tr>\n",
       "      <th>0</th>\n",
       "      <td>-1.361795</td>\n",
       "      <td>0.354000</td>\n",
       "      <td>-0.464602</td>\n",
       "      <td>0.028985</td>\n",
       "      <td>0</td>\n",
       "      <td>0.016293</td>\n",
       "      <td>0</td>\n",
       "      <td>0.012360</td>\n",
       "      <td>0</td>\n",
       "      <td>0.020727</td>\n",
       "      <td>...</td>\n",
       "      <td>0</td>\n",
       "      <td>0</td>\n",
       "      <td>0</td>\n",
       "      <td>1</td>\n",
       "      <td>0</td>\n",
       "      <td>0</td>\n",
       "      <td>0</td>\n",
       "      <td>0</td>\n",
       "      <td>1</td>\n",
       "      <td>0</td>\n",
       "    </tr>\n",
       "    <tr>\n",
       "      <th>1</th>\n",
       "      <td>-1.361795</td>\n",
       "      <td>0.354000</td>\n",
       "      <td>-0.464602</td>\n",
       "      <td>0.028985</td>\n",
       "      <td>0</td>\n",
       "      <td>0.016293</td>\n",
       "      <td>0</td>\n",
       "      <td>0.012360</td>\n",
       "      <td>0</td>\n",
       "      <td>0.020727</td>\n",
       "      <td>...</td>\n",
       "      <td>0</td>\n",
       "      <td>0</td>\n",
       "      <td>0</td>\n",
       "      <td>1</td>\n",
       "      <td>0</td>\n",
       "      <td>0</td>\n",
       "      <td>0</td>\n",
       "      <td>0</td>\n",
       "      <td>1</td>\n",
       "      <td>0</td>\n",
       "    </tr>\n",
       "    <tr>\n",
       "      <th>2</th>\n",
       "      <td>2.035170</td>\n",
       "      <td>-1.496600</td>\n",
       "      <td>-1.059951</td>\n",
       "      <td>0.003517</td>\n",
       "      <td>1</td>\n",
       "      <td>0.006849</td>\n",
       "      <td>1</td>\n",
       "      <td>0.003571</td>\n",
       "      <td>6</td>\n",
       "      <td>0.001241</td>\n",
       "      <td>...</td>\n",
       "      <td>0</td>\n",
       "      <td>0</td>\n",
       "      <td>0</td>\n",
       "      <td>0</td>\n",
       "      <td>0</td>\n",
       "      <td>0</td>\n",
       "      <td>0</td>\n",
       "      <td>0</td>\n",
       "      <td>1</td>\n",
       "      <td>0</td>\n",
       "    </tr>\n",
       "    <tr>\n",
       "      <th>3</th>\n",
       "      <td>0.010387</td>\n",
       "      <td>0.285698</td>\n",
       "      <td>-0.000561</td>\n",
       "      <td>0.004819</td>\n",
       "      <td>1</td>\n",
       "      <td>0.010118</td>\n",
       "      <td>0</td>\n",
       "      <td>0.005320</td>\n",
       "      <td>4</td>\n",
       "      <td>0.005030</td>\n",
       "      <td>...</td>\n",
       "      <td>0</td>\n",
       "      <td>0</td>\n",
       "      <td>0</td>\n",
       "      <td>0</td>\n",
       "      <td>0</td>\n",
       "      <td>0</td>\n",
       "      <td>0</td>\n",
       "      <td>1</td>\n",
       "      <td>0</td>\n",
       "      <td>0</td>\n",
       "    </tr>\n",
       "    <tr>\n",
       "      <th>4</th>\n",
       "      <td>-1.361795</td>\n",
       "      <td>0.354000</td>\n",
       "      <td>-0.464602</td>\n",
       "      <td>0.028985</td>\n",
       "      <td>0</td>\n",
       "      <td>0.016293</td>\n",
       "      <td>0</td>\n",
       "      <td>0.012360</td>\n",
       "      <td>0</td>\n",
       "      <td>0.020727</td>\n",
       "      <td>...</td>\n",
       "      <td>0</td>\n",
       "      <td>0</td>\n",
       "      <td>0</td>\n",
       "      <td>1</td>\n",
       "      <td>0</td>\n",
       "      <td>0</td>\n",
       "      <td>0</td>\n",
       "      <td>1</td>\n",
       "      <td>0</td>\n",
       "      <td>0</td>\n",
       "    </tr>\n",
       "  </tbody>\n",
       "</table>\n",
       "<p>5 rows × 73 columns</p>\n",
       "</div>"
      ],
      "text/plain": [
       "   pop10_sqmi  median_income   z_index  dist_to_train_station  \\\n",
       "0   -1.361795       0.354000 -0.464602               0.028985   \n",
       "1   -1.361795       0.354000 -0.464602               0.028985   \n",
       "2    2.035170      -1.496600 -1.059951               0.003517   \n",
       "3    0.010387       0.285698 -0.000561               0.004819   \n",
       "4   -1.361795       0.354000 -0.464602               0.028985   \n",
       "\n",
       "   num_close_train_stations  dist_to_police_station  \\\n",
       "0                         0                0.016293   \n",
       "1                         0                0.016293   \n",
       "2                         1                0.006849   \n",
       "3                         1                0.010118   \n",
       "4                         0                0.016293   \n",
       "\n",
       "   num_close_police_stations  dist_to_dispensary  num_close_dispensaries  \\\n",
       "0                          0            0.012360                       0   \n",
       "1                          0            0.012360                       0   \n",
       "2                          1            0.003571                       6   \n",
       "3                          0            0.005320                       4   \n",
       "4                          0            0.012360                       0   \n",
       "\n",
       "   dist_to_health_facility        ...          zip_code_94127.0  \\\n",
       "0                 0.020727        ...                         0   \n",
       "1                 0.020727        ...                         0   \n",
       "2                 0.001241        ...                         0   \n",
       "3                 0.005030        ...                         0   \n",
       "4                 0.020727        ...                         0   \n",
       "\n",
       "   zip_code_94130.0  zip_code_94131.0  zip_code_94132.0  zip_code_94133.0  \\\n",
       "0                 0                 0                 1                 0   \n",
       "1                 0                 0                 1                 0   \n",
       "2                 0                 0                 0                 0   \n",
       "3                 0                 0                 0                 0   \n",
       "4                 0                 0                 1                 0   \n",
       "\n",
       "   zip_code_94134.0  zip_code_94158.0  time_of_day_day  time_of_day_evening  \\\n",
       "0                 0                 0                0                    1   \n",
       "1                 0                 0                0                    1   \n",
       "2                 0                 0                0                    1   \n",
       "3                 0                 0                1                    0   \n",
       "4                 0                 0                1                    0   \n",
       "\n",
       "   time_of_day_night  \n",
       "0                  0  \n",
       "1                  0  \n",
       "2                  0  \n",
       "3                  0  \n",
       "4                  0  \n",
       "\n",
       "[5 rows x 73 columns]"
      ]
     },
     "execution_count": 94,
     "metadata": {},
     "output_type": "execute_result"
    }
   ],
   "source": [
    "X.head()"
   ]
  },
  {
   "cell_type": "code",
   "execution_count": 95,
   "metadata": {
    "collapsed": true
   },
   "outputs": [],
   "source": [
    "y = prepared_df['category']"
   ]
  },
  {
   "cell_type": "code",
   "execution_count": 96,
   "metadata": {},
   "outputs": [
    {
     "data": {
      "text/plain": [
       "array([1, 2, 3, 4, 5, 6, 7, 8])"
      ]
     },
     "execution_count": 96,
     "metadata": {},
     "output_type": "execute_result"
    }
   ],
   "source": [
    "y.unique()"
   ]
  },
  {
   "cell_type": "markdown",
   "metadata": {},
   "source": [
    "## Feature Selection"
   ]
  },
  {
   "cell_type": "code",
   "execution_count": 98,
   "metadata": {},
   "outputs": [
    {
     "data": {
      "text/plain": [
       "Index(['pop10_sqmi', 'median_income', 'z_index', 'dist_to_train_station',\n",
       "       'num_close_train_stations', 'dist_to_police_station',\n",
       "       'num_close_police_stations', 'dist_to_dispensary',\n",
       "       'num_close_dispensaries', 'dist_to_health_facility',\n",
       "       'num_close_health_facilities', 'dist_to_shelter', 'num_close_shelters',\n",
       "       'dist_to_union_sq', 'altitude', 'day_of_week_Friday',\n",
       "       'day_of_week_Monday', 'day_of_week_Saturday', 'day_of_week_Sunday',\n",
       "       'day_of_week_Thursday', 'day_of_week_Tuesday', 'day_of_week_Wednesday',\n",
       "       'pd_district_BAYVIEW', 'pd_district_CENTRAL', 'pd_district_INGLESIDE',\n",
       "       'pd_district_MISSION', 'pd_district_NORTHERN', 'pd_district_PARK',\n",
       "       'pd_district_RICHMOND', 'pd_district_SOUTHERN', 'pd_district_TARAVAL',\n",
       "       'pd_district_TENDERLOIN', 'month_Apr', 'month_Aug', 'month_Dec',\n",
       "       'month_Feb', 'month_Jan', 'month_Jul', 'month_Jun', 'month_Mar',\n",
       "       'month_May', 'month_Nov', 'month_Oct', 'month_Sep', 'zip_code_94102.0',\n",
       "       'zip_code_94103.0', 'zip_code_94104.0', 'zip_code_94105.0',\n",
       "       'zip_code_94107.0', 'zip_code_94108.0', 'zip_code_94109.0',\n",
       "       'zip_code_94110.0', 'zip_code_94111.0', 'zip_code_94112.0',\n",
       "       'zip_code_94114.0', 'zip_code_94115.0', 'zip_code_94116.0',\n",
       "       'zip_code_94117.0', 'zip_code_94118.0', 'zip_code_94121.0',\n",
       "       'zip_code_94122.0', 'zip_code_94123.0', 'zip_code_94124.0',\n",
       "       'zip_code_94127.0', 'zip_code_94130.0', 'zip_code_94131.0',\n",
       "       'zip_code_94132.0', 'zip_code_94133.0', 'zip_code_94134.0',\n",
       "       'zip_code_94158.0', 'time_of_day_day', 'time_of_day_evening',\n",
       "       'time_of_day_night'],\n",
       "      dtype='object')"
      ]
     },
     "execution_count": 98,
     "metadata": {},
     "output_type": "execute_result"
    }
   ],
   "source": [
    "X.columns"
   ]
  },
  {
   "cell_type": "code",
   "execution_count": 99,
   "metadata": {},
   "outputs": [
    {
     "name": "stdout",
     "output_type": "stream",
     "text": [
      "(92828, 73)\n",
      "(92828,)\n"
     ]
    }
   ],
   "source": [
    "print(X.shape)\n",
    "print(y.shape)"
   ]
  },
  {
   "cell_type": "markdown",
   "metadata": {},
   "source": [
    "### Examine feature importances using a Random Forest Classifier"
   ]
  },
  {
   "cell_type": "code",
   "execution_count": 100,
   "metadata": {
    "collapsed": true
   },
   "outputs": [],
   "source": [
    "rf = RandomForestClassifier()\n",
    "rf = rf.fit(X, y)"
   ]
  },
  {
   "cell_type": "code",
   "execution_count": 103,
   "metadata": {},
   "outputs": [],
   "source": [
    "features = list(zip(X.columns, rf.feature_importances_))"
   ]
  },
  {
   "cell_type": "code",
   "execution_count": 107,
   "metadata": {},
   "outputs": [],
   "source": [
    "features = sorted(features, key=lambda x: x[1], reverse=True)"
   ]
  },
  {
   "cell_type": "code",
   "execution_count": 110,
   "metadata": {
    "collapsed": true
   },
   "outputs": [],
   "source": [
    "model = SelectFromModel(rf, prefit=True)"
   ]
  },
  {
   "cell_type": "code",
   "execution_count": 111,
   "metadata": {
    "collapsed": true
   },
   "outputs": [],
   "source": [
    "X_new = model.transform(X)"
   ]
  },
  {
   "cell_type": "code",
   "execution_count": 113,
   "metadata": {},
   "outputs": [
    {
     "data": {
      "text/plain": [
       "(92828, 73)"
      ]
     },
     "execution_count": 113,
     "metadata": {},
     "output_type": "execute_result"
    }
   ],
   "source": [
    "X.shape"
   ]
  },
  {
   "cell_type": "code",
   "execution_count": 112,
   "metadata": {},
   "outputs": [
    {
     "data": {
      "text/plain": [
       "(92828, 31)"
      ]
     },
     "execution_count": 112,
     "metadata": {},
     "output_type": "execute_result"
    }
   ],
   "source": [
    "X_new.shape"
   ]
  },
  {
   "cell_type": "code",
   "execution_count": 119,
   "metadata": {},
   "outputs": [
    {
     "data": {
      "text/plain": [
       "[('dist_to_union_sq', 0.068550792358501839),\n",
       " ('dist_to_train_station', 0.067317886398206211),\n",
       " ('dist_to_health_facility', 0.062054760604308944),\n",
       " ('dist_to_police_station', 0.061502079963091663),\n",
       " ('dist_to_dispensary', 0.06130159206604343),\n",
       " ('dist_to_shelter', 0.060512061761589589),\n",
       " ('altitude', 0.060400694610814799),\n",
       " ('num_close_shelters', 0.02619455150178094),\n",
       " ('day_of_week_Friday', 0.025161380105772947),\n",
       " ('day_of_week_Saturday', 0.024452254478526354),\n",
       " ('day_of_week_Wednesday', 0.024108333921286449),\n",
       " ('month_Jan', 0.024013717226003428),\n",
       " ('month_Mar', 0.023873331122724335),\n",
       " ('day_of_week_Sunday', 0.023716785219819465),\n",
       " ('month_Feb', 0.023481381022028715),\n",
       " ('day_of_week_Monday', 0.02313735948502749),\n",
       " ('day_of_week_Tuesday', 0.023023950178647425),\n",
       " ('day_of_week_Thursday', 0.022813445539399298),\n",
       " ('num_close_health_facilities', 0.021457658164269009),\n",
       " ('month_Apr', 0.020778375904478771),\n",
       " ('time_of_day_evening', 0.019432424030054445),\n",
       " ('time_of_day_day', 0.019337624602359264),\n",
       " ('time_of_day_night', 0.016938904255906825),\n",
       " ('month_Oct', 0.016428953050428283),\n",
       " ('month_Dec', 0.015808640604290002),\n",
       " ('month_Nov', 0.015664557969691989),\n",
       " ('month_Aug', 0.015472790757194677),\n",
       " ('month_May', 0.015416586419715337),\n",
       " ('month_Sep', 0.01521524575439508),\n",
       " ('month_Jun', 0.015112629953618844)]"
      ]
     },
     "execution_count": 119,
     "metadata": {},
     "output_type": "execute_result"
    }
   ],
   "source": [
    "features[0:30]"
   ]
  },
  {
   "cell_type": "markdown",
   "metadata": {},
   "source": [
    "## Modelling"
   ]
  },
  {
   "cell_type": "markdown",
   "metadata": {},
   "source": [
    "### Models, Parameters, Grid search"
   ]
  },
  {
   "cell_type": "code",
   "execution_count": 145,
   "metadata": {
    "collapsed": true
   },
   "outputs": [],
   "source": [
    "models_dict = {}\n",
    "\n",
    "models_dict['gradient_boost'] = GradientBoostingClassifier()\n",
    "models_dict['random_forest'] = RandomForestClassifier()\n",
    "models_dict['logistic'] = LogisticRegression()\n",
    "models_dict['knn'] = KNeighborsClassifier()\n",
    "models_dict['bagging'] = BaggingClassifier()\n",
    "models_dict['adaboost'] = AdaBoostClassifier()\n",
    "models_dict['extra_trees'] = ExtraTreesClassifier()\n",
    "\n",
    "param_dict = {}\n",
    "\n",
    "param_dict['gradient_boost'] = {\n",
    "    'model__n_estimators': [10, 100, 300],\n",
    "    'model__max_depth': [2, 3, 4, 5, 6],\n",
    "    'model__max_features': ['sqrt', 'auto'],\n",
    "    'model__min_samples_split': [5, 10, 20, 40]\n",
    "}\n",
    "\n",
    "param_dict['random_forest'] = {\n",
    "    'model__n_estimators': [10, 100, 300],\n",
    "    'model__max_depth': [2, 3, 4, 5, 6],\n",
    "    'model__max_features': ['sqrt', 'auto'],\n",
    "    'model__min_samples_split': [5, 10, 20, 40]\n",
    "}\n",
    "\n",
    "param_dict['bagging'] = {\n",
    "    'model__n_estimators': [10, 100, 300]\n",
    "}\n",
    "\n",
    "param_dict['adaboost'] = {\n",
    "    'model__n_estimators': [10, 100, 300]\n",
    "}\n",
    "\n",
    "param_dict['extra_trees'] = {\n",
    "    'model__n_estimators': [10, 100, 300],\n",
    "    'model__max_depth': [2, 3, 4, 5, 6],\n",
    "    'model__max_features': ['sqrt', 'auto'],\n",
    "    'model__min_samples_split': [5, 10, 20, 40]\n",
    "}\n",
    "\n",
    "param_dict['logistic'] = {\n",
    "    'model__penalty': ['l1', 'l2']\n",
    "}\n",
    "\n",
    "param_dict['knn'] = {\n",
    "    'model__n_neighbors': [5, 50, 100, 150, 200, 250, 300, 350, 400, 450, 500],\n",
    "    'model__weights': ['uniform', 'distance']\n",
    "}"
   ]
  },
  {
   "cell_type": "code",
   "execution_count": 146,
   "metadata": {
    "collapsed": true
   },
   "outputs": [],
   "source": [
    "def run_pipelines(model_dict, X, y, feature_list, param_dict):\n",
    "    '''\n",
    "    Runs through a pipeline for each type of model.\n",
    "    feature_list = list of tuples.\n",
    "    param_dict = a nested dictionary that contains the hyper parameters that need to be tuned.\n",
    "    '''\n",
    "    \n",
    "    X_train, X_test, y_train, y_test = train_test_split(X, y, test_size=0.3)\n",
    "        \n",
    "    grid_dict = {}\n",
    "    \n",
    "    for name, model in sorted(model_dict.items()):\n",
    "        # Feature selection is usually used as a pre-processing step before doing the actual learning. \n",
    "        \n",
    "        if feature_list:\n",
    "            combined_features = FeatureUnion(feature_list)\n",
    "\n",
    "            steps = [\n",
    "                ('features', combined_features),\n",
    "                # Evaluate feature importances and select the most relevant features.\n",
    "                # In this example, it is using Lasso to determine feature importances\n",
    "                ('feature_selection', SelectFromModel(RandomForestClassifier())),\n",
    "                # Train on the transformed output, i.e. using only relevant features\n",
    "                ('model', model)\n",
    "                    ]\n",
    "        else:\n",
    "            steps = [\n",
    "                ('feature_selection', SelectFromModel(RandomForestClassifier())),\n",
    "                ('model', model)\n",
    "                ]\n",
    "        \n",
    "        regression_pipeline = Pipeline(steps)\n",
    "        \n",
    "        if name in param_dict:\n",
    "            parameters = param_dict[name]\n",
    "        else:\n",
    "            return print('Incorrect parameters in the parameter dictionary.')\n",
    "            \n",
    "        grid_dict[name] = GridSearchCV(regression_pipeline, parameters, n_jobs=3, verbose=1)\n",
    "        train_fit = grid_dict[name].fit(X_train, y_train)\n",
    "        \n",
    "        # Output results\n",
    "        print('Model: ', name)\n",
    "        print('Best Score: %0.3f' % train_fit.best_score_)\n",
    "        print('Optimal Parameters: ', train_fit.best_params_)\n",
    "         \n",
    "    return grid_dict"
   ]
  },
  {
   "cell_type": "code",
   "execution_count": 147,
   "metadata": {},
   "outputs": [
    {
     "name": "stdout",
     "output_type": "stream",
     "text": [
      "Fitting 3 folds for each of 3 candidates, totalling 9 fits\n"
     ]
    },
    {
     "name": "stderr",
     "output_type": "stream",
     "text": [
      "[Parallel(n_jobs=3)]: Done   9 out of   9 | elapsed:   40.7s finished\n"
     ]
    },
    {
     "name": "stdout",
     "output_type": "stream",
     "text": [
      "Model:  adaboost\n",
      "Best Score: 0.412\n",
      "Optimal Parameters:  {'model__n_estimators': 300}\n",
      "Fitting 3 folds for each of 3 candidates, totalling 9 fits\n"
     ]
    },
    {
     "name": "stderr",
     "output_type": "stream",
     "text": [
      "[Parallel(n_jobs=3)]: Done   9 out of   9 | elapsed:  3.9min finished\n"
     ]
    },
    {
     "name": "stdout",
     "output_type": "stream",
     "text": [
      "Model:  bagging\n",
      "Best Score: 0.438\n",
      "Optimal Parameters:  {'model__n_estimators': 300}\n",
      "Fitting 3 folds for each of 120 candidates, totalling 360 fits\n"
     ]
    },
    {
     "name": "stderr",
     "output_type": "stream",
     "text": [
      "[Parallel(n_jobs=3)]: Done  44 tasks      | elapsed:  1.1min\n",
      "[Parallel(n_jobs=3)]: Done 194 tasks      | elapsed:  4.7min\n",
      "[Parallel(n_jobs=3)]: Done 360 out of 360 | elapsed:  9.3min finished\n"
     ]
    },
    {
     "name": "stdout",
     "output_type": "stream",
     "text": [
      "Model:  extra_trees\n",
      "Best Score: 0.381\n",
      "Optimal Parameters:  {'model__max_depth': 6, 'model__max_features': 'auto', 'model__min_samples_split': 20, 'model__n_estimators': 10}\n",
      "Fitting 3 folds for each of 120 candidates, totalling 360 fits\n"
     ]
    },
    {
     "name": "stderr",
     "output_type": "stream",
     "text": [
      "[Parallel(n_jobs=3)]: Done  44 tasks      | elapsed:  8.2min\n",
      "[Parallel(n_jobs=3)]: Done 194 tasks      | elapsed: 55.6min\n",
      "[Parallel(n_jobs=3)]: Done 360 out of 360 | elapsed: 168.4min finished\n"
     ]
    },
    {
     "name": "stdout",
     "output_type": "stream",
     "text": [
      "Model:  gradient_boost\n",
      "Best Score: 0.457\n",
      "Optimal Parameters:  {'model__max_depth': 6, 'model__max_features': 'sqrt', 'model__min_samples_split': 20, 'model__n_estimators': 300}\n",
      "Fitting 3 folds for each of 22 candidates, totalling 66 fits\n"
     ]
    },
    {
     "name": "stderr",
     "output_type": "stream",
     "text": [
      "[Parallel(n_jobs=3)]: Done  44 tasks      | elapsed: 10.2min\n",
      "[Parallel(n_jobs=3)]: Done  66 out of  66 | elapsed: 16.6min finished\n"
     ]
    },
    {
     "name": "stdout",
     "output_type": "stream",
     "text": [
      "Model:  knn\n",
      "Best Score: 0.431\n",
      "Optimal Parameters:  {'model__n_neighbors': 250, 'model__weights': 'distance'}\n",
      "Fitting 3 folds for each of 2 candidates, totalling 6 fits\n"
     ]
    },
    {
     "name": "stderr",
     "output_type": "stream",
     "text": [
      "[Parallel(n_jobs=3)]: Done   6 out of   6 | elapsed:   46.6s finished\n"
     ]
    },
    {
     "name": "stdout",
     "output_type": "stream",
     "text": [
      "Model:  logistic\n",
      "Best Score: 0.384\n",
      "Optimal Parameters:  {'model__penalty': 'l1'}\n",
      "Fitting 3 folds for each of 120 candidates, totalling 360 fits\n"
     ]
    },
    {
     "name": "stderr",
     "output_type": "stream",
     "text": [
      "[Parallel(n_jobs=3)]: Done  44 tasks      | elapsed:  1.3min\n",
      "[Parallel(n_jobs=3)]: Done 194 tasks      | elapsed:  6.0min\n",
      "[Parallel(n_jobs=3)]: Done 360 out of 360 | elapsed: 12.8min finished\n"
     ]
    },
    {
     "name": "stdout",
     "output_type": "stream",
     "text": [
      "Model:  random_forest\n",
      "Best Score: 0.410\n",
      "Optimal Parameters:  {'model__max_depth': 6, 'model__max_features': 'auto', 'model__min_samples_split': 10, 'model__n_estimators': 10}\n"
     ]
    }
   ],
   "source": [
    "grid = run_pipelines(models_dict, X, y, None, param_dict)"
   ]
  },
  {
   "cell_type": "code",
   "execution_count": 149,
   "metadata": {},
   "outputs": [
    {
     "data": {
      "text/plain": [
       "dict_keys(['adaboost', 'bagging', 'extra_trees', 'gradient_boost', 'knn', 'logistic', 'random_forest'])"
      ]
     },
     "execution_count": 149,
     "metadata": {},
     "output_type": "execute_result"
    }
   ],
   "source": [
    "grid.keys()"
   ]
  },
  {
   "cell_type": "code",
   "execution_count": 150,
   "metadata": {},
   "outputs": [
    {
     "data": {
      "text/plain": [
       "GridSearchCV(cv=None, error_score='raise',\n",
       "       estimator=Pipeline(steps=[('feature_selection', SelectFromModel(estimator=RandomForestClassifier(bootstrap=True, class_weight=None, criterion='gini',\n",
       "            max_depth=None, max_features='auto', max_leaf_nodes=None,\n",
       "            min_impurity_split=1e-07, min_samples_leaf=1,\n",
       "            min_samples_split=2, min_weig...owski',\n",
       "           metric_params=None, n_jobs=1, n_neighbors=5, p=2,\n",
       "           weights='uniform'))]),\n",
       "       fit_params={}, iid=True, n_jobs=3,\n",
       "       param_grid={'model__n_neighbors': [5, 50, 100, 150, 200, 250, 300, 350, 400, 450, 500], 'model__weights': ['uniform', 'distance']},\n",
       "       pre_dispatch='2*n_jobs', refit=True, return_train_score=True,\n",
       "       scoring=None, verbose=1)"
      ]
     },
     "execution_count": 150,
     "metadata": {},
     "output_type": "execute_result"
    }
   ],
   "source": [
    "grid['knn']"
   ]
  },
  {
   "cell_type": "markdown",
   "metadata": {},
   "source": [
    "### Stack all the best models"
   ]
  },
  {
   "cell_type": "code",
   "execution_count": 170,
   "metadata": {
    "collapsed": true
   },
   "outputs": [],
   "source": [
    "def stack_models(base_model_list, final_model, X_train, X_test, y_train, y_test, path, beta=0.5):\n",
    "    '''\n",
    "    DESCRIPTION:\n",
    "        - Using the stacking ensemble method, a stacked model is outputted.\n",
    "    INPUT: \n",
    "        - base_model_list is the list of model objects to be used in building the stacked model.\n",
    "        - final_model is the model object that will be used to train on the predicted values of the previous models.\n",
    "        - X_train, X_test, y_train, and y_test are training and validation data.\n",
    "        - path is the directory to save the final model\n",
    "        - beta is an optional parameter for the fbeta scoring metric\n",
    "    OUTPUT:\n",
    "        - final_model is the trained stacked model.\n",
    "        - score_dict is the various scoring metrics used to validate the model.\n",
    "    '''\n",
    "    df_ensemble_train = pd.DataFrame()\n",
    "    df_ensemble_test = pd.DataFrame()\n",
    "    \n",
    "    score_dict = {}\n",
    "    \n",
    "    for i,model in enumerate(base_model_list):\n",
    "        \n",
    "        model.fit(X_train, y_train)\n",
    "        print(\"FIT: \", model)\n",
    "        \n",
    "        train_pred = model.predict(X_train)\n",
    "        print(\"PREDICT TRAIN: \", model)\n",
    "        \n",
    "        test_pred = model.predict(X_test)\n",
    "        print(\"PREDICT TEST: \", model)\n",
    "        \n",
    "        col_name = 'M' + str(i+1)\n",
    "        df_ensemble_train[col_name] = train_pred\n",
    "        df_ensemble_test[col_name] = test_pred\n",
    "    \n",
    "    final_model.fit(df_ensemble_train, y_train)\n",
    "    print(\"FIT FINAL MODEL: \", final_model)\n",
    "    \n",
    "    y_pred = final_model.predict(df_ensemble_test)\n",
    "    print(\"PREDICT: \", final_model)\n",
    "        \n",
    "#     score_dict['acc'] = accuracy_score(y_test, y_pred)\n",
    "#     score_dict['pre'] = precision_score(y_test, y_pred)\n",
    "#     score_dict['rec'] = recall_score(y_test, y_pred)\n",
    "#     score_dict['f1'] = f1_score(y_test, y_pred)\n",
    "    score_dict['report'] = classification_report(y_test, y_pred)\n",
    "\n",
    "#     print('Accuracy: ', score_dict['acc'])\n",
    "#     print('Precision: ', score_dict['pre'])\n",
    "#     print('Recall: ', score_dict['rec'])\n",
    "#     print('F1: ', score_dict['f1'])\n",
    "    print('Classification Report:\\n', score_dict['report'])\n",
    "\n",
    "    if not os.path.isdir(path):\n",
    "        os.mkdir(path)\n",
    "        \n",
    "    loc = os.path.join(path, str(final_model) + '.pkl')\n",
    "    joblib.dump(final_model, loc)\n",
    "    \n",
    "    return final_model, score_dict"
   ]
  },
  {
   "cell_type": "code",
   "execution_count": 171,
   "metadata": {
    "collapsed": true
   },
   "outputs": [],
   "source": [
    "X_train, X_test, y_train, y_test = train_test_split(X_new, y, test_size=0.3)"
   ]
  },
  {
   "cell_type": "code",
   "execution_count": 177,
   "metadata": {},
   "outputs": [
    {
     "name": "stdout",
     "output_type": "stream",
     "text": [
      "Classification Report:\n",
      "              precision    recall  f1-score   support\n",
      "\n",
      "          1       0.40      0.46      0.43      5265\n",
      "          2       0.54      0.52      0.53      1082\n",
      "          3       0.51      0.83      0.64     10068\n",
      "          4       0.54      0.38      0.44      1673\n",
      "          5       0.27      0.05      0.09      3437\n",
      "          6       0.16      0.03      0.06      1323\n",
      "          7       0.31      0.12      0.17      2555\n",
      "          8       0.38      0.17      0.24      2446\n",
      "\n",
      "avg / total       0.42      0.47      0.41     27849\n",
      "\n",
      "Classification Report:\n",
      "              precision    recall  f1-score   support\n",
      "\n",
      "          1       0.42      0.48      0.45      5265\n",
      "          2       0.50      0.47      0.48      1082\n",
      "          3       0.57      0.71      0.63     10068\n",
      "          4       0.55      0.50      0.52      1673\n",
      "          5       0.21      0.14      0.17      3437\n",
      "          6       0.15      0.09      0.11      1323\n",
      "          7       0.33      0.25      0.28      2555\n",
      "          8       0.31      0.22      0.26      2446\n",
      "\n",
      "avg / total       0.43      0.46      0.44     27849\n",
      "\n",
      "Classification Report:\n",
      "              precision    recall  f1-score   support\n",
      "\n",
      "          1       0.41      0.42      0.41      5265\n",
      "          2       0.42      0.39      0.40      1082\n",
      "          3       0.48      0.83      0.61     10068\n",
      "          4       0.56      0.47      0.51      1673\n",
      "          5       0.19      0.04      0.07      3437\n",
      "          6       0.15      0.05      0.07      1323\n",
      "          7       0.55      0.11      0.19      2555\n",
      "          8       0.30      0.09      0.14      2446\n",
      "\n",
      "avg / total       0.41      0.45      0.39     27849\n",
      "\n",
      "Classification Report:\n",
      "              precision    recall  f1-score   support\n",
      "\n",
      "          1       0.36      0.20      0.26      5265\n",
      "          2       0.47      0.44      0.45      1082\n",
      "          3       0.41      0.95      0.57     10068\n",
      "          4       0.52      0.15      0.24      1673\n",
      "          5       0.33      0.00      0.00      3437\n",
      "          6       0.00      0.00      0.00      1323\n",
      "          7       0.00      0.00      0.00      2555\n",
      "          8       0.25      0.00      0.00      2446\n",
      "\n",
      "avg / total       0.33      0.41      0.29     27849\n",
      "\n"
     ]
    },
    {
     "name": "stderr",
     "output_type": "stream",
     "text": [
      "/Users/matthewmurray/anaconda/lib/python3.6/site-packages/sklearn/metrics/classification.py:1113: UndefinedMetricWarning: Precision and F-score are ill-defined and being set to 0.0 in labels with no predicted samples.\n",
      "  'precision', 'predicted', average, warn_for)\n"
     ]
    }
   ],
   "source": [
    "grad_boost = GradientBoostingClassifier(max_depth=6, max_features='sqrt', min_samples_split=20, n_estimators=300)\n",
    "bagging = BaggingClassifier(n_estimators=300)\n",
    "knn = KNeighborsClassifier(n_neighbors=250, weights='distance')\n",
    "random_forest = RandomForestClassifier(max_depth=6, max_features='auto', min_samples_split=10, n_estimators=10)\n",
    "\n",
    "model_list = [grad_boost, bagging, knn, random_forest]\n",
    "\n",
    "for model in model_list:\n",
    "    model.fit(X_train, y_train)\n",
    "    y_pred = model.predict(X_test)\n",
    "    c_report = classification_report(y_test, y_pred)\n",
    "    print('Classification Report:\\n', c_report)"
   ]
  },
  {
   "cell_type": "code",
   "execution_count": 178,
   "metadata": {},
   "outputs": [
    {
     "name": "stdout",
     "output_type": "stream",
     "text": [
      "FIT:  GradientBoostingClassifier(criterion='friedman_mse', init=None,\n",
      "              learning_rate=0.1, loss='deviance', max_depth=6,\n",
      "              max_features='sqrt', max_leaf_nodes=None,\n",
      "              min_impurity_split=1e-07, min_samples_leaf=1,\n",
      "              min_samples_split=20, min_weight_fraction_leaf=0.0,\n",
      "              n_estimators=300, presort='auto', random_state=None,\n",
      "              subsample=1.0, verbose=0, warm_start=False)\n",
      "PREDICT TRAIN:  GradientBoostingClassifier(criterion='friedman_mse', init=None,\n",
      "              learning_rate=0.1, loss='deviance', max_depth=6,\n",
      "              max_features='sqrt', max_leaf_nodes=None,\n",
      "              min_impurity_split=1e-07, min_samples_leaf=1,\n",
      "              min_samples_split=20, min_weight_fraction_leaf=0.0,\n",
      "              n_estimators=300, presort='auto', random_state=None,\n",
      "              subsample=1.0, verbose=0, warm_start=False)\n",
      "PREDICT TEST:  GradientBoostingClassifier(criterion='friedman_mse', init=None,\n",
      "              learning_rate=0.1, loss='deviance', max_depth=6,\n",
      "              max_features='sqrt', max_leaf_nodes=None,\n",
      "              min_impurity_split=1e-07, min_samples_leaf=1,\n",
      "              min_samples_split=20, min_weight_fraction_leaf=0.0,\n",
      "              n_estimators=300, presort='auto', random_state=None,\n",
      "              subsample=1.0, verbose=0, warm_start=False)\n",
      "FIT:  BaggingClassifier(base_estimator=None, bootstrap=True,\n",
      "         bootstrap_features=False, max_features=1.0, max_samples=1.0,\n",
      "         n_estimators=300, n_jobs=1, oob_score=False, random_state=None,\n",
      "         verbose=0, warm_start=False)\n",
      "PREDICT TRAIN:  BaggingClassifier(base_estimator=None, bootstrap=True,\n",
      "         bootstrap_features=False, max_features=1.0, max_samples=1.0,\n",
      "         n_estimators=300, n_jobs=1, oob_score=False, random_state=None,\n",
      "         verbose=0, warm_start=False)\n",
      "PREDICT TEST:  BaggingClassifier(base_estimator=None, bootstrap=True,\n",
      "         bootstrap_features=False, max_features=1.0, max_samples=1.0,\n",
      "         n_estimators=300, n_jobs=1, oob_score=False, random_state=None,\n",
      "         verbose=0, warm_start=False)\n",
      "FIT:  KNeighborsClassifier(algorithm='auto', leaf_size=30, metric='minkowski',\n",
      "           metric_params=None, n_jobs=1, n_neighbors=250, p=2,\n",
      "           weights='distance')\n",
      "PREDICT TRAIN:  KNeighborsClassifier(algorithm='auto', leaf_size=30, metric='minkowski',\n",
      "           metric_params=None, n_jobs=1, n_neighbors=250, p=2,\n",
      "           weights='distance')\n",
      "PREDICT TEST:  KNeighborsClassifier(algorithm='auto', leaf_size=30, metric='minkowski',\n",
      "           metric_params=None, n_jobs=1, n_neighbors=250, p=2,\n",
      "           weights='distance')\n",
      "FIT:  RandomForestClassifier(bootstrap=True, class_weight=None, criterion='gini',\n",
      "            max_depth=6, max_features='auto', max_leaf_nodes=None,\n",
      "            min_impurity_split=1e-07, min_samples_leaf=1,\n",
      "            min_samples_split=10, min_weight_fraction_leaf=0.0,\n",
      "            n_estimators=10, n_jobs=1, oob_score=False, random_state=None,\n",
      "            verbose=0, warm_start=False)\n",
      "PREDICT TRAIN:  RandomForestClassifier(bootstrap=True, class_weight=None, criterion='gini',\n",
      "            max_depth=6, max_features='auto', max_leaf_nodes=None,\n",
      "            min_impurity_split=1e-07, min_samples_leaf=1,\n",
      "            min_samples_split=10, min_weight_fraction_leaf=0.0,\n",
      "            n_estimators=10, n_jobs=1, oob_score=False, random_state=None,\n",
      "            verbose=0, warm_start=False)\n",
      "PREDICT TEST:  RandomForestClassifier(bootstrap=True, class_weight=None, criterion='gini',\n",
      "            max_depth=6, max_features='auto', max_leaf_nodes=None,\n",
      "            min_impurity_split=1e-07, min_samples_leaf=1,\n",
      "            min_samples_split=10, min_weight_fraction_leaf=0.0,\n",
      "            n_estimators=10, n_jobs=1, oob_score=False, random_state=None,\n",
      "            verbose=0, warm_start=False)\n",
      "FIT FINAL MODEL:  LogisticRegression(C=1.0, class_weight=None, dual=False, fit_intercept=True,\n",
      "          intercept_scaling=1, max_iter=100, multi_class='ovr', n_jobs=1,\n",
      "          penalty='l2', random_state=None, solver='liblinear', tol=0.0001,\n",
      "          verbose=0, warm_start=False)\n",
      "PREDICT:  LogisticRegression(C=1.0, class_weight=None, dual=False, fit_intercept=True,\n",
      "          intercept_scaling=1, max_iter=100, multi_class='ovr', n_jobs=1,\n",
      "          penalty='l2', random_state=None, solver='liblinear', tol=0.0001,\n",
      "          verbose=0, warm_start=False)\n",
      "Classification Report:              precision    recall  f1-score   support\n",
      "\n",
      "          1       0.41      0.41      0.41      5265\n",
      "          2       0.00      0.00      0.00      1082\n",
      "          3       0.45      0.83      0.58     10068\n",
      "          4       0.00      0.00      0.00      1673\n",
      "          5       0.14      0.06      0.08      3437\n",
      "          6       0.10      0.01      0.02      1323\n",
      "          7       0.59      0.06      0.11      2555\n",
      "          8       0.25      0.23      0.24      2446\n",
      "\n",
      "avg / total       0.34      0.41      0.33     27849\n",
      "\n"
     ]
    },
    {
     "ename": "FileNotFoundError",
     "evalue": "[Errno 2] No such file or directory: ''",
     "output_type": "error",
     "traceback": [
      "\u001b[0;31m---------------------------------------------------------------------------\u001b[0m",
      "\u001b[0;31mFileNotFoundError\u001b[0m                         Traceback (most recent call last)",
      "\u001b[0;32m<ipython-input-178-057323b680bc>\u001b[0m in \u001b[0;36m<module>\u001b[0;34m()\u001b[0m\n\u001b[1;32m      5\u001b[0m                                                   \u001b[0my_train\u001b[0m\u001b[0;34m,\u001b[0m\u001b[0;34m\u001b[0m\u001b[0m\n\u001b[1;32m      6\u001b[0m                                                   \u001b[0my_test\u001b[0m\u001b[0;34m,\u001b[0m\u001b[0;34m\u001b[0m\u001b[0m\n\u001b[0;32m----> 7\u001b[0;31m                                                   path='')\n\u001b[0m",
      "\u001b[0;32m<ipython-input-170-0d5716cb2aaf>\u001b[0m in \u001b[0;36mstack_models\u001b[0;34m(base_model_list, final_model, X_train, X_test, y_train, y_test, path, beta)\u001b[0m\n\u001b[1;32m     52\u001b[0m \u001b[0;34m\u001b[0m\u001b[0m\n\u001b[1;32m     53\u001b[0m     \u001b[0;32mif\u001b[0m \u001b[0;32mnot\u001b[0m \u001b[0mos\u001b[0m\u001b[0;34m.\u001b[0m\u001b[0mpath\u001b[0m\u001b[0;34m.\u001b[0m\u001b[0misdir\u001b[0m\u001b[0;34m(\u001b[0m\u001b[0mpath\u001b[0m\u001b[0;34m)\u001b[0m\u001b[0;34m:\u001b[0m\u001b[0;34m\u001b[0m\u001b[0m\n\u001b[0;32m---> 54\u001b[0;31m         \u001b[0mos\u001b[0m\u001b[0;34m.\u001b[0m\u001b[0mmkdir\u001b[0m\u001b[0;34m(\u001b[0m\u001b[0mpath\u001b[0m\u001b[0;34m)\u001b[0m\u001b[0;34m\u001b[0m\u001b[0m\n\u001b[0m\u001b[1;32m     55\u001b[0m \u001b[0;34m\u001b[0m\u001b[0m\n\u001b[1;32m     56\u001b[0m     \u001b[0mloc\u001b[0m \u001b[0;34m=\u001b[0m \u001b[0mos\u001b[0m\u001b[0;34m.\u001b[0m\u001b[0mpath\u001b[0m\u001b[0;34m.\u001b[0m\u001b[0mjoin\u001b[0m\u001b[0;34m(\u001b[0m\u001b[0mpath\u001b[0m\u001b[0;34m,\u001b[0m \u001b[0mstr\u001b[0m\u001b[0;34m(\u001b[0m\u001b[0mfinal_model\u001b[0m\u001b[0;34m)\u001b[0m \u001b[0;34m+\u001b[0m \u001b[0;34m'.pkl'\u001b[0m\u001b[0;34m)\u001b[0m\u001b[0;34m\u001b[0m\u001b[0m\n",
      "\u001b[0;31mFileNotFoundError\u001b[0m: [Errno 2] No such file or directory: ''"
     ]
    }
   ],
   "source": [
    "fin_model, fin_score_dict = stack_models(model_list, \n",
    "                                                  LogisticRegression(), \n",
    "                                                  X_train, \n",
    "                                                  X_test, \n",
    "                                                  y_train, \n",
    "                                                  y_test,\n",
    "                                                  path='')"
   ]
  },
  {
   "cell_type": "markdown",
   "metadata": {},
   "source": [
    "Stacking doesn't yield any benefit in this case"
   ]
  },
  {
   "cell_type": "code",
   "execution_count": null,
   "metadata": {
    "collapsed": true
   },
   "outputs": [],
   "source": []
  }
 ],
 "metadata": {
  "kernelspec": {
   "display_name": "Python 3",
   "language": "python",
   "name": "python3"
  },
  "language_info": {
   "codemirror_mode": {
    "name": "ipython",
    "version": 3
   },
   "file_extension": ".py",
   "mimetype": "text/x-python",
   "name": "python",
   "nbconvert_exporter": "python",
   "pygments_lexer": "ipython3",
   "version": "3.6.1"
  }
 },
 "nbformat": 4,
 "nbformat_minor": 2
}
