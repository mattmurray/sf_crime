{
 "cells": [
  {
   "cell_type": "markdown",
   "metadata": {
    "deletable": true,
    "editable": true
   },
   "source": [
    "## Modelling"
   ]
  },
  {
   "cell_type": "markdown",
   "metadata": {
    "deletable": true,
    "editable": true
   },
   "source": [
    "### Imports"
   ]
  },
  {
   "cell_type": "code",
   "execution_count": 88,
   "metadata": {
    "collapsed": true,
    "deletable": true,
    "editable": true
   },
   "outputs": [],
   "source": [
    "import pandas as pd\n",
    "import numpy as np\n",
    "import pickle\n",
    "\n",
    "from sklearn import preprocessing\n",
    "from sklearn.preprocessing import label_binarize\n",
    "from sklearn.metrics import precision_score, recall_score, roc_auc_score, roc_curve, auc, confusion_matrix, classification_report, accuracy_score\n",
    "from sklearn.model_selection import cross_val_score, train_test_split, RandomizedSearchCV\n",
    "from sklearn.ensemble import GradientBoostingClassifier, RandomForestClassifier\n",
    "from sklearn.linear_model import LogisticRegression\n",
    "from sklearn.neighbors import KNeighborsClassifier\n",
    "\n",
    "import matplotlib.pyplot as plt\n",
    "import matplotlib.patches as patches\n",
    "%matplotlib inline"
   ]
  },
  {
   "cell_type": "markdown",
   "metadata": {},
   "source": [
    "### Load Data"
   ]
  },
  {
   "cell_type": "code",
   "execution_count": null,
   "metadata": {
    "collapsed": true
   },
   "outputs": [],
   "source": [
    "df = pickle.load(open('complete_data_set.pkl', 'rb'))"
   ]
  },
  {
   "cell_type": "code",
   "execution_count": 2,
   "metadata": {
    "collapsed": false,
    "deletable": true,
    "editable": true
   },
   "outputs": [],
   "source": [
    "# df[df['broad_category'] == 'PROPERTY CRIME']['description'].value_counts()"
   ]
  },
  {
   "cell_type": "code",
   "execution_count": 3,
   "metadata": {
    "collapsed": true,
    "deletable": true,
    "editable": true
   },
   "outputs": [],
   "source": [
    "# theft_from_auto = ['GRAND THEFT FROM LOCKED AUTO', 'PETTY THEFT FROM LOCKED AUTO',\n",
    "#                    'GRAND THEFT FROM UNLOCKED AUTO', 'PETTY THEFT FROM UNLOCKED AUTO',\n",
    "#                    'ATTEMPTED THEFT FROM LOCKED VEHICLE']\n",
    "\n",
    "# theft_of_property = ['PETTY THEFT OF PROPERTY', 'GRAND THEFT OF PROPERTY']\n",
    "\n",
    "# shoplifting_pickpocket = ['PETTY THEFT SHOPLIFTING', 'GRAND THEFT SHOPLIFTING', 'GRAND THEFT PICKPOCKET']\n",
    "\n",
    "# def split_theft_category(input_val):\n",
    "#     if input_val in theft_from_auto:\n",
    "#         return 'THEFT FROM AUTO'\n",
    "#     elif input_val in theft_of_property:\n",
    "#         return 'THEFT OF PROPERTY'\n",
    "#     elif input_val in shoplifting_pickpocket:\n",
    "#         return 'SHOPLIFTING/PICKPOCKET'\n",
    "#     else:\n",
    "#         return input_val"
   ]
  },
  {
   "cell_type": "code",
   "execution_count": 89,
   "metadata": {
    "collapsed": false,
    "deletable": true,
    "editable": true
   },
   "outputs": [],
   "source": [
    "subset_categories = ['LARCENY/THEFT','ASSAULT','VANDALISM','VEHICLE THEFT','BURGLARY','DRUG/NARCOTIC','ROBBERY']\n",
    "df = df[df['category'].isin(subset_categories)]"
   ]
  },
  {
   "cell_type": "code",
   "execution_count": 90,
   "metadata": {
    "collapsed": false,
    "deletable": true,
    "editable": true
   },
   "outputs": [
    {
     "data": {
      "text/plain": [
       "LARCENY/THEFT    53809\n",
       "ASSAULT          17563\n",
       "VANDALISM        11533\n",
       "VEHICLE THEFT     8346\n",
       "BURGLARY          7641\n",
       "DRUG/NARCOTIC     5402\n",
       "ROBBERY           4289\n",
       "Name: category, dtype: int64"
      ]
     },
     "execution_count": 90,
     "metadata": {},
     "output_type": "execute_result"
    }
   ],
   "source": [
    "df['category'].value_counts()"
   ]
  },
  {
   "cell_type": "code",
   "execution_count": 91,
   "metadata": {
    "collapsed": false,
    "deletable": true,
    "editable": true
   },
   "outputs": [],
   "source": [
    "df.loc[df['description'] == 'PETTY THEFT OF PROPERTY', 'category'] = 'THEFT OF PROPERTY'\n",
    "df.loc[df['description'] == 'GRAND THEFT OF PROPERTY', 'category'] = 'THEFT OF PROPERTY'\n",
    "df.loc[df['description'] == 'GRAND THEFT FROM LOCKED AUTO', 'category'] = 'THEFT FROM AUTO'\n",
    "df.loc[df['description'] == 'PETTY THEFT FROM LOCKED AUTO', 'category'] = 'THEFT FROM AUTO'\n",
    "df.loc[df['description'] == 'GRAND THEFT FROM UNLOCKED AUTO', 'category'] = 'THEFT FROM AUTO'\n",
    "df.loc[df['description'] == 'PETTY THEFT FROM UNLOCKED AUTO', 'category'] = 'THEFT FROM AUTO'\n",
    "df.loc[df['description'] == 'ATTEMPTED THEFT FROM LOCKED VEHICLE', 'category'] = 'THEFT FROM AUTO'\n",
    "df.loc[df['description'] == 'PETTY THEFT SHOPLIFTING', 'category'] = 'SHOPLIFTING/PICKPOCKET'\n",
    "df.loc[df['description'] == 'GRAND THEFT SHOPLIFTING', 'category'] = 'SHOPLIFTING/PICKPOCKET'\n",
    "df.loc[df['description'] == 'GRAND THEFT PICKPOCKET', 'category'] = 'SHOPLIFTING/PICKPOCKET'\n",
    "df.loc[df['category'] == 'LARCENY/THEFT', 'category'] = 'OTHER THEFT'"
   ]
  },
  {
   "cell_type": "code",
   "execution_count": 92,
   "metadata": {
    "collapsed": false,
    "deletable": true,
    "editable": true
   },
   "outputs": [
    {
     "data": {
      "text/plain": [
       "THEFT FROM AUTO           33501\n",
       "ASSAULT                   17563\n",
       "VANDALISM                 11533\n",
       "THEFT OF PROPERTY          8414\n",
       "VEHICLE THEFT              8346\n",
       "OTHER THEFT                8114\n",
       "BURGLARY                   7641\n",
       "DRUG/NARCOTIC              5402\n",
       "ROBBERY                    4289\n",
       "SHOPLIFTING/PICKPOCKET     3780\n",
       "Name: category, dtype: int64"
      ]
     },
     "execution_count": 92,
     "metadata": {},
     "output_type": "execute_result"
    }
   ],
   "source": [
    "df['category'].value_counts()"
   ]
  },
  {
   "cell_type": "code",
   "execution_count": 93,
   "metadata": {
    "collapsed": false,
    "deletable": true,
    "editable": true
   },
   "outputs": [],
   "source": [
    "df = df[df['category'] != 'BURGLARY']\n",
    "df = df[df['category'] != 'OTHER THEFT']"
   ]
  },
  {
   "cell_type": "code",
   "execution_count": 94,
   "metadata": {
    "collapsed": false,
    "deletable": true,
    "editable": true
   },
   "outputs": [
    {
     "data": {
      "text/plain": [
       "Index(['category', 'description', 'day_of_week', 'pd_district', 'resolution',\n",
       "       'address', 'longitude', 'latitude', 'date_time', 'hour_of_day', 'month',\n",
       "       'broad_category', 'geometry', 'id', 'pop10_sqmi', 'pop2010', 'sqmi',\n",
       "       'zip_code', 'median_income', 'z_index', 'dist_to_train_station',\n",
       "       'num_close_train_stations', 'dist_to_police_station',\n",
       "       'num_close_police_stations', 'dist_to_dispensary',\n",
       "       'num_close_dispensaries', 'dist_to_health_facility',\n",
       "       'num_close_health_facilities', 'dist_to_shelter', 'num_close_shelters',\n",
       "       'dist_to_union_sq'],\n",
       "      dtype='object')"
      ]
     },
     "execution_count": 94,
     "metadata": {},
     "output_type": "execute_result"
    }
   ],
   "source": [
    "df.columns"
   ]
  },
  {
   "cell_type": "code",
   "execution_count": 95,
   "metadata": {
    "collapsed": false,
    "deletable": true,
    "editable": true
   },
   "outputs": [
    {
     "data": {
      "text/plain": [
       "THEFT FROM AUTO           33501\n",
       "ASSAULT                   17563\n",
       "VANDALISM                 11533\n",
       "THEFT OF PROPERTY          8414\n",
       "VEHICLE THEFT              8346\n",
       "DRUG/NARCOTIC              5402\n",
       "ROBBERY                    4289\n",
       "SHOPLIFTING/PICKPOCKET     3780\n",
       "Name: category, dtype: int64"
      ]
     },
     "execution_count": 95,
     "metadata": {},
     "output_type": "execute_result"
    }
   ],
   "source": [
    "df['category'].value_counts()"
   ]
  },
  {
   "cell_type": "code",
   "execution_count": 96,
   "metadata": {
    "collapsed": true,
    "deletable": true,
    "editable": true
   },
   "outputs": [],
   "source": [
    "data_set = df.drop(['longitude','latitude','geometry','id','pop2010','sqmi',\n",
    "                    'address','resolution','description','broad_category'], axis=1)"
   ]
  },
  {
   "cell_type": "code",
   "execution_count": 97,
   "metadata": {
    "collapsed": false,
    "deletable": true,
    "editable": true
   },
   "outputs": [
    {
     "data": {
      "text/plain": [
       "Index(['category', 'day_of_week', 'pd_district', 'date_time', 'hour_of_day',\n",
       "       'month', 'pop10_sqmi', 'zip_code', 'median_income', 'z_index',\n",
       "       'dist_to_train_station', 'num_close_train_stations',\n",
       "       'dist_to_police_station', 'num_close_police_stations',\n",
       "       'dist_to_dispensary', 'num_close_dispensaries',\n",
       "       'dist_to_health_facility', 'num_close_health_facilities',\n",
       "       'dist_to_shelter', 'num_close_shelters', 'dist_to_union_sq'],\n",
       "      dtype='object')"
      ]
     },
     "execution_count": 97,
     "metadata": {},
     "output_type": "execute_result"
    }
   ],
   "source": [
    "data_set.columns"
   ]
  },
  {
   "cell_type": "code",
   "execution_count": 98,
   "metadata": {
    "collapsed": true,
    "deletable": true,
    "editable": true
   },
   "outputs": [],
   "source": [
    "data_set['z_index'].fillna(data_set['z_index'].mean(), inplace=True)\n",
    "data_set['pop10_sqmi'] = data_set['pop10_sqmi'].apply(lambda x: float(x))\n",
    "data_set['pop10_sqmi'].fillna(data_set['pop10_sqmi'].mean(), inplace=True)\n",
    "data_set['median_income'].fillna(data_set['median_income'].median(), inplace=True)\n",
    "\n",
    "data_set['z_index'] = preprocessing.scale(data_set['z_index'], with_mean=False)\n",
    "data_set['pop10_sqmi'] = preprocessing.scale(data_set['pop10_sqmi'], with_mean=False)\n",
    "data_set['median_income'] = preprocessing.scale(data_set['median_income'], with_mean=False)"
   ]
  },
  {
   "cell_type": "code",
   "execution_count": 99,
   "metadata": {
    "collapsed": false,
    "deletable": true,
    "editable": true
   },
   "outputs": [],
   "source": [
    "def category_to_numeric(input_val):\n",
    "    if input_val == 'ASSAULT':\n",
    "        return 1\n",
    "    elif input_val == 'SHOPLIFTING/PICKPOCKET':\n",
    "        return 2\n",
    "    elif input_val == 'THEFT FROM AUTO':\n",
    "        return 3\n",
    "    elif input_val == 'DRUG/NARCOTIC':\n",
    "        return 4\n",
    "    elif input_val == 'VANDALISM':\n",
    "        return 5\n",
    "    elif input_val == 'ROBBERY':\n",
    "        return 6\n",
    "    elif input_val == 'VEHICLE THEFT':\n",
    "        return 7\n",
    "    else:\n",
    "        return 8"
   ]
  },
  {
   "cell_type": "code",
   "execution_count": 100,
   "metadata": {
    "collapsed": true,
    "deletable": true,
    "editable": true
   },
   "outputs": [],
   "source": [
    "data_set['category'] = data_set['category'].apply(category_to_numeric)"
   ]
  },
  {
   "cell_type": "code",
   "execution_count": 101,
   "metadata": {
    "collapsed": false,
    "deletable": true,
    "editable": true
   },
   "outputs": [
    {
     "data": {
      "text/html": [
       "<div>\n",
       "<table border=\"1\" class=\"dataframe\">\n",
       "  <thead>\n",
       "    <tr style=\"text-align: right;\">\n",
       "      <th></th>\n",
       "      <th>category</th>\n",
       "      <th>day_of_week</th>\n",
       "      <th>pd_district</th>\n",
       "      <th>date_time</th>\n",
       "      <th>hour_of_day</th>\n",
       "      <th>month</th>\n",
       "      <th>pop10_sqmi</th>\n",
       "      <th>zip_code</th>\n",
       "      <th>median_income</th>\n",
       "      <th>z_index</th>\n",
       "      <th>...</th>\n",
       "      <th>num_close_train_stations</th>\n",
       "      <th>dist_to_police_station</th>\n",
       "      <th>num_close_police_stations</th>\n",
       "      <th>dist_to_dispensary</th>\n",
       "      <th>num_close_dispensaries</th>\n",
       "      <th>dist_to_health_facility</th>\n",
       "      <th>num_close_health_facilities</th>\n",
       "      <th>dist_to_shelter</th>\n",
       "      <th>num_close_shelters</th>\n",
       "      <th>dist_to_union_sq</th>\n",
       "    </tr>\n",
       "  </thead>\n",
       "  <tbody>\n",
       "    <tr>\n",
       "      <th>92523</th>\n",
       "      <td>3</td>\n",
       "      <td>Tuesday</td>\n",
       "      <td>INGLESIDE</td>\n",
       "      <td>2016-02-09 18:15:00</td>\n",
       "      <td>18</td>\n",
       "      <td>Feb</td>\n",
       "      <td>1.597911</td>\n",
       "      <td>94112</td>\n",
       "      <td>3.266508</td>\n",
       "      <td>2.156278</td>\n",
       "      <td>...</td>\n",
       "      <td>0</td>\n",
       "      <td>0.013125</td>\n",
       "      <td>0</td>\n",
       "      <td>0.002726</td>\n",
       "      <td>2</td>\n",
       "      <td>0.019917</td>\n",
       "      <td>0</td>\n",
       "      <td>0.015070</td>\n",
       "      <td>0</td>\n",
       "      <td>0.080042</td>\n",
       "    </tr>\n",
       "    <tr>\n",
       "      <th>46889</th>\n",
       "      <td>5</td>\n",
       "      <td>Wednesday</td>\n",
       "      <td>NORTHERN</td>\n",
       "      <td>2016-05-25 17:20:00</td>\n",
       "      <td>17</td>\n",
       "      <td>May</td>\n",
       "      <td>3.807212</td>\n",
       "      <td>94102</td>\n",
       "      <td>1.266892</td>\n",
       "      <td>1.905441</td>\n",
       "      <td>...</td>\n",
       "      <td>1</td>\n",
       "      <td>0.008186</td>\n",
       "      <td>1</td>\n",
       "      <td>0.006608</td>\n",
       "      <td>5</td>\n",
       "      <td>0.002297</td>\n",
       "      <td>17</td>\n",
       "      <td>0.001550</td>\n",
       "      <td>27</td>\n",
       "      <td>0.015043</td>\n",
       "    </tr>\n",
       "    <tr>\n",
       "      <th>51719</th>\n",
       "      <td>5</td>\n",
       "      <td>Sunday</td>\n",
       "      <td>NORTHERN</td>\n",
       "      <td>2016-06-19 23:00:00</td>\n",
       "      <td>23</td>\n",
       "      <td>Jun</td>\n",
       "      <td>3.807212</td>\n",
       "      <td>94102</td>\n",
       "      <td>1.266892</td>\n",
       "      <td>1.905441</td>\n",
       "      <td>...</td>\n",
       "      <td>1</td>\n",
       "      <td>0.007932</td>\n",
       "      <td>1</td>\n",
       "      <td>0.004828</td>\n",
       "      <td>3</td>\n",
       "      <td>0.001209</td>\n",
       "      <td>17</td>\n",
       "      <td>0.000388</td>\n",
       "      <td>26</td>\n",
       "      <td>0.014487</td>\n",
       "    </tr>\n",
       "    <tr>\n",
       "      <th>115349</th>\n",
       "      <td>3</td>\n",
       "      <td>Saturday</td>\n",
       "      <td>TARAVAL</td>\n",
       "      <td>2016-01-23 12:00:00</td>\n",
       "      <td>12</td>\n",
       "      <td>Jan</td>\n",
       "      <td>1.597911</td>\n",
       "      <td>94112</td>\n",
       "      <td>3.266508</td>\n",
       "      <td>2.156278</td>\n",
       "      <td>...</td>\n",
       "      <td>1</td>\n",
       "      <td>0.008557</td>\n",
       "      <td>1</td>\n",
       "      <td>0.007577</td>\n",
       "      <td>1</td>\n",
       "      <td>0.013442</td>\n",
       "      <td>0</td>\n",
       "      <td>0.007783</td>\n",
       "      <td>1</td>\n",
       "      <td>0.082303</td>\n",
       "    </tr>\n",
       "    <tr>\n",
       "      <th>98804</th>\n",
       "      <td>5</td>\n",
       "      <td>Friday</td>\n",
       "      <td>TENDERLOIN</td>\n",
       "      <td>2016-06-03 07:30:00</td>\n",
       "      <td>7</td>\n",
       "      <td>Jun</td>\n",
       "      <td>3.807212</td>\n",
       "      <td>94102</td>\n",
       "      <td>1.266892</td>\n",
       "      <td>1.905441</td>\n",
       "      <td>...</td>\n",
       "      <td>2</td>\n",
       "      <td>0.003056</td>\n",
       "      <td>1</td>\n",
       "      <td>0.002131</td>\n",
       "      <td>4</td>\n",
       "      <td>0.001848</td>\n",
       "      <td>13</td>\n",
       "      <td>0.001218</td>\n",
       "      <td>40</td>\n",
       "      <td>0.005229</td>\n",
       "    </tr>\n",
       "  </tbody>\n",
       "</table>\n",
       "<p>5 rows × 21 columns</p>\n",
       "</div>"
      ],
      "text/plain": [
       "        category day_of_week pd_district           date_time  hour_of_day  \\\n",
       "92523          3     Tuesday   INGLESIDE 2016-02-09 18:15:00           18   \n",
       "46889          5   Wednesday    NORTHERN 2016-05-25 17:20:00           17   \n",
       "51719          5      Sunday    NORTHERN 2016-06-19 23:00:00           23   \n",
       "115349         3    Saturday     TARAVAL 2016-01-23 12:00:00           12   \n",
       "98804          5      Friday  TENDERLOIN 2016-06-03 07:30:00            7   \n",
       "\n",
       "       month  pop10_sqmi zip_code  median_income   z_index        ...         \\\n",
       "92523    Feb    1.597911    94112       3.266508  2.156278        ...          \n",
       "46889    May    3.807212    94102       1.266892  1.905441        ...          \n",
       "51719    Jun    3.807212    94102       1.266892  1.905441        ...          \n",
       "115349   Jan    1.597911    94112       3.266508  2.156278        ...          \n",
       "98804    Jun    3.807212    94102       1.266892  1.905441        ...          \n",
       "\n",
       "        num_close_train_stations  dist_to_police_station  \\\n",
       "92523                          0                0.013125   \n",
       "46889                          1                0.008186   \n",
       "51719                          1                0.007932   \n",
       "115349                         1                0.008557   \n",
       "98804                          2                0.003056   \n",
       "\n",
       "        num_close_police_stations  dist_to_dispensary  num_close_dispensaries  \\\n",
       "92523                           0            0.002726                       2   \n",
       "46889                           1            0.006608                       5   \n",
       "51719                           1            0.004828                       3   \n",
       "115349                          1            0.007577                       1   \n",
       "98804                           1            0.002131                       4   \n",
       "\n",
       "        dist_to_health_facility  num_close_health_facilities  dist_to_shelter  \\\n",
       "92523                  0.019917                            0         0.015070   \n",
       "46889                  0.002297                           17         0.001550   \n",
       "51719                  0.001209                           17         0.000388   \n",
       "115349                 0.013442                            0         0.007783   \n",
       "98804                  0.001848                           13         0.001218   \n",
       "\n",
       "        num_close_shelters  dist_to_union_sq  \n",
       "92523                    0          0.080042  \n",
       "46889                   27          0.015043  \n",
       "51719                   26          0.014487  \n",
       "115349                   1          0.082303  \n",
       "98804                   40          0.005229  \n",
       "\n",
       "[5 rows x 21 columns]"
      ]
     },
     "execution_count": 101,
     "metadata": {},
     "output_type": "execute_result"
    }
   ],
   "source": [
    "data_set.sample(5)"
   ]
  },
  {
   "cell_type": "code",
   "execution_count": 102,
   "metadata": {
    "collapsed": true,
    "deletable": true,
    "editable": true
   },
   "outputs": [],
   "source": [
    "quick_model_data = data_set.drop(['date_time'], axis=1)"
   ]
  },
  {
   "cell_type": "code",
   "execution_count": 103,
   "metadata": {
    "collapsed": true,
    "deletable": true,
    "editable": true
   },
   "outputs": [],
   "source": [
    "quick_model_data = pd.get_dummies(quick_model_data, columns=['day_of_week','pd_district',\n",
    "                                                             'month','zip_code','hour_of_day'])"
   ]
  },
  {
   "cell_type": "code",
   "execution_count": 104,
   "metadata": {
    "collapsed": false,
    "deletable": true,
    "editable": true
   },
   "outputs": [
    {
     "data": {
      "text/plain": [
       "Index(['category', 'pop10_sqmi', 'median_income', 'z_index',\n",
       "       'dist_to_train_station', 'num_close_train_stations',\n",
       "       'dist_to_police_station', 'num_close_police_stations',\n",
       "       'dist_to_dispensary', 'num_close_dispensaries',\n",
       "       'dist_to_health_facility', 'num_close_health_facilities',\n",
       "       'dist_to_shelter', 'num_close_shelters', 'dist_to_union_sq',\n",
       "       'day_of_week_Friday', 'day_of_week_Monday', 'day_of_week_Saturday',\n",
       "       'day_of_week_Sunday', 'day_of_week_Thursday', 'day_of_week_Tuesday',\n",
       "       'day_of_week_Wednesday', 'pd_district_BAYVIEW', 'pd_district_CENTRAL',\n",
       "       'pd_district_INGLESIDE', 'pd_district_MISSION', 'pd_district_NORTHERN',\n",
       "       'pd_district_PARK', 'pd_district_RICHMOND', 'pd_district_SOUTHERN',\n",
       "       'pd_district_TARAVAL', 'pd_district_TENDERLOIN', 'month_Apr',\n",
       "       'month_Aug', 'month_Dec', 'month_Feb', 'month_Jan', 'month_Jul',\n",
       "       'month_Jun', 'month_Mar', 'month_May', 'month_Nov', 'month_Oct',\n",
       "       'month_Sep', 'zip_code_94102', 'zip_code_94103', 'zip_code_94104',\n",
       "       'zip_code_94105', 'zip_code_94107', 'zip_code_94108', 'zip_code_94109',\n",
       "       'zip_code_94110', 'zip_code_94111', 'zip_code_94112', 'zip_code_94114',\n",
       "       'zip_code_94115', 'zip_code_94116', 'zip_code_94117', 'zip_code_94118',\n",
       "       'zip_code_94121', 'zip_code_94122', 'zip_code_94123', 'zip_code_94124',\n",
       "       'zip_code_94127', 'zip_code_94130', 'zip_code_94131', 'zip_code_94132',\n",
       "       'zip_code_94133', 'zip_code_94134', 'zip_code_94158', 'zip_code_nan',\n",
       "       'hour_of_day_0', 'hour_of_day_1', 'hour_of_day_2', 'hour_of_day_3',\n",
       "       'hour_of_day_4', 'hour_of_day_5', 'hour_of_day_6', 'hour_of_day_7',\n",
       "       'hour_of_day_8', 'hour_of_day_9', 'hour_of_day_10', 'hour_of_day_11',\n",
       "       'hour_of_day_12', 'hour_of_day_13', 'hour_of_day_14', 'hour_of_day_15',\n",
       "       'hour_of_day_16', 'hour_of_day_17', 'hour_of_day_18', 'hour_of_day_19',\n",
       "       'hour_of_day_20', 'hour_of_day_21', 'hour_of_day_22', 'hour_of_day_23'],\n",
       "      dtype='object')"
      ]
     },
     "execution_count": 104,
     "metadata": {},
     "output_type": "execute_result"
    }
   ],
   "source": [
    "quick_model_data.columns"
   ]
  },
  {
   "cell_type": "code",
   "execution_count": 20,
   "metadata": {
    "collapsed": true,
    "deletable": true,
    "editable": true
   },
   "outputs": [],
   "source": [
    "# model = GradientBoostingClassifier()"
   ]
  },
  {
   "cell_type": "code",
   "execution_count": 21,
   "metadata": {
    "collapsed": false,
    "deletable": true,
    "editable": true
   },
   "outputs": [],
   "source": [
    "# y = quick_model_data['category']\n",
    "# X = quick_model_data.drop('category', axis=1)"
   ]
  },
  {
   "cell_type": "code",
   "execution_count": 22,
   "metadata": {
    "collapsed": true,
    "deletable": true,
    "editable": true
   },
   "outputs": [],
   "source": [
    "# X_train, X_test, y_train, y_test = train_test_split(X, y, test_size = 0.3, random_state=4444)"
   ]
  },
  {
   "cell_type": "code",
   "execution_count": 23,
   "metadata": {
    "collapsed": false,
    "deletable": true,
    "editable": true
   },
   "outputs": [],
   "source": [
    "# model.fit(X_train, y_train)"
   ]
  },
  {
   "cell_type": "code",
   "execution_count": 24,
   "metadata": {
    "collapsed": true,
    "deletable": true,
    "editable": true
   },
   "outputs": [],
   "source": [
    "# y_pred = model.predict(X_test)"
   ]
  },
  {
   "cell_type": "code",
   "execution_count": 25,
   "metadata": {
    "collapsed": true,
    "deletable": true,
    "editable": true
   },
   "outputs": [],
   "source": [
    "# score = accuracy_score(y_test, y_pred)"
   ]
  },
  {
   "cell_type": "code",
   "execution_count": 26,
   "metadata": {
    "collapsed": false,
    "deletable": true,
    "editable": true
   },
   "outputs": [],
   "source": [
    "# y_categories = list(y.unique())\n",
    "# target_names = [y for y in y_categories]\n",
    "# print(classification_report(y_test, y_pred, target_names=target_names))"
   ]
  },
  {
   "cell_type": "code",
   "execution_count": 105,
   "metadata": {
    "collapsed": false,
    "deletable": true,
    "editable": true
   },
   "outputs": [],
   "source": [
    "def plot_confusion_matrix(cm, title='Confusion matrix', cmap=plt.cm.Blues):\n",
    "    plt.imshow(cm, interpolation='nearest',cmap=cmap)\n",
    "    plt.title(title)\n",
    "    plt.colorbar()\n",
    "    plt.tight_layout()\n",
    "    plt.ylabel('True label')\n",
    "    plt.xlabel('Predicted label')\n",
    "\n",
    "def train_score(classifier,x,y):\n",
    "    X_train, X_test, y_train, y_test = train_test_split(x, y, test_size=0.3, random_state=4444)\n",
    "    y_train=np.ravel(y_train)\n",
    "    clf = classifier.fit(X_train, y_train)\n",
    "    \n",
    "    # accuracy for test & train:\n",
    "    train_acc = clf.score(X_train, y_train)\n",
    "    test_acc = clf.score(X_test, y_test)\n",
    "    \n",
    "    print(\"Training Data Accuracy: %0.2f\" %(train_acc))\n",
    "    print(\"Test Data Accuracy:     %0.2f\" %(test_acc))\n",
    "    print ('\\n')\n",
    "    \n",
    "    y_true = y_test\n",
    "    y_pred = clf.predict(X_test)\n",
    "\n",
    "    conf = confusion_matrix(y_true, y_pred)\n",
    "    print(conf)\n",
    "\n",
    "    print ('\\n')\n",
    "    print (\"Precision:              %0.2f\" %(conf[0, 0] / (conf[0, 0] + conf[1, 0])))\n",
    "    print (\"Recall:                 %0.2f\"% (conf[0, 0] / (conf[0, 0] + conf[0, 1])))\n",
    "    \n",
    "    cm=confusion_matrix(y_true, y_pred, labels=None)\n",
    "    \n",
    "    plt.figure()\n",
    "    plot_confusion_matrix(cm)"
   ]
  },
  {
   "cell_type": "code",
   "execution_count": 28,
   "metadata": {
    "collapsed": false,
    "deletable": true,
    "editable": true
   },
   "outputs": [],
   "source": [
    "# train_score(model, X, y)"
   ]
  },
  {
   "cell_type": "code",
   "execution_count": 106,
   "metadata": {
    "collapsed": true,
    "deletable": true,
    "editable": true
   },
   "outputs": [],
   "source": [
    "def plot_roc_curve(input_y_true, input_y_score, title):\n",
    "    fpr, tpr,_ = roc_curve(input_y_true, input_y_score)\n",
    "    roc_auc = auc(fpr, tpr)\n",
    "\n",
    "    # build a rectangle in axes coords\n",
    "    left, width = 0.05, 0.90\n",
    "    bottom, height = 0.05, 0.90\n",
    "    right = left + width\n",
    "    top = bottom + height\n",
    "\n",
    "    fig = plt.figure()\n",
    "    ax = fig.add_axes([0,0,1,1])\n",
    "    p = patches.Rectangle((left, bottom), width, height, fill=False, transform=ax.transAxes, clip_on=False)\n",
    "    auc_string = 'AUC: {:.4f}'.format(roc_auc)\n",
    "    ax.text(right, bottom, auc_string, horizontalalignment='right', verticalalignment='bottom', transform=ax.transAxes, size=14)\n",
    "    ax.add_patch(p)\n",
    "\n",
    "    # Plotting our Baseline..\n",
    "    plt.title(title)\n",
    "    plt.plot([0,1],[0,1], alpha=0.5, linewidth=3.0)\n",
    "    plt.plot(fpr, tpr, alpha=0.5, linewidth=3.0)\n",
    "    plt.xlabel('FPR')\n",
    "    plt.ylabel('TPR')\n",
    "    \n",
    "    return plt"
   ]
  },
  {
   "cell_type": "code",
   "execution_count": 30,
   "metadata": {
    "collapsed": false,
    "deletable": true,
    "editable": true
   },
   "outputs": [],
   "source": [
    "# X_train, X_test, y_train, y_test = train_test_split(X, y, test_size = 0.3, random_state=4444)\n",
    "# model_2 = GradientBoostingClassifier()\n",
    "# model_2.fit(X_train, y_train)\n",
    "# model_y_score = model_2.predict_proba(X_test)[:,1]\n",
    "# plot_roc_curve(y_test, model_y_score, 'ROC curve')"
   ]
  },
  {
   "cell_type": "code",
   "execution_count": 31,
   "metadata": {
    "collapsed": false,
    "deletable": true,
    "editable": true
   },
   "outputs": [],
   "source": [
    "# y_test = label_binarize(np.ravel(y_test), classes)\n",
    "# y_test"
   ]
  },
  {
   "cell_type": "code",
   "execution_count": 32,
   "metadata": {
    "collapsed": true,
    "deletable": true,
    "editable": true
   },
   "outputs": [],
   "source": [
    "# 'ASSAULT':1\n",
    "# 'SHOPLIFTING/PICKPOCKET':2\n",
    "# 'THEFT FROM AUTO':3\n",
    "# 'DRUG/NARCOTIC':4\n",
    "# 'VANDALISM':5\n",
    "# 'ROBBERY':6\n",
    "# 'VEHICLE THEFT':7\n",
    "# 'THEFT OF PROPERTY':8"
   ]
  },
  {
   "cell_type": "code",
   "execution_count": 33,
   "metadata": {
    "collapsed": false,
    "deletable": true,
    "editable": true
   },
   "outputs": [],
   "source": [
    "# len(y)"
   ]
  },
  {
   "cell_type": "code",
   "execution_count": 34,
   "metadata": {
    "collapsed": false,
    "deletable": true,
    "editable": true
   },
   "outputs": [],
   "source": [
    "# y_categories = [1, 2, 3, 4, 5, 6, 7, 8]\n",
    "# y_pred = model.predict(X_test)\n",
    "# y_test = np.ravel(y_test)\n",
    "# # target_names = [y for y in y_categories]\n",
    "# print(classification_report(y_test, y_pred, target_names=y_categories))\n"
   ]
  },
  {
   "cell_type": "code",
   "execution_count": 36,
   "metadata": {
    "collapsed": true,
    "deletable": true,
    "editable": true
   },
   "outputs": [],
   "source": [
    "# knn = KNeighborsClassifier(n_neighbors=300)\n",
    "# scores = cross_val_score(knn, X, y, cv=3, scoring='accuracy')\n",
    "# print(scores)"
   ]
  },
  {
   "cell_type": "code",
   "execution_count": 38,
   "metadata": {
    "collapsed": true,
    "deletable": true,
    "editable": true
   },
   "outputs": [],
   "source": [
    "# # k_range = list(range(1, 31))\n",
    "# k_range = [50, 100, 150, 200, 250, 300, 350, 400, 450, 500, 550, 600, 650, 700, 750]\n",
    "# weight_options = ['uniform', 'distance']\n",
    "# # param_grid = dict(n_neighbors=k_range, weights=weight_options)\n",
    "# param_dist = dict(n_neighbors=k_range, weights=weight_options)"
   ]
  },
  {
   "cell_type": "code",
   "execution_count": 39,
   "metadata": {
    "collapsed": false,
    "deletable": true,
    "editable": true
   },
   "outputs": [
    {
     "data": {
      "text/plain": [
       "{'n_neighbors': [50,\n",
       "  100,\n",
       "  150,\n",
       "  200,\n",
       "  250,\n",
       "  300,\n",
       "  350,\n",
       "  400,\n",
       "  450,\n",
       "  500,\n",
       "  550,\n",
       "  600,\n",
       "  650,\n",
       "  700,\n",
       "  750],\n",
       " 'weights': ['uniform', 'distance']}"
      ]
     },
     "execution_count": 39,
     "metadata": {},
     "output_type": "execute_result"
    }
   ],
   "source": [
    "# param_dist"
   ]
  },
  {
   "cell_type": "code",
   "execution_count": 40,
   "metadata": {
    "collapsed": false,
    "deletable": true,
    "editable": true
   },
   "outputs": [],
   "source": [
    "# knn = KNeighborsClassifier()"
   ]
  },
  {
   "cell_type": "code",
   "execution_count": 41,
   "metadata": {
    "collapsed": true,
    "deletable": true,
    "editable": true
   },
   "outputs": [],
   "source": [
    "# # model_sample = quick_model_data.sample(30000)\n",
    "# y = model_sample['category']\n",
    "# X = model_sample.drop('category', axis=1)"
   ]
  },
  {
   "cell_type": "code",
   "execution_count": 42,
   "metadata": {
    "collapsed": false,
    "deletable": true,
    "editable": true
   },
   "outputs": [],
   "source": [
    "# # n_iter controls the number of searches\n",
    "# rand = RandomizedSearchCV(knn, param_dist, cv=5, scoring='accuracy', n_iter=10, random_state=42)\n",
    "# rand.fit(X, y)\n",
    "# rand.grid_scores_"
   ]
  },
  {
   "cell_type": "code",
   "execution_count": 44,
   "metadata": {
    "collapsed": false,
    "deletable": true,
    "editable": true
   },
   "outputs": [],
   "source": [
    "# # view the complete results\n",
    "# grid.grid_scores_"
   ]
  },
  {
   "cell_type": "code",
   "execution_count": 45,
   "metadata": {
    "collapsed": true,
    "deletable": true,
    "editable": true
   },
   "outputs": [],
   "source": [
    "# # examine the best model\n",
    "# print(rand.best_score_)\n",
    "# print(rand.best_params_)"
   ]
  },
  {
   "cell_type": "code",
   "execution_count": 46,
   "metadata": {
    "collapsed": false,
    "deletable": true,
    "editable": true
   },
   "outputs": [],
   "source": [
    "# quick_model_data['category'].value_counts()"
   ]
  },
  {
   "cell_type": "code",
   "execution_count": 109,
   "metadata": {
    "collapsed": true,
    "deletable": true,
    "editable": true
   },
   "outputs": [],
   "source": [
    "cat_1 = quick_model_data[quick_model_data['category'] == 1].sample(2000)\n",
    "cat_2 = quick_model_data[quick_model_data['category'] == 2].sample(2000)\n",
    "cat_3 = quick_model_data[quick_model_data['category'] == 3].sample(2000)\n",
    "cat_4 = quick_model_data[quick_model_data['category'] == 4].sample(2000)\n",
    "cat_5 = quick_model_data[quick_model_data['category'] == 5].sample(2000)\n",
    "cat_6 = quick_model_data[quick_model_data['category'] == 6].sample(2000)\n",
    "cat_7 = quick_model_data[quick_model_data['category'] == 7].sample(2000)\n",
    "cat_8 = quick_model_data[quick_model_data['category'] == 8].sample(2000)"
   ]
  },
  {
   "cell_type": "code",
   "execution_count": 110,
   "metadata": {
    "collapsed": true,
    "deletable": true,
    "editable": true
   },
   "outputs": [],
   "source": [
    "balanced_sample = pd.concat([cat_1, cat_2, cat_3, cat_4, cat_5, cat_6, cat_7, cat_8])"
   ]
  },
  {
   "cell_type": "code",
   "execution_count": 111,
   "metadata": {
    "collapsed": true,
    "deletable": true,
    "editable": true
   },
   "outputs": [],
   "source": [
    "y = balanced_sample['category']\n",
    "X = balanced_sample.drop('category', axis=1)"
   ]
  },
  {
   "cell_type": "code",
   "execution_count": 50,
   "metadata": {
    "collapsed": false,
    "deletable": true,
    "editable": true
   },
   "outputs": [
    {
     "name": "stderr",
     "output_type": "stream",
     "text": [
      "/Users/matthewmurray/anaconda/lib/python3.6/site-packages/sklearn/model_selection/_search.py:667: DeprecationWarning: The grid_scores_ attribute was deprecated in version 0.18 in favor of the more elaborate cv_results_ attribute. The grid_scores_ attribute will not be available from 0.20\n",
      "  DeprecationWarning)\n"
     ]
    },
    {
     "data": {
      "text/plain": [
       "[mean: 0.28369, std: 0.00726, params: {'weights': 'distance', 'n_neighbors': 700},\n",
       " mean: 0.29175, std: 0.00906, params: {'weights': 'distance', 'n_neighbors': 400},\n",
       " mean: 0.28425, std: 0.00824, params: {'weights': 'distance', 'n_neighbors': 600},\n",
       " mean: 0.28825, std: 0.00805, params: {'weights': 'distance', 'n_neighbors': 450},\n",
       " mean: 0.27481, std: 0.00878, params: {'weights': 'uniform', 'n_neighbors': 250},\n",
       " mean: 0.29456, std: 0.00706, params: {'weights': 'distance', 'n_neighbors': 250},\n",
       " mean: 0.24419, std: 0.00793, params: {'weights': 'uniform', 'n_neighbors': 750},\n",
       " mean: 0.25062, std: 0.00764, params: {'weights': 'uniform', 'n_neighbors': 650},\n",
       " mean: 0.27219, std: 0.01084, params: {'weights': 'uniform', 'n_neighbors': 350},\n",
       " mean: 0.29369, std: 0.00511, params: {'weights': 'uniform', 'n_neighbors': 50}]"
      ]
     },
     "execution_count": 50,
     "metadata": {},
     "output_type": "execute_result"
    }
   ],
   "source": [
    "# # n_iter controls the number of searches\n",
    "# knn = KNeighborsClassifier()\n",
    "# rand = RandomizedSearchCV(knn, param_dist, cv=5, scoring='accuracy', n_iter=10, random_state=42)\n",
    "# rand.fit(X, y)\n",
    "# rand.grid_scores_"
   ]
  },
  {
   "cell_type": "code",
   "execution_count": 51,
   "metadata": {
    "collapsed": false,
    "deletable": true,
    "editable": true
   },
   "outputs": [
    {
     "data": {
      "text/plain": [
       "{'mean_fit_time': array([ 0.0672524 ,  0.06082511,  0.06594925,  0.05990233,  0.06035933,\n",
       "         0.06008029,  0.06054153,  0.06154995,  0.06054912,  0.06132159]),\n",
       " 'mean_score_time': array([ 2.94600549,  2.26143312,  2.78876138,  2.35199952,  1.75545793,\n",
       "         1.79904385,  2.85063229,  2.6545836 ,  2.02700744,  1.05474501]),\n",
       " 'mean_test_score': array([ 0.2836875,  0.29175  ,  0.28425  ,  0.28825  ,  0.2748125,\n",
       "         0.2945625,  0.2441875,  0.250625 ,  0.2721875,  0.2936875]),\n",
       " 'mean_train_score': array([ 0.98860938,  0.98860938,  0.98860938,  0.98860938,  0.28523438,\n",
       "         0.98860938,  0.24892188,  0.2540625 ,  0.27820312,  0.33551563]),\n",
       " 'param_n_neighbors': masked_array(data = [700 400 600 450 250 250 750 650 350 50],\n",
       "              mask = [False False False False False False False False False False],\n",
       "        fill_value = ?),\n",
       " 'param_weights': masked_array(data = ['distance' 'distance' 'distance' 'distance' 'uniform' 'distance' 'uniform'\n",
       "  'uniform' 'uniform' 'uniform'],\n",
       "              mask = [False False False False False False False False False False],\n",
       "        fill_value = ?),\n",
       " 'params': ({'n_neighbors': 700, 'weights': 'distance'},\n",
       "  {'n_neighbors': 400, 'weights': 'distance'},\n",
       "  {'n_neighbors': 600, 'weights': 'distance'},\n",
       "  {'n_neighbors': 450, 'weights': 'distance'},\n",
       "  {'n_neighbors': 250, 'weights': 'uniform'},\n",
       "  {'n_neighbors': 250, 'weights': 'distance'},\n",
       "  {'n_neighbors': 750, 'weights': 'uniform'},\n",
       "  {'n_neighbors': 650, 'weights': 'uniform'},\n",
       "  {'n_neighbors': 350, 'weights': 'uniform'},\n",
       "  {'n_neighbors': 50, 'weights': 'uniform'}),\n",
       " 'rank_test_score': array([ 6,  3,  5,  4,  7,  1, 10,  9,  8,  2], dtype=int32),\n",
       " 'split0_test_score': array([ 0.285    ,  0.2946875,  0.2828125,  0.2884375,  0.278125 ,\n",
       "         0.2965625,  0.245    ,  0.249375 ,  0.2771875,  0.2959375]),\n",
       " 'split0_train_score': array([ 0.98929687,  0.98929687,  0.98929687,  0.98929687,  0.28625   ,\n",
       "         0.98929687,  0.24726562,  0.25304688,  0.2796875 ,  0.33539062]),\n",
       " 'split1_test_score': array([ 0.2728125,  0.2778125,  0.2740625,  0.27625  ,  0.2665625,\n",
       "         0.2884375,  0.2309375,  0.2365625,  0.25625  ,  0.295625 ]),\n",
       " 'split1_train_score': array([ 0.98859375,  0.98859375,  0.98859375,  0.98859375,  0.28609375,\n",
       "         0.98859375,  0.25078125,  0.25726562,  0.28054687,  0.33742187]),\n",
       " 'split2_test_score': array([ 0.2940625,  0.2990625,  0.2965625,  0.2978125,  0.2775   ,\n",
       "         0.3025   ,  0.2546875,  0.25875  ,  0.2734375,  0.3009375]),\n",
       " 'split2_train_score': array([ 0.98828125,  0.98828125,  0.98828125,  0.98828125,  0.28539063,\n",
       "         0.98828125,  0.24929688,  0.25421875,  0.27601562,  0.33140625]),\n",
       " 'split3_test_score': array([ 0.2875   ,  0.3021875,  0.2903125,  0.2959375,  0.288125 ,\n",
       "         0.3009375,  0.24875  ,  0.2546875,  0.2884375,  0.289375 ]),\n",
       " 'split3_train_score': array([ 0.988125  ,  0.988125  ,  0.988125  ,  0.988125  ,  0.28242187,\n",
       "         0.988125  ,  0.24921875,  0.25132813,  0.27554688,  0.3353125 ]),\n",
       " 'split4_test_score': array([ 0.2790625,  0.285    ,  0.2775   ,  0.2828125,  0.26375  ,\n",
       "         0.284375 ,  0.2415625,  0.25375  ,  0.265625 ,  0.2865625]),\n",
       " 'split4_train_score': array([ 0.98875   ,  0.98875   ,  0.98875   ,  0.98875   ,  0.28601562,\n",
       "         0.98875   ,  0.24804688,  0.25445313,  0.27921875,  0.33804688]),\n",
       " 'std_fit_time': array([ 0.01187796,  0.00207808,  0.00606522,  0.00183885,  0.00137254,\n",
       "         0.00159117,  0.00154139,  0.00254411,  0.00202818,  0.00232505]),\n",
       " 'std_score_time': array([ 0.04208219,  0.03746843,  0.10635456,  0.01315691,  0.01263452,\n",
       "         0.01163862,  0.02317055,  0.01963618,  0.01446836,  0.01651026]),\n",
       " 'std_test_score': array([ 0.00726023,  0.00906487,  0.00824337,  0.00805159,  0.00878475,\n",
       "         0.00705614,  0.00792691,  0.00763677,  0.01084154,  0.00511355]),\n",
       " 'std_train_score': array([ 0.00040865,  0.00040865,  0.00040865,  0.00040865,  0.00143631,\n",
       "         0.00040865,  0.00119957,  0.00194655,  0.00202824,  0.00232314])}"
      ]
     },
     "execution_count": 51,
     "metadata": {},
     "output_type": "execute_result"
    }
   ],
   "source": [
    "# rand.cv_results_"
   ]
  },
  {
   "cell_type": "code",
   "execution_count": null,
   "metadata": {
    "collapsed": true,
    "deletable": true,
    "editable": true
   },
   "outputs": [],
   "source": [
    "# # view the complete results\n",
    "# grid.grid_scores_"
   ]
  },
  {
   "cell_type": "code",
   "execution_count": 52,
   "metadata": {
    "collapsed": false,
    "deletable": true,
    "editable": true
   },
   "outputs": [
    {
     "name": "stdout",
     "output_type": "stream",
     "text": [
      "0.2945625\n",
      "{'weights': 'distance', 'n_neighbors': 250}\n"
     ]
    }
   ],
   "source": [
    "# # examine the best model\n",
    "# print(rand.best_score_)\n",
    "# print(rand.best_params_)"
   ]
  },
  {
   "cell_type": "code",
   "execution_count": 57,
   "metadata": {
    "collapsed": true,
    "deletable": true,
    "editable": true
   },
   "outputs": [],
   "source": [
    "# best_knn = KNeighborsClassifier(n_neighbors=250, weights='distance')"
   ]
  },
  {
   "cell_type": "code",
   "execution_count": 58,
   "metadata": {
    "collapsed": true,
    "deletable": true,
    "editable": true
   },
   "outputs": [],
   "source": [
    "# y = quick_model_data['category']\n",
    "# X = quick_model_data.drop('category', axis=1)\n",
    "# X_train, X_test, y_train, y_test = train_test_split(X, y, test_size = 0.3, random_state=4444)"
   ]
  },
  {
   "cell_type": "code",
   "execution_count": 59,
   "metadata": {
    "collapsed": false,
    "deletable": true,
    "editable": true
   },
   "outputs": [
    {
     "data": {
      "text/plain": [
       "KNeighborsClassifier(algorithm='auto', leaf_size=30, metric='minkowski',\n",
       "           metric_params=None, n_jobs=1, n_neighbors=250, p=2,\n",
       "           weights='distance')"
      ]
     },
     "execution_count": 59,
     "metadata": {},
     "output_type": "execute_result"
    }
   ],
   "source": [
    "# best_knn.fit(X_train, y_train)"
   ]
  },
  {
   "cell_type": "code",
   "execution_count": 62,
   "metadata": {
    "collapsed": false,
    "deletable": true,
    "editable": true
   },
   "outputs": [],
   "source": [
    "# best_knn_y_pred = best_knn.predict(X_test)"
   ]
  },
  {
   "cell_type": "code",
   "execution_count": 66,
   "metadata": {
    "collapsed": false,
    "deletable": true,
    "editable": true
   },
   "outputs": [
    {
     "name": "stdout",
     "output_type": "stream",
     "text": [
      "             precision    recall  f1-score   support\n",
      "\n",
      "          1       0.37      0.51      0.43      5198\n",
      "          2       0.41      0.37      0.39      1129\n",
      "          3       0.50      0.81      0.62     10110\n",
      "          4       0.55      0.50      0.53      1571\n",
      "          5       0.21      0.04      0.06      3481\n",
      "          6       0.13      0.03      0.05      1275\n",
      "          7       0.57      0.11      0.18      2519\n",
      "          8       0.31      0.07      0.11      2566\n",
      "\n",
      "avg / total       0.41      0.45      0.39     27849\n",
      "\n"
     ]
    }
   ],
   "source": [
    "# y_categories = list(y.unique())\n",
    "# target_names = [y for y in y_categories]\n",
    "print(classification_report(y_test, best_knn_y_pred))"
   ]
  },
  {
   "cell_type": "code",
   "execution_count": 67,
   "metadata": {
    "collapsed": true,
    "deletable": true,
    "editable": true
   },
   "outputs": [],
   "source": [
    "# 'ASSAULT':1\n",
    "# 'SHOPLIFTING/PICKPOCKET':2\n",
    "# 'THEFT FROM AUTO':3\n",
    "# 'DRUG/NARCOTIC':4\n",
    "# 'VANDALISM':5\n",
    "# 'ROBBERY':6\n",
    "# 'VEHICLE THEFT':7\n",
    "# 'THEFT OF PROPERTY':8"
   ]
  },
  {
   "cell_type": "code",
   "execution_count": 80,
   "metadata": {
    "collapsed": false,
    "deletable": true,
    "editable": true
   },
   "outputs": [],
   "source": [
    "# grad = GradientBoostingClassifier(learning_rate=0.2, n_estimators=200, max_depth=4)\n",
    "\n",
    "# # k_range = list(range(1, 31))\n",
    "# # learning_rates = [0.01, 0.05, 0.1, 0.15, 0.2, 0.25, 0.3]\n",
    "# # n_estimators = [50, 75, 100, 125, 150, 175, 200, 225, 250, 300, 325, 350]\n",
    "# # max_depths = [1, 2, 3, 4, 5, 6, 7, 8, 9, 10]\n",
    "\n",
    "# # param_grid = dict(n_neighbors=k_range, weights=weight_options)\n",
    "# # param_dist = dict(learning_rate=0.15, n_estimators=150, max_depth=3)\n",
    "\n",
    "# y = balanced_sample['category']\n",
    "# X = balanced_sample.drop('category', axis=1)\n",
    "\n",
    "# # n_iter controls the number of searches\n",
    "# # rand = RandomizedSearchCV(grad, param_dist, cv=3, scoring='accuracy', n_iter=3, random_state=42)\n",
    "# X_train, X_test, y_train, y_test = train_test_split(X, y, test_size = 0.3, random_state=4444)\n",
    "# # rand.grid_scores_"
   ]
  },
  {
   "cell_type": "code",
   "execution_count": 81,
   "metadata": {
    "collapsed": true,
    "deletable": true,
    "editable": true
   },
   "outputs": [],
   "source": [
    "# # examine the best model\n",
    "# print(rand.best_score_)\n",
    "# print(rand.best_params_)"
   ]
  },
  {
   "cell_type": "code",
   "execution_count": 82,
   "metadata": {
    "collapsed": false,
    "deletable": true,
    "editable": true
   },
   "outputs": [
    {
     "data": {
      "text/plain": [
       "GradientBoostingClassifier(criterion='friedman_mse', init=None,\n",
       "              learning_rate=0.2, loss='deviance', max_depth=4,\n",
       "              max_features=None, max_leaf_nodes=None,\n",
       "              min_impurity_split=1e-07, min_samples_leaf=1,\n",
       "              min_samples_split=2, min_weight_fraction_leaf=0.0,\n",
       "              n_estimators=200, presort='auto', random_state=None,\n",
       "              subsample=1.0, verbose=0, warm_start=False)"
      ]
     },
     "execution_count": 82,
     "metadata": {},
     "output_type": "execute_result"
    }
   ],
   "source": [
    "# grad.fit(X_train, y_train)"
   ]
  },
  {
   "cell_type": "code",
   "execution_count": 83,
   "metadata": {
    "collapsed": false,
    "deletable": true,
    "editable": true
   },
   "outputs": [],
   "source": [
    "# grad_y_pred = grad.predict(X_test)"
   ]
  },
  {
   "cell_type": "code",
   "execution_count": 84,
   "metadata": {
    "collapsed": true,
    "deletable": true,
    "editable": true
   },
   "outputs": [],
   "source": [
    "# score = accuracy_score(y_test, grad_y_pred)"
   ]
  },
  {
   "cell_type": "code",
   "execution_count": 85,
   "metadata": {
    "collapsed": false,
    "deletable": true,
    "editable": true
   },
   "outputs": [
    {
     "data": {
      "text/plain": [
       "0.33916666666666667"
      ]
     },
     "execution_count": 85,
     "metadata": {},
     "output_type": "execute_result"
    }
   ],
   "source": [
    "# score"
   ]
  },
  {
   "cell_type": "code",
   "execution_count": 86,
   "metadata": {
    "collapsed": false,
    "deletable": true,
    "editable": true
   },
   "outputs": [
    {
     "name": "stdout",
     "output_type": "stream",
     "text": [
      "             precision    recall  f1-score   support\n",
      "\n",
      "          1       0.24      0.24      0.24       594\n",
      "          2       0.57      0.64      0.61       577\n",
      "          3       0.32      0.34      0.33       609\n",
      "          4       0.48      0.53      0.51       581\n",
      "          5       0.21      0.20      0.20       582\n",
      "          6       0.23      0.18      0.20       641\n",
      "          7       0.31      0.34      0.32       622\n",
      "          8       0.29      0.27      0.28       594\n",
      "\n",
      "avg / total       0.33      0.34      0.33      4800\n",
      "\n"
     ]
    }
   ],
   "source": [
    "# print(classification_report(y_test, grad_y_pred))"
   ]
  },
  {
   "cell_type": "code",
   "execution_count": 112,
   "metadata": {
    "collapsed": false,
    "deletable": true,
    "editable": true
   },
   "outputs": [
    {
     "data": {
      "text/plain": [
       "RandomForestClassifier(bootstrap=True, class_weight=None, criterion='gini',\n",
       "            max_depth=None, max_features='auto', max_leaf_nodes=None,\n",
       "            min_impurity_split=1e-07, min_samples_leaf=1,\n",
       "            min_samples_split=2, min_weight_fraction_leaf=0.0,\n",
       "            n_estimators=10, n_jobs=1, oob_score=False, random_state=None,\n",
       "            verbose=0, warm_start=False)"
      ]
     },
     "execution_count": 112,
     "metadata": {},
     "output_type": "execute_result"
    }
   ],
   "source": [
    "random_forest = RandomForestClassifier()\n",
    "X_train, X_test, y_train, y_test = train_test_split(X, y, test_size = 0.3, random_state=4444)\n",
    "random_forest.fit(X_train, y_train)"
   ]
  },
  {
   "cell_type": "code",
   "execution_count": 118,
   "metadata": {
    "collapsed": true,
    "deletable": true,
    "editable": true
   },
   "outputs": [],
   "source": [
    "# grad = GradientBoostingClassifier(learning_rate=0.2, n_estimators=200, max_depth=4)\n",
    "\n",
    "# k_range = list(range(1, 31))\n",
    "# learning_rates = [0.01, 0.05, 0.1, 0.15, 0.2, 0.25, 0.3]\n",
    "n_estimators = [2, 5, 10, 20, 40, 50, 75, 100, 125, 150, 175, 200, 225, 250, 300, 325, 350]\n",
    "max_depths = [1, 2, 3, 4, 5, 6, 7, 8, 9, 10]\n",
    "\n",
    "param_grid = dict(n_estimators=n_estimators, max_depth=max_depths)\n",
    "# param_dist = dict(learning_rate=0.15, n_estimators=150, max_depth=3)\n",
    "\n",
    "y = balanced_sample['category']\n",
    "X = balanced_sample.drop('category', axis=1)\n",
    "\n",
    "# n_iter controls the number of searches\n",
    "rand = RandomizedSearchCV(random_forest, param_grid, cv=3)\n",
    "# X_train, X_test, y_train, y_test = train_test_split(X, y, test_size = 0.3, random_state=4444)\n",
    "# rand.grid_scores_"
   ]
  },
  {
   "cell_type": "code",
   "execution_count": 119,
   "metadata": {
    "collapsed": false,
    "deletable": true,
    "editable": true
   },
   "outputs": [
    {
     "data": {
      "text/plain": [
       "RandomizedSearchCV(cv=3, error_score='raise',\n",
       "          estimator=RandomForestClassifier(bootstrap=True, class_weight=None, criterion='gini',\n",
       "            max_depth=None, max_features='auto', max_leaf_nodes=None,\n",
       "            min_impurity_split=1e-07, min_samples_leaf=1,\n",
       "            min_samples_split=2, min_weight_fraction_leaf=0.0,\n",
       "            n_estimators=10, n_jobs=1, oob_score=False, random_state=None,\n",
       "            verbose=0, warm_start=False),\n",
       "          fit_params={}, iid=True, n_iter=10, n_jobs=1,\n",
       "          param_distributions={'n_estimators': [2, 5, 10, 20, 40, 50, 75, 100, 125, 150, 175, 200, 225, 250, 300, 325, 350], 'max_depth': [1, 2, 3, 4, 5, 6, 7, 8, 9, 10]},\n",
       "          pre_dispatch='2*n_jobs', random_state=None, refit=True,\n",
       "          return_train_score=True, scoring=None, verbose=0)"
      ]
     },
     "execution_count": 119,
     "metadata": {},
     "output_type": "execute_result"
    }
   ],
   "source": [
    "rand.fit(X, y)\n",
    "# rand.grid_scores_"
   ]
  },
  {
   "cell_type": "code",
   "execution_count": 120,
   "metadata": {
    "collapsed": false,
    "deletable": true,
    "editable": true
   },
   "outputs": [
    {
     "name": "stderr",
     "output_type": "stream",
     "text": [
      "/Users/matthewmurray/anaconda/lib/python3.6/site-packages/sklearn/model_selection/_search.py:667: DeprecationWarning: The grid_scores_ attribute was deprecated in version 0.18 in favor of the more elaborate cv_results_ attribute. The grid_scores_ attribute will not be available from 0.20\n",
      "  DeprecationWarning)\n"
     ]
    },
    {
     "data": {
      "text/plain": [
       "[mean: 0.30688, std: 0.00338, params: {'n_estimators': 150, 'max_depth': 8},\n",
       " mean: 0.28650, std: 0.00494, params: {'n_estimators': 5, 'max_depth': 7},\n",
       " mean: 0.28181, std: 0.00034, params: {'n_estimators': 250, 'max_depth': 5},\n",
       " mean: 0.30294, std: 0.00857, params: {'n_estimators': 10, 'max_depth': 9},\n",
       " mean: 0.32056, std: 0.00550, params: {'n_estimators': 75, 'max_depth': 10},\n",
       " mean: 0.24538, std: 0.00509, params: {'n_estimators': 225, 'max_depth': 1},\n",
       " mean: 0.26894, std: 0.00483, params: {'n_estimators': 250, 'max_depth': 3},\n",
       " mean: 0.30144, std: 0.00395, params: {'n_estimators': 250, 'max_depth': 7},\n",
       " mean: 0.29037, std: 0.00184, params: {'n_estimators': 200, 'max_depth': 6},\n",
       " mean: 0.30012, std: 0.00239, params: {'n_estimators': 200, 'max_depth': 7}]"
      ]
     },
     "execution_count": 120,
     "metadata": {},
     "output_type": "execute_result"
    }
   ],
   "source": [
    "rand.grid_scores_"
   ]
  },
  {
   "cell_type": "code",
   "execution_count": 122,
   "metadata": {
    "collapsed": false,
    "deletable": true,
    "editable": true
   },
   "outputs": [
    {
     "name": "stdout",
     "output_type": "stream",
     "text": [
      "0.3205625\n",
      "{'n_estimators': 75, 'max_depth': 10}\n"
     ]
    }
   ],
   "source": [
    "print(rand.best_score_)\n",
    "print(rand.best_params_)"
   ]
  },
  {
   "cell_type": "code",
   "execution_count": 123,
   "metadata": {
    "collapsed": true,
    "deletable": true,
    "editable": true
   },
   "outputs": [],
   "source": [
    "new_rand = RandomForestClassifier()"
   ]
  },
  {
   "cell_type": "code",
   "execution_count": 124,
   "metadata": {
    "collapsed": true,
    "deletable": true,
    "editable": true
   },
   "outputs": [],
   "source": [
    "X_train, X_test, y_train, y_test = train_test_split(X, y, test_size = 0.3, random_state=4444)"
   ]
  },
  {
   "cell_type": "code",
   "execution_count": 126,
   "metadata": {
    "collapsed": false,
    "deletable": true,
    "editable": true
   },
   "outputs": [
    {
     "data": {
      "text/plain": [
       "RandomForestClassifier(bootstrap=True, class_weight=None, criterion='gini',\n",
       "            max_depth=10, max_features='auto', max_leaf_nodes=None,\n",
       "            min_impurity_split=1e-07, min_samples_leaf=1,\n",
       "            min_samples_split=2, min_weight_fraction_leaf=0.0,\n",
       "            n_estimators=75, n_jobs=1, oob_score=False, random_state=None,\n",
       "            verbose=0, warm_start=False)"
      ]
     },
     "execution_count": 126,
     "metadata": {},
     "output_type": "execute_result"
    }
   ],
   "source": [
    "new_rand.fit(X_train, y_train)"
   ]
  },
  {
   "cell_type": "code",
   "execution_count": 127,
   "metadata": {
    "collapsed": false,
    "deletable": true,
    "editable": true
   },
   "outputs": [
    {
     "data": {
      "text/plain": [
       "array([ 0.01866316,  0.02517072,  0.01950668,  0.07859484,  0.03590709,\n",
       "        0.06252765,  0.00927506,  0.05750702,  0.02129084,  0.07512296,\n",
       "        0.04746401,  0.05786216,  0.0646771 ,  0.12358718,  0.00734726,\n",
       "        0.00701218,  0.00717028,  0.00844251,  0.00700827,  0.00664661,\n",
       "        0.00690042,  0.00361129,  0.00665685,  0.00459715,  0.00445058,\n",
       "        0.00438447,  0.00091681,  0.00283098,  0.00682869,  0.00133169,\n",
       "        0.01197392,  0.00527692,  0.00468774,  0.00483366,  0.00627543,\n",
       "        0.00619414,  0.00565532,  0.00574805,  0.00634846,  0.00431424,\n",
       "        0.00495701,  0.0055619 ,  0.00426451,  0.00367058,  0.00575331,\n",
       "        0.00053948,  0.00115172,  0.00119234,  0.00829345,  0.0018084 ,\n",
       "        0.00350141,  0.00069436,  0.00295966,  0.00066936,  0.00069639,\n",
       "        0.00018056,  0.00122855,  0.00063233,  0.0001387 ,  0.0007495 ,\n",
       "        0.00083542,  0.00315616,  0.00042054,  0.00012438,  0.0005815 ,\n",
       "        0.00358696,  0.00196056,  0.00115016,  0.00013218,  0.        ,\n",
       "        0.00320276,  0.00367136,  0.00452069,  0.00338134,  0.00191071,\n",
       "        0.00232144,  0.00196209,  0.002256  ,  0.00285829,  0.00347981,\n",
       "        0.00323601,  0.00352557,  0.00354664,  0.00423843,  0.00401124,\n",
       "        0.0043333 ,  0.00364308,  0.00538005,  0.00553506,  0.00477029,\n",
       "        0.00611278,  0.00570294,  0.00590158,  0.00530673])"
      ]
     },
     "execution_count": 127,
     "metadata": {},
     "output_type": "execute_result"
    }
   ],
   "source": [
    "new_rand.feature_importances_"
   ]
  },
  {
   "cell_type": "code",
   "execution_count": 128,
   "metadata": {
    "collapsed": false,
    "deletable": true,
    "editable": true
   },
   "outputs": [],
   "source": [
    "importances = new_rand.feature_importances_"
   ]
  },
  {
   "cell_type": "code",
   "execution_count": 129,
   "metadata": {
    "collapsed": false,
    "deletable": true,
    "editable": true
   },
   "outputs": [
    {
     "name": "stdout",
     "output_type": "stream",
     "text": [
      "Feature ranking:\n",
      "1. feature 13 (0.123587)\n",
      "2. feature 3 (0.078595)\n",
      "3. feature 9 (0.075123)\n",
      "4. feature 12 (0.064677)\n",
      "5. feature 5 (0.062528)\n",
      "6. feature 11 (0.057862)\n",
      "7. feature 7 (0.057507)\n",
      "8. feature 10 (0.047464)\n",
      "9. feature 4 (0.035907)\n",
      "10. feature 1 (0.025171)\n",
      "11. feature 8 (0.021291)\n",
      "12. feature 2 (0.019507)\n",
      "13. feature 0 (0.018663)\n",
      "14. feature 30 (0.011974)\n",
      "15. feature 6 (0.009275)\n",
      "16. feature 17 (0.008443)\n",
      "17. feature 48 (0.008293)\n",
      "18. feature 14 (0.007347)\n",
      "19. feature 16 (0.007170)\n",
      "20. feature 15 (0.007012)\n",
      "21. feature 18 (0.007008)\n",
      "22. feature 20 (0.006900)\n",
      "23. feature 28 (0.006829)\n",
      "24. feature 22 (0.006657)\n",
      "25. feature 19 (0.006647)\n",
      "26. feature 38 (0.006348)\n",
      "27. feature 34 (0.006275)\n",
      "28. feature 35 (0.006194)\n",
      "29. feature 90 (0.006113)\n",
      "30. feature 92 (0.005902)\n",
      "31. feature 44 (0.005753)\n",
      "32. feature 37 (0.005748)\n",
      "33. feature 91 (0.005703)\n",
      "34. feature 36 (0.005655)\n",
      "35. feature 41 (0.005562)\n",
      "36. feature 88 (0.005535)\n",
      "37. feature 87 (0.005380)\n",
      "38. feature 93 (0.005307)\n",
      "39. feature 31 (0.005277)\n",
      "40. feature 40 (0.004957)\n",
      "41. feature 33 (0.004834)\n",
      "42. feature 89 (0.004770)\n",
      "43. feature 32 (0.004688)\n",
      "44. feature 23 (0.004597)\n",
      "45. feature 72 (0.004521)\n",
      "46. feature 24 (0.004451)\n",
      "47. feature 25 (0.004384)\n",
      "48. feature 85 (0.004333)\n",
      "49. feature 39 (0.004314)\n",
      "50. feature 42 (0.004265)\n",
      "51. feature 83 (0.004238)\n",
      "52. feature 84 (0.004011)\n",
      "53. feature 71 (0.003671)\n",
      "54. feature 43 (0.003671)\n",
      "55. feature 86 (0.003643)\n",
      "56. feature 21 (0.003611)\n",
      "57. feature 65 (0.003587)\n",
      "58. feature 82 (0.003547)\n",
      "59. feature 81 (0.003526)\n",
      "60. feature 50 (0.003501)\n",
      "61. feature 79 (0.003480)\n",
      "62. feature 73 (0.003381)\n",
      "63. feature 80 (0.003236)\n",
      "64. feature 70 (0.003203)\n",
      "65. feature 61 (0.003156)\n",
      "66. feature 52 (0.002960)\n",
      "67. feature 78 (0.002858)\n",
      "68. feature 27 (0.002831)\n",
      "69. feature 75 (0.002321)\n",
      "70. feature 77 (0.002256)\n",
      "71. feature 76 (0.001962)\n",
      "72. feature 66 (0.001961)\n",
      "73. feature 74 (0.001911)\n",
      "74. feature 49 (0.001808)\n",
      "75. feature 29 (0.001332)\n",
      "76. feature 56 (0.001229)\n",
      "77. feature 47 (0.001192)\n",
      "78. feature 46 (0.001152)\n",
      "79. feature 67 (0.001150)\n",
      "80. feature 26 (0.000917)\n",
      "81. feature 60 (0.000835)\n",
      "82. feature 59 (0.000750)\n",
      "83. feature 54 (0.000696)\n",
      "84. feature 51 (0.000694)\n",
      "85. feature 53 (0.000669)\n",
      "86. feature 57 (0.000632)\n",
      "87. feature 64 (0.000582)\n",
      "88. feature 45 (0.000539)\n",
      "89. feature 62 (0.000421)\n",
      "90. feature 55 (0.000181)\n",
      "91. feature 58 (0.000139)\n",
      "92. feature 68 (0.000132)\n",
      "93. feature 63 (0.000124)\n",
      "94. feature 69 (0.000000)\n"
     ]
    }
   ],
   "source": [
    "std = np.std([tree.feature_importances_ for tree in new_rand.estimators_],\n",
    "             axis=0)\n",
    "indices = np.argsort(importances)[::-1]\n",
    "\n",
    "# Print the feature ranking\n",
    "print(\"Feature ranking:\")\n",
    "\n",
    "for f in range(X.shape[1]):\n",
    "    print(\"%d. feature %d (%f)\" % (f + 1, indices[f], importances[indices[f]]))"
   ]
  },
  {
   "cell_type": "code",
   "execution_count": 130,
   "metadata": {
    "collapsed": false,
    "deletable": true,
    "editable": true
   },
   "outputs": [
    {
     "data": {
      "text/plain": [
       "Index(['pop10_sqmi', 'median_income', 'z_index', 'dist_to_train_station',\n",
       "       'num_close_train_stations', 'dist_to_police_station',\n",
       "       'num_close_police_stations', 'dist_to_dispensary',\n",
       "       'num_close_dispensaries', 'dist_to_health_facility',\n",
       "       'num_close_health_facilities', 'dist_to_shelter', 'num_close_shelters',\n",
       "       'dist_to_union_sq', 'day_of_week_Friday', 'day_of_week_Monday',\n",
       "       'day_of_week_Saturday', 'day_of_week_Sunday', 'day_of_week_Thursday',\n",
       "       'day_of_week_Tuesday', 'day_of_week_Wednesday', 'pd_district_BAYVIEW',\n",
       "       'pd_district_CENTRAL', 'pd_district_INGLESIDE', 'pd_district_MISSION',\n",
       "       'pd_district_NORTHERN', 'pd_district_PARK', 'pd_district_RICHMOND',\n",
       "       'pd_district_SOUTHERN', 'pd_district_TARAVAL', 'pd_district_TENDERLOIN',\n",
       "       'month_Apr', 'month_Aug', 'month_Dec', 'month_Feb', 'month_Jan',\n",
       "       'month_Jul', 'month_Jun', 'month_Mar', 'month_May', 'month_Nov',\n",
       "       'month_Oct', 'month_Sep', 'zip_code_94102', 'zip_code_94103',\n",
       "       'zip_code_94104', 'zip_code_94105', 'zip_code_94107', 'zip_code_94108',\n",
       "       'zip_code_94109', 'zip_code_94110', 'zip_code_94111', 'zip_code_94112',\n",
       "       'zip_code_94114', 'zip_code_94115', 'zip_code_94116', 'zip_code_94117',\n",
       "       'zip_code_94118', 'zip_code_94121', 'zip_code_94122', 'zip_code_94123',\n",
       "       'zip_code_94124', 'zip_code_94127', 'zip_code_94130', 'zip_code_94131',\n",
       "       'zip_code_94132', 'zip_code_94133', 'zip_code_94134', 'zip_code_94158',\n",
       "       'zip_code_nan', 'hour_of_day_0', 'hour_of_day_1', 'hour_of_day_2',\n",
       "       'hour_of_day_3', 'hour_of_day_4', 'hour_of_day_5', 'hour_of_day_6',\n",
       "       'hour_of_day_7', 'hour_of_day_8', 'hour_of_day_9', 'hour_of_day_10',\n",
       "       'hour_of_day_11', 'hour_of_day_12', 'hour_of_day_13', 'hour_of_day_14',\n",
       "       'hour_of_day_15', 'hour_of_day_16', 'hour_of_day_17', 'hour_of_day_18',\n",
       "       'hour_of_day_19', 'hour_of_day_20', 'hour_of_day_21', 'hour_of_day_22',\n",
       "       'hour_of_day_23'],\n",
       "      dtype='object')"
      ]
     },
     "execution_count": 130,
     "metadata": {},
     "output_type": "execute_result"
    }
   ],
   "source": [
    "X_train.columns"
   ]
  },
  {
   "cell_type": "code",
   "execution_count": 131,
   "metadata": {
    "collapsed": false,
    "deletable": true,
    "editable": true
   },
   "outputs": [
    {
     "data": {
      "text/plain": [
       "LogisticRegression(C=1.0, class_weight=None, dual=False, fit_intercept=True,\n",
       "          intercept_scaling=1, max_iter=100, multi_class='ovr', n_jobs=1,\n",
       "          penalty='l2', random_state=None, solver='liblinear', tol=0.0001,\n",
       "          verbose=0, warm_start=False)"
      ]
     },
     "execution_count": 131,
     "metadata": {},
     "output_type": "execute_result"
    }
   ],
   "source": [
    "new_log = LogisticRegression()\n",
    "X_train, X_test, y_train, y_test = train_test_split(X, y, test_size = 0.3, random_state=4444)\n",
    "new_log.fit(X_train, y_train)"
   ]
  },
  {
   "cell_type": "code",
   "execution_count": 132,
   "metadata": {
    "collapsed": true,
    "deletable": true,
    "editable": true
   },
   "outputs": [],
   "source": [
    "log_y_pred = new_log.predict(X_test)"
   ]
  },
  {
   "cell_type": "code",
   "execution_count": 133,
   "metadata": {
    "collapsed": false,
    "deletable": true,
    "editable": true
   },
   "outputs": [
    {
     "data": {
      "text/plain": [
       "0.28749999999999998"
      ]
     },
     "execution_count": 133,
     "metadata": {},
     "output_type": "execute_result"
    }
   ],
   "source": [
    "score = accuracy_score(y_test, log_y_pred)\n",
    "score"
   ]
  }
 ],
 "metadata": {
  "kernelspec": {
   "display_name": "Python 3",
   "language": "python",
   "name": "python3"
  },
  "language_info": {
   "codemirror_mode": {
    "name": "ipython",
    "version": 3
   },
   "file_extension": ".py",
   "mimetype": "text/x-python",
   "name": "python",
   "nbconvert_exporter": "python",
   "pygments_lexer": "ipython3",
   "version": "3.6.0"
  }
 },
 "nbformat": 4,
 "nbformat_minor": 2
}
