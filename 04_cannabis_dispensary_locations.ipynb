{
 "cells": [
  {
   "cell_type": "markdown",
   "metadata": {},
   "source": [
    "## Dispensary Location Data"
   ]
  },
  {
   "cell_type": "markdown",
   "metadata": {},
   "source": [
    "### Imports"
   ]
  },
  {
   "cell_type": "code",
   "execution_count": 1,
   "metadata": {
    "collapsed": true,
    "deletable": true,
    "editable": true
   },
   "outputs": [],
   "source": [
    "import pandas as pd\n",
    "import numpy as np\n",
    "import geopandas\n",
    "import geopandas.tools\n",
    "from shapely.geometry import Point\n",
    "import pickle"
   ]
  },
  {
   "cell_type": "markdown",
   "metadata": {},
   "source": [
    "### Open & Process Data"
   ]
  },
  {
   "cell_type": "markdown",
   "metadata": {},
   "source": [
    "Data was downloaded from the SF Open Data website"
   ]
  },
  {
   "cell_type": "code",
   "execution_count": 2,
   "metadata": {
    "collapsed": false,
    "deletable": true,
    "editable": true
   },
   "outputs": [],
   "source": [
    "dispensary_locations = pd.read_csv('Cannabis_GeocodeFinal.csv')\n",
    "dispensary_locations['lat_lng'] = dispensary_locations['the_geom'].apply(lambda x: x[x.find(\"(\")+1:x.find(\")\")])"
   ]
  },
  {
   "cell_type": "code",
   "execution_count": 3,
   "metadata": {
    "collapsed": false,
    "deletable": true,
    "editable": true
   },
   "outputs": [],
   "source": [
    "dispensary_locations = dispensary_locations[dispensary_locations['Location_T'] == 'Fixed']"
   ]
  },
  {
   "cell_type": "code",
   "execution_count": 4,
   "metadata": {
    "collapsed": false,
    "deletable": true,
    "editable": true
   },
   "outputs": [],
   "source": [
    "dispensary_locations = dispensary_locations[['Business_N','the_geom','lat_lng']]"
   ]
  },
  {
   "cell_type": "code",
   "execution_count": 5,
   "metadata": {
    "collapsed": false,
    "deletable": true,
    "editable": true
   },
   "outputs": [],
   "source": [
    "dispensary_locations['lat'] = dispensary_locations['lat_lng'].apply(lambda x: float(x.split(' ')[0]))"
   ]
  },
  {
   "cell_type": "code",
   "execution_count": 6,
   "metadata": {
    "collapsed": false,
    "deletable": true,
    "editable": true
   },
   "outputs": [],
   "source": [
    "dispensary_locations['lng'] = dispensary_locations['lat_lng'].apply(lambda x: float(x.split(' ')[1]))"
   ]
  },
  {
   "cell_type": "code",
   "execution_count": 7,
   "metadata": {
    "collapsed": false,
    "deletable": true,
    "editable": true
   },
   "outputs": [],
   "source": [
    "dispensary_locations.drop(['Business_N','the_geom','lat_lng'], axis=1, inplace=True)\n",
    "dispensary_locations['geometry'] = dispensary_locations.apply(lambda row: Point(row['lat'], row['lng']), axis=1)"
   ]
  },
  {
   "cell_type": "code",
   "execution_count": 8,
   "metadata": {
    "collapsed": false,
    "deletable": true,
    "editable": true
   },
   "outputs": [],
   "source": [
    "dispensary_locations.drop(['lat','lng'], axis=1, inplace=True)\n",
    "dispensary_locations = geopandas.GeoDataFrame(dispensary_locations, geometry='geometry')"
   ]
  },
  {
   "cell_type": "code",
   "execution_count": 9,
   "metadata": {
    "collapsed": false,
    "deletable": true,
    "editable": true
   },
   "outputs": [
    {
     "data": {
      "text/html": [
       "<div>\n",
       "<table border=\"1\" class=\"dataframe\">\n",
       "  <thead>\n",
       "    <tr style=\"text-align: right;\">\n",
       "      <th></th>\n",
       "      <th>geometry</th>\n",
       "    </tr>\n",
       "  </thead>\n",
       "  <tbody>\n",
       "    <tr>\n",
       "      <th>0</th>\n",
       "      <td>POINT (-122.4194132797827 37.78662965327916)</td>\n",
       "    </tr>\n",
       "    <tr>\n",
       "      <th>1</th>\n",
       "      <td>POINT (-122.4298778642076 37.77189194436477)</td>\n",
       "    </tr>\n",
       "    <tr>\n",
       "      <th>2</th>\n",
       "      <td>POINT (-122.4385234945558 37.77606702194213)</td>\n",
       "    </tr>\n",
       "    <tr>\n",
       "      <th>3</th>\n",
       "      <td>POINT (-122.4711317429206 37.7804004970458)</td>\n",
       "    </tr>\n",
       "    <tr>\n",
       "      <th>4</th>\n",
       "      <td>POINT (-122.4635424309064 37.72602894819491)</td>\n",
       "    </tr>\n",
       "    <tr>\n",
       "      <th>5</th>\n",
       "      <td>POINT (-122.4228656633051 37.77187451788744)</td>\n",
       "    </tr>\n",
       "    <tr>\n",
       "      <th>6</th>\n",
       "      <td>POINT (-122.4158289675155 37.77471790613143)</td>\n",
       "    </tr>\n",
       "    <tr>\n",
       "      <th>8</th>\n",
       "      <td>POINT (-122.4165499896795 37.77175941108176)</td>\n",
       "    </tr>\n",
       "    <tr>\n",
       "      <th>9</th>\n",
       "      <td>POINT (-122.4225934045848 37.7685208393546)</td>\n",
       "    </tr>\n",
       "    <tr>\n",
       "      <th>10</th>\n",
       "      <td>POINT (-122.4247023065871 37.76813903041374)</td>\n",
       "    </tr>\n",
       "    <tr>\n",
       "      <th>11</th>\n",
       "      <td>POINT (-122.4286110473127 37.76732690675256)</td>\n",
       "    </tr>\n",
       "    <tr>\n",
       "      <th>12</th>\n",
       "      <td>POINT (-122.4194239299651 37.76616901981341)</td>\n",
       "    </tr>\n",
       "    <tr>\n",
       "      <th>13</th>\n",
       "      <td>POINT (-122.418630582303 37.75793853636608)</td>\n",
       "    </tr>\n",
       "    <tr>\n",
       "      <th>14</th>\n",
       "      <td>POINT (-122.4192716466772 37.75661589791826)</td>\n",
       "    </tr>\n",
       "    <tr>\n",
       "      <th>15</th>\n",
       "      <td>POINT (-122.4142250816139 37.7769608418043)</td>\n",
       "    </tr>\n",
       "    <tr>\n",
       "      <th>17</th>\n",
       "      <td>POINT (-122.4078592222111 37.78205624539241)</td>\n",
       "    </tr>\n",
       "    <tr>\n",
       "      <th>18</th>\n",
       "      <td>POINT (-122.4082875677529 37.78194161699519)</td>\n",
       "    </tr>\n",
       "    <tr>\n",
       "      <th>19</th>\n",
       "      <td>POINT (-122.4004426280976 37.78822651455405)</td>\n",
       "    </tr>\n",
       "    <tr>\n",
       "      <th>20</th>\n",
       "      <td>POINT (-122.4035278374564 37.78228184866846)</td>\n",
       "    </tr>\n",
       "    <tr>\n",
       "      <th>21</th>\n",
       "      <td>POINT (-122.39641441032 37.787741576677)</td>\n",
       "    </tr>\n",
       "    <tr>\n",
       "      <th>22</th>\n",
       "      <td>POINT (-122.4186528206712 37.74699804741445)</td>\n",
       "    </tr>\n",
       "    <tr>\n",
       "      <th>23</th>\n",
       "      <td>POINT (-122.4216292310074 37.74382352829187)</td>\n",
       "    </tr>\n",
       "    <tr>\n",
       "      <th>24</th>\n",
       "      <td>POINT (-122.4306453071126 37.72977412109174)</td>\n",
       "    </tr>\n",
       "    <tr>\n",
       "      <th>25</th>\n",
       "      <td>POINT (-122.4589621611546 37.72418825884432)</td>\n",
       "    </tr>\n",
       "    <tr>\n",
       "      <th>26</th>\n",
       "      <td>POINT (-122.4421778245459 37.71539174518049)</td>\n",
       "    </tr>\n",
       "    <tr>\n",
       "      <th>27</th>\n",
       "      <td>POINT (-122.4424184059655 37.71517896740453)</td>\n",
       "    </tr>\n",
       "  </tbody>\n",
       "</table>\n",
       "</div>"
      ],
      "text/plain": [
       "                                        geometry\n",
       "0   POINT (-122.4194132797827 37.78662965327916)\n",
       "1   POINT (-122.4298778642076 37.77189194436477)\n",
       "2   POINT (-122.4385234945558 37.77606702194213)\n",
       "3    POINT (-122.4711317429206 37.7804004970458)\n",
       "4   POINT (-122.4635424309064 37.72602894819491)\n",
       "5   POINT (-122.4228656633051 37.77187451788744)\n",
       "6   POINT (-122.4158289675155 37.77471790613143)\n",
       "8   POINT (-122.4165499896795 37.77175941108176)\n",
       "9    POINT (-122.4225934045848 37.7685208393546)\n",
       "10  POINT (-122.4247023065871 37.76813903041374)\n",
       "11  POINT (-122.4286110473127 37.76732690675256)\n",
       "12  POINT (-122.4194239299651 37.76616901981341)\n",
       "13   POINT (-122.418630582303 37.75793853636608)\n",
       "14  POINT (-122.4192716466772 37.75661589791826)\n",
       "15   POINT (-122.4142250816139 37.7769608418043)\n",
       "17  POINT (-122.4078592222111 37.78205624539241)\n",
       "18  POINT (-122.4082875677529 37.78194161699519)\n",
       "19  POINT (-122.4004426280976 37.78822651455405)\n",
       "20  POINT (-122.4035278374564 37.78228184866846)\n",
       "21      POINT (-122.39641441032 37.787741576677)\n",
       "22  POINT (-122.4186528206712 37.74699804741445)\n",
       "23  POINT (-122.4216292310074 37.74382352829187)\n",
       "24  POINT (-122.4306453071126 37.72977412109174)\n",
       "25  POINT (-122.4589621611546 37.72418825884432)\n",
       "26  POINT (-122.4421778245459 37.71539174518049)\n",
       "27  POINT (-122.4424184059655 37.71517896740453)"
      ]
     },
     "execution_count": 9,
     "metadata": {},
     "output_type": "execute_result"
    }
   ],
   "source": [
    "dispensary_locations.crs = {\"init\": \"epsg:4326\"}\n",
    "dispensary_locations"
   ]
  },
  {
   "cell_type": "markdown",
   "metadata": {},
   "source": [
    "### Save Data"
   ]
  },
  {
   "cell_type": "code",
   "execution_count": 10,
   "metadata": {
    "collapsed": true,
    "deletable": true,
    "editable": true
   },
   "outputs": [],
   "source": [
    "pickle.dump(dispensary_locations, open('dispensary_locations.pkl', 'wb'))"
   ]
  }
 ],
 "metadata": {
  "kernelspec": {
   "display_name": "Python 3",
   "language": "python",
   "name": "python3"
  },
  "language_info": {
   "codemirror_mode": {
    "name": "ipython",
    "version": 3
   },
   "file_extension": ".py",
   "mimetype": "text/x-python",
   "name": "python",
   "nbconvert_exporter": "python",
   "pygments_lexer": "ipython3",
   "version": "3.6.0"
  }
 },
 "nbformat": 4,
 "nbformat_minor": 2
}
